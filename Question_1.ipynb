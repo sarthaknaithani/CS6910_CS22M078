{
  "cells": [
    {
      "cell_type": "markdown",
      "metadata": {
        "id": "view-in-github",
        "colab_type": "text"
      },
      "source": [
        "<a href=\"https://colab.research.google.com/github/sarthaknaithani/CS6910_CS22M078/blob/main/Question_1.ipynb\" target=\"_parent\"><img src=\"https://colab.research.google.com/assets/colab-badge.svg\" alt=\"Open In Colab\"/></a>"
      ]
    },
    {
      "cell_type": "code",
      "source": [
        "pip install wandb"
      ],
      "metadata": {
        "id": "-JxjJRw85SzU",
        "colab": {
          "base_uri": "https://localhost:8080/"
        },
        "outputId": "e36367be-b0f6-4a3e-87c9-3fd9fd5bd758"
      },
      "execution_count": 3,
      "outputs": [
        {
          "output_type": "stream",
          "name": "stdout",
          "text": [
            "Looking in indexes: https://pypi.org/simple, https://us-python.pkg.dev/colab-wheels/public/simple/\n",
            "Requirement already satisfied: wandb in /usr/local/lib/python3.8/dist-packages (0.13.10)\n",
            "Requirement already satisfied: GitPython>=1.0.0 in /usr/local/lib/python3.8/dist-packages (from wandb) (3.1.31)\n",
            "Requirement already satisfied: PyYAML in /usr/local/lib/python3.8/dist-packages (from wandb) (6.0)\n",
            "Requirement already satisfied: protobuf!=4.21.0,<5,>=3.12.0 in /usr/local/lib/python3.8/dist-packages (from wandb) (3.19.6)\n",
            "Requirement already satisfied: appdirs>=1.4.3 in /usr/local/lib/python3.8/dist-packages (from wandb) (1.4.4)\n",
            "Requirement already satisfied: setuptools in /usr/local/lib/python3.8/dist-packages (from wandb) (57.4.0)\n",
            "Requirement already satisfied: requests<3,>=2.0.0 in /usr/local/lib/python3.8/dist-packages (from wandb) (2.25.1)\n",
            "Requirement already satisfied: psutil>=5.0.0 in /usr/local/lib/python3.8/dist-packages (from wandb) (5.4.8)\n",
            "Requirement already satisfied: pathtools in /usr/local/lib/python3.8/dist-packages (from wandb) (0.1.2)\n",
            "Requirement already satisfied: sentry-sdk>=1.0.0 in /usr/local/lib/python3.8/dist-packages (from wandb) (1.15.0)\n",
            "Requirement already satisfied: docker-pycreds>=0.4.0 in /usr/local/lib/python3.8/dist-packages (from wandb) (0.4.0)\n",
            "Requirement already satisfied: Click!=8.0.0,>=7.0 in /usr/local/lib/python3.8/dist-packages (from wandb) (7.1.2)\n",
            "Requirement already satisfied: setproctitle in /usr/local/lib/python3.8/dist-packages (from wandb) (1.3.2)\n",
            "Requirement already satisfied: typing-extensions in /usr/local/lib/python3.8/dist-packages (from wandb) (4.5.0)\n",
            "Requirement already satisfied: six>=1.4.0 in /usr/local/lib/python3.8/dist-packages (from docker-pycreds>=0.4.0->wandb) (1.15.0)\n",
            "Requirement already satisfied: gitdb<5,>=4.0.1 in /usr/local/lib/python3.8/dist-packages (from GitPython>=1.0.0->wandb) (4.0.10)\n",
            "Requirement already satisfied: urllib3<1.27,>=1.21.1 in /usr/local/lib/python3.8/dist-packages (from requests<3,>=2.0.0->wandb) (1.26.14)\n",
            "Requirement already satisfied: certifi>=2017.4.17 in /usr/local/lib/python3.8/dist-packages (from requests<3,>=2.0.0->wandb) (2022.12.7)\n",
            "Requirement already satisfied: chardet<5,>=3.0.2 in /usr/local/lib/python3.8/dist-packages (from requests<3,>=2.0.0->wandb) (4.0.0)\n",
            "Requirement already satisfied: idna<3,>=2.5 in /usr/local/lib/python3.8/dist-packages (from requests<3,>=2.0.0->wandb) (2.10)\n",
            "Requirement already satisfied: smmap<6,>=3.0.1 in /usr/local/lib/python3.8/dist-packages (from gitdb<5,>=4.0.1->GitPython>=1.0.0->wandb) (5.0.0)\n"
          ]
        }
      ]
    },
    {
      "cell_type": "code",
      "source": [
        "import wandb\n",
        "wandb.login()"
      ],
      "metadata": {
        "id": "f1mupVZB5W3Y",
        "colab": {
          "base_uri": "https://localhost:8080/"
        },
        "outputId": "a2184dc2-d0be-44e3-da4c-1da53151728f"
      },
      "execution_count": 4,
      "outputs": [
        {
          "output_type": "stream",
          "name": "stderr",
          "text": [
            "ERROR:wandb.jupyter:Failed to detect the name of this notebook, you can set it manually with the WANDB_NOTEBOOK_NAME environment variable to enable code saving.\n",
            "\u001b[34m\u001b[1mwandb\u001b[0m: Currently logged in as: \u001b[33mcs22m078\u001b[0m. Use \u001b[1m`wandb login --relogin`\u001b[0m to force relogin\n"
          ]
        },
        {
          "output_type": "execute_result",
          "data": {
            "text/plain": [
              "True"
            ]
          },
          "metadata": {},
          "execution_count": 4
        }
      ]
    },
    {
      "cell_type": "code",
      "source": [
        "# start a new wandb run to track this script\n",
        "wandb.init(\n",
        "    # set the wandb project where this run will be logged\n",
        "    project=\"CS6910_Assignment-1\",\n",
        ")\n",
        "\n",
        "# simulate training\n",
        "from keras.datasets import fashion_mnist\n",
        "import pandas as pd\n",
        "import numpy as np\n",
        "import matplotlib.pyplot as plt\n",
        "# x_train is a (60000,28,28) matrix consisting image pixels for training\n",
        "# y_train is a (60000,1) matrix consisting of labels\n",
        "# x_test is a (10000,28,28) matrix consisting image pixels for testing\n",
        "# y_test is a (10000,1) matrix consisting of labels for testing\n",
        "(x_train, y_train), (x_test, y_test) =fashion_mnist.load_data()\n",
        "labels=set()\n",
        "i=0\n",
        "fig,ax=plt.subplots(2,5,figsize=(10,5))\n",
        "row=0\n",
        "col=0\n",
        "for pixels in x_train:\n",
        "  #The matplotlib function imshow() creates an image from a 2-dimensional numpy array\n",
        "  #pixels is (28,28) 2-D array\n",
        "  #l is the current label of image\n",
        "  l=y_train[i]\n",
        "  if(not(l in labels)):\n",
        "    if(col>=5):\n",
        "      col=0\n",
        "      row+=1\n",
        "    ax[row][col].imshow(pixels,cmap=\"gray\")\n",
        "    ax[row][col].set_title(\"Label {}\".format(l))\n",
        "    ax[row][col].axis(False)\n",
        "    labels.add(l)\n",
        "    col+=1\n",
        "  #if we get all our 10 labels just break the loop\n",
        "  if(len(labels)==10):\n",
        "    break;\n",
        "  i+=1\n",
        "wandb.log({\"plot\":plt})   \n",
        "# finish the wandb run, necessary in notebooks\n",
        "wandb.finish()"
      ],
      "metadata": {
        "colab": {
          "base_uri": "https://localhost:8080/",
          "height": 511,
          "referenced_widgets": [
            "b4bc8a185ca74f25a4af760d37afd7d6",
            "1a5a494fc5de4818a871769adadc0bdb",
            "1e711035496547ad8e89f812367a99ea",
            "e5d1aedd2b1a4775a819b7c03f08131f",
            "99f14b2656dd47db8c9c3c8f1edd0dfb",
            "7456c9e51e3e44e2a23883ea05f590bc",
            "792831dbbf1242b288269e1924ba3691",
            "37886f7602d34568bd4d71f1b19a47f5"
          ]
        },
        "id": "BklmxTvN5fnv",
        "outputId": "0bc9d7e6-3ec8-4e4d-c59b-898f1854ff7c"
      },
      "execution_count": 5,
      "outputs": [
        {
          "output_type": "display_data",
          "data": {
            "text/plain": [
              "<IPython.core.display.HTML object>"
            ],
            "text/html": [
              "Tracking run with wandb version 0.13.10"
            ]
          },
          "metadata": {}
        },
        {
          "output_type": "display_data",
          "data": {
            "text/plain": [
              "<IPython.core.display.HTML object>"
            ],
            "text/html": [
              "Run data is saved locally in <code>/content/wandb/run-20230224_125738-mpi80xut</code>"
            ]
          },
          "metadata": {}
        },
        {
          "output_type": "display_data",
          "data": {
            "text/plain": [
              "<IPython.core.display.HTML object>"
            ],
            "text/html": [
              "Syncing run <strong><a href='https://wandb.ai/cs22m078/CS6910_Assignment-1/runs/mpi80xut' target=\"_blank\">lively-pond-38</a></strong> to <a href='https://wandb.ai/cs22m078/CS6910_Assignment-1' target=\"_blank\">Weights & Biases</a> (<a href='https://wandb.me/run' target=\"_blank\">docs</a>)<br/>"
            ]
          },
          "metadata": {}
        },
        {
          "output_type": "display_data",
          "data": {
            "text/plain": [
              "<IPython.core.display.HTML object>"
            ],
            "text/html": [
              " View project at <a href='https://wandb.ai/cs22m078/CS6910_Assignment-1' target=\"_blank\">https://wandb.ai/cs22m078/CS6910_Assignment-1</a>"
            ]
          },
          "metadata": {}
        },
        {
          "output_type": "display_data",
          "data": {
            "text/plain": [
              "<IPython.core.display.HTML object>"
            ],
            "text/html": [
              " View run at <a href='https://wandb.ai/cs22m078/CS6910_Assignment-1/runs/mpi80xut' target=\"_blank\">https://wandb.ai/cs22m078/CS6910_Assignment-1/runs/mpi80xut</a>"
            ]
          },
          "metadata": {}
        },
        {
          "output_type": "display_data",
          "data": {
            "text/plain": [
              "<IPython.core.display.HTML object>"
            ],
            "text/html": [
              "Waiting for W&B process to finish... <strong style=\"color:green\">(success).</strong>"
            ]
          },
          "metadata": {}
        },
        {
          "output_type": "display_data",
          "data": {
            "text/plain": [
              "VBox(children=(Label(value='0.019 MB of 0.026 MB uploaded (0.000 MB deduped)\\r'), FloatProgress(value=0.701168…"
            ],
            "application/vnd.jupyter.widget-view+json": {
              "version_major": 2,
              "version_minor": 0,
              "model_id": "b4bc8a185ca74f25a4af760d37afd7d6"
            }
          },
          "metadata": {}
        },
        {
          "output_type": "display_data",
          "data": {
            "text/plain": [
              "<IPython.core.display.HTML object>"
            ],
            "text/html": [
              " View run <strong style=\"color:#cdcd00\">lively-pond-38</strong> at: <a href='https://wandb.ai/cs22m078/CS6910_Assignment-1/runs/mpi80xut' target=\"_blank\">https://wandb.ai/cs22m078/CS6910_Assignment-1/runs/mpi80xut</a><br/>Synced 4 W&B file(s), 1 media file(s), 0 artifact file(s) and 0 other file(s)"
            ]
          },
          "metadata": {}
        },
        {
          "output_type": "display_data",
          "data": {
            "text/plain": [
              "<IPython.core.display.HTML object>"
            ],
            "text/html": [
              "Find logs at: <code>./wandb/run-20230224_125738-mpi80xut/logs</code>"
            ]
          },
          "metadata": {}
        },
        {
          "output_type": "display_data",
          "data": {
            "text/plain": [
              "<Figure size 720x360 with 10 Axes>"
            ],
            "image/png": "[encoded data removed]"
          },
          "metadata": {
            "needs_background": "light"
          }
        }
      ]
    },
    {
      "cell_type": "markdown",
      "source": [
        "# INITIALIZING THE PARAMETERS"
      ],
      "metadata": {
        "id": "HPifAgzchDBC"
      }
    },
    {
      "cell_type": "code",
      "source": [
        "#USING XAVIER INITIALIZATION TO INITIALIZE WEIGHTS AND BIAS MATRIX\n",
        "# h=int(input('Enter no. of hidden layers '))\n",
        "h=3\n",
        "neurons=[64,64,64]\n",
        "weights=[]\n",
        "biases=[]\n",
        "np.random.seed(42)\n",
        "for i in range(0,h):\n",
        "  # n=int(input('Enter no. of neurons in {} hidden layer '.format(i+1)))\n",
        "  # neurons.append(n)\n",
        "  n=neurons[i]\n",
        "  # appending the weight and bias matrix for the ith layer\n",
        "  if(i==0):\n",
        "    weights.append(np.random.randn(n,784)*np.sqrt(2/(n+784)))\n",
        "    # biases.append(np.random.randn(n,1)*np.sqrt(2/(n+1)))\n",
        "    biases.append(np.zeros((n,1)))\n",
        "\n",
        "  else:\n",
        "    weights.append(np.random.randn(n,neurons[i-1])*np.sqrt(2/(n+neurons[i-1])))\n",
        "    # biases.append(np.random.randn(n,1)*np.sqrt(2/(n+1)))\n",
        "    biases.append(np.zeros((n,1)))\n",
        "weights.append(np.random.randn(10,neurons[h-1])*np.sqrt(2/(10+neurons[h-1])))\n",
        "# biases.append(np.random.randn(10,1)*np.sqrt(2/(11)))\n",
        "biases.append(np.zeros((10,1)))\n",
        "# np.random.seed(0)\n",
        "# for i in range(0,h):\n",
        "#   # n=int(input('Enter no. of neurons in {} hidden layer '.format(i+1)))\n",
        "#   # neurons.append(n)\n",
        "#   n=neurons[i]\n",
        "#   # appending the weight and bias matrix for the ith layer\n",
        "#   if(i==0):\n",
        "#     weights.append(np.random.randn(n,784)*0.01)\n",
        "#     biases.append(np.random.randn(n,1)*0.01)\n",
        "#   else:\n",
        "#     weights.append(np.random.randn(n,neurons[i-1])*0.01)\n",
        "#     biases.append(np.random.randn(n,1)*0.01)\n",
        "# weights.append(np.random.randn(10,neurons[h-1])*0.01)\n",
        "# biases.append(np.random.randn(10,1)*0.01)\n",
        "print(weights[0])\n",
        "print(weights[1])"
      ],
      "metadata": {
        "id": "Jt7RiXdHXByk",
        "colab": {
          "base_uri": "https://localhost:8080/"
        },
        "outputId": "43db2ccc-12d5-4bce-f026-5a2744fc27e1"
      },
      "execution_count": 6,
      "outputs": [
        {
          "output_type": "stream",
          "name": "stdout",
          "text": [
            "[[ 0.02412257 -0.00671471  0.03145454 ... -0.06485005  0.01846404\n",
            "   0.02965267]\n",
            " [ 0.02718583  0.05248735  0.04049884 ... -0.01366247  0.00325336\n",
            "   0.02505622]\n",
            " [-0.07588394 -0.02569307  0.0385729  ... -0.01903782  0.05147506\n",
            "   0.02996446]\n",
            " ...\n",
            " [ 0.04353243  0.0363882  -0.01817027 ...  0.03068041 -0.03630795\n",
            "   0.06362319]\n",
            " [-0.02837991  0.05387926  0.11000857 ...  0.04002819  0.0121057\n",
            "  -0.00581449]\n",
            " [ 0.00302782  0.00362412  0.057071   ... -0.0276426   0.07762404\n",
            "  -0.03189194]]\n",
            "[[ 0.11679612  0.00272403  0.08919528 ...  0.07975651 -0.04424788\n",
            "   0.25216238]\n",
            " [-0.17638795  0.04279199  0.20779395 ... -0.01202709  0.04963598\n",
            "   0.01599616]\n",
            " [ 0.27869375 -0.08205199 -0.01878961 ... -0.08842606 -0.04975177\n",
            "  -0.0192414 ]\n",
            " ...\n",
            " [-0.17397604  0.13890593  0.17285651 ...  0.01102957  0.17116405\n",
            "  -0.24312006]\n",
            " [ 0.05390634  0.01388906 -0.08514754 ...  0.03837353 -0.03460294\n",
            "  -0.05492674]\n",
            " [-0.03456708 -0.36028369 -0.05523713 ...  0.07795044  0.08804448\n",
            "   0.213222  ]]\n"
          ]
        }
      ]
    },
    {
      "cell_type": "markdown",
      "source": [
        "# IMPLEMENTING FEEDFORWARD NEURAL NETWORK"
      ],
      "metadata": {
        "id": "mZ-A0sVphn7L"
      }
    },
    {
      "cell_type": "code",
      "source": [
        "# def sigmoid(a):\n",
        "#   return 1/1+np.exp(-(a))\n",
        "  # res=[None]*len(a)\n",
        "  # for i in range(0,len(a)):\n",
        "  #   if a[i]<0:\n",
        "  #     res[i]=np.exp(a[i])/1+np.exp(a[i])\n",
        "  #   else:\n",
        "  #     res[i]=1/1+np.exp(-a[i])\n",
        "  # return res\n",
        "import numpy as np\n",
        "\n",
        "def sigmoid(x):\n",
        "    \"\"\"\n",
        "    Compute the sigmoid function for the input x, where x is a scalar or a numpy array.\n",
        "    \"\"\"\n",
        "    if isinstance(x, np.ndarray):\n",
        "        # Use numpy's exp function for arrays\n",
        "        return 1.0 / (1.0 + np.exp(-x))\n",
        "    else:\n",
        "        # For scalar values, use a more numerically stable implementation\n",
        "        if x >= 0:\n",
        "            return 1.0 / (1.0 + np.exp(-x))\n",
        "        else:\n",
        "            return np.exp(x) / (1.0 + np.exp(x))\n",
        "\n",
        "def softmax(x):\n",
        "    # x.dtype=np.float128\n",
        "    s=np.max(x)\n",
        "    e=np.exp(x-s)\n",
        "    return e / np.sum(e)\n",
        "    # return 1. / (1.+np.exp(-x))\n",
        "def sigmoid_derivative(x):\n",
        "    return sigmoid(x) * (1-sigmoid(x))\n",
        "\n",
        "def FeedForwardNetwork(weights,biases,data):\n",
        "  #Returns the array containing the output probablity for each class the data can belong\n",
        "  l=len(biases)\n",
        "  a=[None]*(l+1)\n",
        "  h=[None]*(l+1)\n",
        "  h[0]=data\n",
        "  for i in range(1,l+1):\n",
        "    #weight and bias matrix for hidden-layer i\n",
        "    weight=weights[i-1]\n",
        "    bias=biases[i-1]\n",
        "    #pre activation\n",
        "    a[i]=(bias+np.matmul(weight,h[i-1]))\n",
        "    #If last layer that is the output layer we use softmax function else we use sigmoid function\n",
        "    if(i==l):\n",
        "      #output function\n",
        "      h[i]=(softmax(a[i]))\n",
        "    else:\n",
        "      #post activation\n",
        "      h[i]=(sigmoid(a[i]))\n",
        "  return h[l],h,a"
      ],
      "metadata": {
        "id": "KxDn_pcLsGEc"
      },
      "execution_count": 7,
      "outputs": []
    },
    {
      "cell_type": "markdown",
      "source": [
        "# BACKPROPOGATION"
      ],
      "metadata": {
        "id": "G8jfpecvo1AT"
      }
    },
    {
      "cell_type": "code",
      "source": [
        "def BackPropogation(weights,biases,H,A,exp_Y,y_hat):\n",
        "  # Input Parameters of function\n",
        "  # --> Model Parameters: weights and biases\n",
        "  # --> H: Post-activations, A: Pre-Activations\n",
        "  # --> exp_Y: Actual Class Labels\n",
        "  # Returns list of gradients for each layer wrt weights and biases(parameters)\n",
        "  L=len(biases)\n",
        "  gradients_H=[None] * (L+1)\n",
        "  gradients_W=[None] * (L+1)\n",
        "  gradients_B=[None] * (L+1)\n",
        "  gradients_A=[None] * (L+1)\n",
        "  \n",
        "  #Computing Gradient For The Output Layer(Pre Activation)\n",
        "\n",
        "  gradients_A[L]=-(exp_Y-y_hat)\n",
        "  \n",
        "  for k in range(L,0,-1):\n",
        "    # print(\"k value {}\".format(k))\n",
        "    #compute gradients of the parameters\n",
        "    gradients_W[k]=np.dot(gradients_A[k],np.transpose(H[k-1]))\n",
        "    gradients_B[k]=gradients_A[k]\n",
        "    # print(\"grad_w {}, grad_b {}\".format(gradients_W[k].shape, gradients_B[k].shape))\n",
        "    #compute gradients of the hidden layers\n",
        "    gradients_H[k-1]=np.matmul(np.transpose(weights[k-1]),gradients_A[k])\n",
        "    # print(\"grad_h {}\".format(gradients_H[k-1].shape))\n",
        "    if(k>1):\n",
        "      gradients_A[k-1]=np.multiply(gradients_H[k-1],sigmoid_derivative(A[k-1]))\n",
        "    \n",
        "\n",
        "  return gradients_W,gradients_B"
      ],
      "metadata": {
        "id": "KnIxHl8mo2P2"
      },
      "execution_count": 8,
      "outputs": []
    },
    {
      "cell_type": "code",
      "source": [
        "epoch=0\n",
        "# predicted class label for each epoch\n",
        "predicted_y=[None]*10\n",
        "while epoch<10:\n",
        "  i=0;\n",
        "  gradientsW_data=[]\n",
        "  gradientsB_data=[]\n",
        "  print(epoch)\n",
        "  y_hat=[]\n",
        "  for data in x_train:\n",
        "    # print(data)\n",
        "    data=np.reshape(data,(784,1))\n",
        "    data=data/255.0\n",
        "    output,post_activations,pre_activations=FeedForwardNetwork(weights,biases,data)\n",
        "    class_label=y_train[i]\n",
        "    exp_Y=np.zeros((10,1))\n",
        "    exp_Y[class_label-1]=1\n",
        "    gradients_W,gradients_B=BackPropogation(weights,biases,post_activations,pre_activations,exp_Y,output)\n",
        "    gradients_W=np.array(gradients_W,dtype=object)\n",
        "    gradients_B=np.array(gradients_B,dtype=object)\n",
        "    gradientsW_data.append(gradients_W[1:])\n",
        "    gradientsB_data.append(gradients_B[1:])\n",
        "    i+=1\n",
        "    output=np.array(output)\n",
        "    # if i<=2:\n",
        "    #   # print(data)\n",
        "    #   print(output)\n",
        "    y_hat.append(np.argmax(output))\n",
        "  # print(gradientsB_data[0])\n",
        "  gradientsB_data=np.array(gradientsB_data,dtype=object)\n",
        "  gradientsW_data=np.array(gradientsW_data,dtype=object)\n",
        "  eta=0.0001\n",
        "  gradB=gradientsB_data.sum(axis=0)/60000\n",
        "  gradW=gradientsW_data.sum(axis=0)/60000\n",
        "  weights=weights-eta*(gradW)\n",
        "  biases=biases-eta*(gradB)\n",
        "  print(biases[0])\n",
        "  # print(weights[0])\n",
        "  predicted_y[epoch]=(y_hat)\n",
        "  epoch+=1"
      ],
      "metadata": {
        "colab": {
          "base_uri": "https://localhost:8080/",
          "height": 252
        },
        "id": "NuRLqEylznyn",
        "outputId": "49bd6cb6-5c74-492c-c4e3-45e0706ec154"
      },
      "execution_count": 1,
      "outputs": [
        {
          "output_type": "stream",
          "name": "stdout",
          "text": [
            "0\n"
          ]
        },
        {
          "output_type": "error",
          "ename": "NameError",
          "evalue": "ignored",
          "traceback": [
            "\u001b[0;31m---------------------------------------------------------------------------\u001b[0m",
            "\u001b[0;31mNameError\u001b[0m                                 Traceback (most recent call last)",
            "\u001b[0;32m<ipython-input-1-fc7895750526>\u001b[0m in \u001b[0;36m<module>\u001b[0;34m\u001b[0m\n\u001b[1;32m      8\u001b[0m   \u001b[0mprint\u001b[0m\u001b[0;34m(\u001b[0m\u001b[0mepoch\u001b[0m\u001b[0;34m)\u001b[0m\u001b[0;34m\u001b[0m\u001b[0;34m\u001b[0m\u001b[0m\n\u001b[1;32m      9\u001b[0m   \u001b[0my_hat\u001b[0m\u001b[0;34m=\u001b[0m\u001b[0;34m[\u001b[0m\u001b[0;34m]\u001b[0m\u001b[0;34m\u001b[0m\u001b[0;34m\u001b[0m\u001b[0m\n\u001b[0;32m---> 10\u001b[0;31m   \u001b[0;32mfor\u001b[0m \u001b[0mdata\u001b[0m \u001b[0;32min\u001b[0m \u001b[0mx_train\u001b[0m\u001b[0;34m:\u001b[0m\u001b[0;34m\u001b[0m\u001b[0;34m\u001b[0m\u001b[0m\n\u001b[0m\u001b[1;32m     11\u001b[0m     \u001b[0;31m# print(data)\u001b[0m\u001b[0;34m\u001b[0m\u001b[0;34m\u001b[0m\u001b[0;34m\u001b[0m\u001b[0m\n\u001b[1;32m     12\u001b[0m     \u001b[0mdata\u001b[0m\u001b[0;34m=\u001b[0m\u001b[0mnp\u001b[0m\u001b[0;34m.\u001b[0m\u001b[0mreshape\u001b[0m\u001b[0;34m(\u001b[0m\u001b[0mdata\u001b[0m\u001b[0;34m,\u001b[0m\u001b[0;34m(\u001b[0m\u001b[0;36m784\u001b[0m\u001b[0;34m,\u001b[0m\u001b[0;36m1\u001b[0m\u001b[0;34m)\u001b[0m\u001b[0;34m)\u001b[0m\u001b[0;34m\u001b[0m\u001b[0;34m\u001b[0m\u001b[0m\n",
            "\u001b[0;31mNameError\u001b[0m: name 'x_train' is not defined"
          ]
        }
      ]
    },
    {
      "cell_type": "code",
      "source": [
        "# print(predicted_y[3])\n",
        "print(len(predicted_y[0]))\n",
        "from sklearn.metrics import classification_report, accuracy_score, confusion_matrix\n",
        "for i in range(0,len(predicted_y)):\n",
        "  print(\"Training accuracy = {} %\".format(round(accuracy_score(y_train, predicted_y[i]) * 100, 3)))"
      ],
      "metadata": {
        "colab": {
          "base_uri": "https://localhost:8080/"
        },
        "id": "ZD1pXYMxvhlT",
        "outputId": "e2e8d4cf-4392-4d7a-8a67-8cb94fdd81e6"
      },
      "execution_count": 204,
      "outputs": [
        {
          "output_type": "stream",
          "name": "stdout",
          "text": [
            "60000\n",
            "Training accuracy = 9.737 %\n",
            "Training accuracy = 9.737 %\n",
            "Training accuracy = 9.737 %\n",
            "Training accuracy = 9.735 %\n",
            "Training accuracy = 9.733 %\n",
            "Training accuracy = 9.732 %\n",
            "Training accuracy = 9.732 %\n",
            "Training accuracy = 9.732 %\n",
            "Training accuracy = 9.732 %\n",
            "Training accuracy = 9.733 %\n"
          ]
        }
      ]
    }
  ],
  "metadata": {
    "colab": {
      "provenance": [],
      "authorship_tag": "ABX9TyOBRrADuOCMoIu7T8pXAGsq",
      "include_colab_link": true
    },
    "kernelspec": {
      "display_name": "Python 3",
      "name": "python3"
    },
    "language_info": {
      "name": "python"
    },
    "widgets": {
      "application/vnd.jupyter.widget-state+json": {
        "b4bc8a185ca74f25a4af760d37afd7d6": {
          "model_module": "@jupyter-widgets/controls",
          "model_name": "VBoxModel",
          "model_module_version": "1.5.0",
          "state": {
            "_dom_classes": [],
            "_model_module": "@jupyter-widgets/controls",
            "_model_module_version": "1.5.0",
            "_model_name": "VBoxModel",
            "_view_count": null,
            "_view_module": "@jupyter-widgets/controls",
            "_view_module_version": "1.5.0",
            "_view_name": "VBoxView",
            "box_style": "",
            "children": [
              "IPY_MODEL_1a5a494fc5de4818a871769adadc0bdb",
              "IPY_MODEL_1e711035496547ad8e89f812367a99ea"
            ],
            "layout": "IPY_MODEL_e5d1aedd2b1a4775a819b7c03f08131f"
          }
        },
        "1a5a494fc5de4818a871769adadc0bdb": {
          "model_module": "@jupyter-widgets/controls",
          "model_name": "LabelModel",
          "model_module_version": "1.5.0",
          "state": {
            "_dom_classes": [],
            "_model_module": "@jupyter-widgets/controls",
            "_model_module_version": "1.5.0",
            "_model_name": "LabelModel",
            "_view_count": null,
            "_view_module": "@jupyter-widgets/controls",
            "_view_module_version": "1.5.0",
            "_view_name": "LabelView",
            "description": "",
            "description_tooltip": null,
            "layout": "IPY_MODEL_99f14b2656dd47db8c9c3c8f1edd0dfb",
            "placeholder": "​",
            "style": "IPY_MODEL_7456c9e51e3e44e2a23883ea05f590bc",
            "value": "0.019 MB of 0.026 MB uploaded (0.000 MB deduped)\r"
          }
        },
        "1e711035496547ad8e89f812367a99ea": {
          "model_module": "@jupyter-widgets/controls",
          "model_name": "FloatProgressModel",
          "model_module_version": "1.5.0",
          "state": {
            "_dom_classes": [],
            "_model_module": "@jupyter-widgets/controls",
            "_model_module_version": "1.5.0",
            "_model_name": "FloatProgressModel",
            "_view_count": null,
            "_view_module": "@jupyter-widgets/controls",
            "_view_module_version": "1.5.0",
            "_view_name": "ProgressView",
            "bar_style": "",
            "description": "",
            "description_tooltip": null,
            "layout": "IPY_MODEL_792831dbbf1242b288269e1924ba3691",
            "max": 1,
            "min": 0,
            "orientation": "horizontal",
            "style": "IPY_MODEL_37886f7602d34568bd4d71f1b19a47f5",
            "value": 0.7011680726800779
          }
        },
        "e5d1aedd2b1a4775a819b7c03f08131f": {
          "model_module": "@jupyter-widgets/base",
          "model_name": "LayoutModel",
          "model_module_version": "1.2.0",
          "state": {
            "_model_module": "@jupyter-widgets/base",
            "_model_module_version": "1.2.0",
            "_model_name": "LayoutModel",
            "_view_count": null,
            "_view_module": "@jupyter-widgets/base",
            "_view_module_version": "1.2.0",
            "_view_name": "LayoutView",
            "align_content": null,
            "align_items": null,
            "align_self": null,
            "border": null,
            "bottom": null,
            "display": null,
            "flex": null,
            "flex_flow": null,
            "grid_area": null,
            "grid_auto_columns": null,
            "grid_auto_flow": null,
            "grid_auto_rows": null,
            "grid_column": null,
            "grid_gap": null,
            "grid_row": null,
            "grid_template_areas": null,
            "grid_template_columns": null,
            "grid_template_rows": null,
            "height": null,
            "justify_content": null,
            "justify_items": null,
            "left": null,
            "margin": null,
            "max_height": null,
            "max_width": null,
            "min_height": null,
            "min_width": null,
            "object_fit": null,
            "object_position": null,
            "order": null,
            "overflow": null,
            "overflow_x": null,
            "overflow_y": null,
            "padding": null,
            "right": null,
            "top": null,
            "visibility": null,
            "width": null
          }
        },
        "99f14b2656dd47db8c9c3c8f1edd0dfb": {
          "model_module": "@jupyter-widgets/base",
          "model_name": "LayoutModel",
          "model_module_version": "1.2.0",
          "state": {
            "_model_module": "@jupyter-widgets/base",
            "_model_module_version": "1.2.0",
            "_model_name": "LayoutModel",
            "_view_count": null,
            "_view_module": "@jupyter-widgets/base",
            "_view_module_version": "1.2.0",
            "_view_name": "LayoutView",
            "align_content": null,
            "align_items": null,
            "align_self": null,
            "border": null,
            "bottom": null,
            "display": null,
            "flex": null,
            "flex_flow": null,
            "grid_area": null,
            "grid_auto_columns": null,
            "grid_auto_flow": null,
            "grid_auto_rows": null,
            "grid_column": null,
            "grid_gap": null,
            "grid_row": null,
            "grid_template_areas": null,
            "grid_template_columns": null,
            "grid_template_rows": null,
            "height": null,
            "justify_content": null,
            "justify_items": null,
            "left": null,
            "margin": null,
            "max_height": null,
            "max_width": null,
            "min_height": null,
            "min_width": null,
            "object_fit": null,
            "object_position": null,
            "order": null,
            "overflow": null,
            "overflow_x": null,
            "overflow_y": null,
            "padding": null,
            "right": null,
            "top": null,
            "visibility": null,
            "width": null
          }
        },
        "7456c9e51e3e44e2a23883ea05f590bc": {
          "model_module": "@jupyter-widgets/controls",
          "model_name": "DescriptionStyleModel",
          "model_module_version": "1.5.0",
          "state": {
            "_model_module": "@jupyter-widgets/controls",
            "_model_module_version": "1.5.0",
            "_model_name": "DescriptionStyleModel",
            "_view_count": null,
            "_view_module": "@jupyter-widgets/base",
            "_view_module_version": "1.2.0",
            "_view_name": "StyleView",
            "description_width": ""
          }
        },
        "792831dbbf1242b288269e1924ba3691": {
          "model_module": "@jupyter-widgets/base",
          "model_name": "LayoutModel",
          "model_module_version": "1.2.0",
          "state": {
            "_model_module": "@jupyter-widgets/base",
            "_model_module_version": "1.2.0",
            "_model_name": "LayoutModel",
            "_view_count": null,
            "_view_module": "@jupyter-widgets/base",
            "_view_module_version": "1.2.0",
            "_view_name": "LayoutView",
            "align_content": null,
            "align_items": null,
            "align_self": null,
            "border": null,
            "bottom": null,
            "display": null,
            "flex": null,
            "flex_flow": null,
            "grid_area": null,
            "grid_auto_columns": null,
            "grid_auto_flow": null,
            "grid_auto_rows": null,
            "grid_column": null,
            "grid_gap": null,
            "grid_row": null,
            "grid_template_areas": null,
            "grid_template_columns": null,
            "grid_template_rows": null,
            "height": null,
            "justify_content": null,
            "justify_items": null,
            "left": null,
            "margin": null,
            "max_height": null,
            "max_width": null,
            "min_height": null,
            "min_width": null,
            "object_fit": null,
            "object_position": null,
            "order": null,
            "overflow": null,
            "overflow_x": null,
            "overflow_y": null,
            "padding": null,
            "right": null,
            "top": null,
            "visibility": null,
            "width": null
          }
        },
        "37886f7602d34568bd4d71f1b19a47f5": {
          "model_module": "@jupyter-widgets/controls",
          "model_name": "ProgressStyleModel",
          "model_module_version": "1.5.0",
          "state": {
            "_model_module": "@jupyter-widgets/controls",
            "_model_module_version": "1.5.0",
            "_model_name": "ProgressStyleModel",
            "_view_count": null,
            "_view_module": "@jupyter-widgets/base",
            "_view_module_version": "1.2.0",
            "_view_name": "StyleView",
            "bar_color": null,
            "description_width": ""
          }
        }
      }
    }
  },
  "nbformat": 4,
  "nbformat_minor": 0
}