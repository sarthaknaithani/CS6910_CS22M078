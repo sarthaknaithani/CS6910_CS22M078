{
  "cells": [
    {
      "cell_type": "code",
      "execution_count": 3,
      "metadata": {
        "id": "vMEeBJLTeyKB",
        "colab": {
          "base_uri": "https://localhost:8080/"
        },
        "outputId": "6c92683d-a2f8-4d53-bf0b-4079f25fa3f3"
      },
      "outputs": [
        {
          "output_type": "stream",
          "name": "stdout",
          "text": [
            "Looking in indexes: https://pypi.org/simple, https://us-python.pkg.dev/colab-wheels/public/simple/\n",
            "Collecting wandb\n",
            "  Downloading wandb-0.13.10-py3-none-any.whl (2.0 MB)\n",
            "\u001b[2K     \u001b[90m━━━━━━━━━━━━━━━━━━━━━━━━━━━━━━━━━━━━━━━━\u001b[0m \u001b[32m2.0/2.0 MB\u001b[0m \u001b[31m21.7 MB/s\u001b[0m eta \u001b[36m0:00:00\u001b[0m\n",
            "\u001b[?25hRequirement already satisfied: requests<3,>=2.0.0 in /usr/local/lib/python3.8/dist-packages (from wandb) (2.25.1)\n",
            "Collecting sentry-sdk>=1.0.0\n",
            "  Downloading sentry_sdk-1.16.0-py2.py3-none-any.whl (184 kB)\n",
            "\u001b[2K     \u001b[90m━━━━━━━━━━━━━━━━━━━━━━━━━━━━━━━━━━━━━━\u001b[0m \u001b[32m184.3/184.3 KB\u001b[0m \u001b[31m17.5 MB/s\u001b[0m eta \u001b[36m0:00:00\u001b[0m\n",
            "\u001b[?25hRequirement already satisfied: typing-extensions in /usr/local/lib/python3.8/dist-packages (from wandb) (4.5.0)\n",
            "Collecting docker-pycreds>=0.4.0\n",
            "  Downloading docker_pycreds-0.4.0-py2.py3-none-any.whl (9.0 kB)\n",
            "Collecting setproctitle\n",
            "  Downloading setproctitle-1.3.2-cp38-cp38-manylinux_2_5_x86_64.manylinux1_x86_64.manylinux_2_17_x86_64.manylinux2014_x86_64.whl (31 kB)\n",
            "Requirement already satisfied: setuptools in /usr/local/lib/python3.8/dist-packages (from wandb) (57.4.0)\n",
            "Collecting pathtools\n",
            "  Downloading pathtools-0.1.2.tar.gz (11 kB)\n",
            "  Preparing metadata (setup.py) ... \u001b[?25l\u001b[?25hdone\n",
            "Requirement already satisfied: psutil>=5.0.0 in /usr/local/lib/python3.8/dist-packages (from wandb) (5.4.8)\n",
            "Collecting GitPython>=1.0.0\n",
            "  Downloading GitPython-3.1.31-py3-none-any.whl (184 kB)\n",
            "\u001b[2K     \u001b[90m━━━━━━━━━━━━━━━━━━━━━━━━━━━━━━━━━━━━━━━\u001b[0m \u001b[32m184.3/184.3 KB\u001b[0m \u001b[31m9.2 MB/s\u001b[0m eta \u001b[36m0:00:00\u001b[0m\n",
            "\u001b[?25hRequirement already satisfied: protobuf!=4.21.0,<5,>=3.12.0 in /usr/local/lib/python3.8/dist-packages (from wandb) (3.19.6)\n",
            "Requirement already satisfied: Click!=8.0.0,>=7.0 in /usr/local/lib/python3.8/dist-packages (from wandb) (8.1.3)\n",
            "Requirement already satisfied: PyYAML in /usr/local/lib/python3.8/dist-packages (from wandb) (6.0)\n",
            "Requirement already satisfied: appdirs>=1.4.3 in /usr/local/lib/python3.8/dist-packages (from wandb) (1.4.4)\n",
            "Requirement already satisfied: six>=1.4.0 in /usr/local/lib/python3.8/dist-packages (from docker-pycreds>=0.4.0->wandb) (1.15.0)\n",
            "Collecting gitdb<5,>=4.0.1\n",
            "  Downloading gitdb-4.0.10-py3-none-any.whl (62 kB)\n",
            "\u001b[2K     \u001b[90m━━━━━━━━━━━━━━━━━━━━━━━━━━━━━━━━━━━━━━━━\u001b[0m \u001b[32m62.7/62.7 KB\u001b[0m \u001b[31m6.1 MB/s\u001b[0m eta \u001b[36m0:00:00\u001b[0m\n",
            "\u001b[?25hRequirement already satisfied: certifi>=2017.4.17 in /usr/local/lib/python3.8/dist-packages (from requests<3,>=2.0.0->wandb) (2022.12.7)\n",
            "Requirement already satisfied: chardet<5,>=3.0.2 in /usr/local/lib/python3.8/dist-packages (from requests<3,>=2.0.0->wandb) (4.0.0)\n",
            "Requirement already satisfied: idna<3,>=2.5 in /usr/local/lib/python3.8/dist-packages (from requests<3,>=2.0.0->wandb) (2.10)\n",
            "Requirement already satisfied: urllib3<1.27,>=1.21.1 in /usr/local/lib/python3.8/dist-packages (from requests<3,>=2.0.0->wandb) (1.26.14)\n",
            "Collecting smmap<6,>=3.0.1\n",
            "  Downloading smmap-5.0.0-py3-none-any.whl (24 kB)\n",
            "Building wheels for collected packages: pathtools\n",
            "  Building wheel for pathtools (setup.py) ... \u001b[?25l\u001b[?25hdone\n",
            "  Created wheel for pathtools: filename=pathtools-0.1.2-py3-none-any.whl size=8806 sha256=0faaf24b39a5999d89e88da0ad62f4c8b82e265e80859bbe15c8027e918b2c3c\n",
            "  Stored in directory: /root/.cache/pip/wheels/4c/8e/7e/72fbc243e1aeecae64a96875432e70d4e92f3d2d18123be004\n",
            "Successfully built pathtools\n",
            "Installing collected packages: pathtools, smmap, setproctitle, sentry-sdk, docker-pycreds, gitdb, GitPython, wandb\n",
            "Successfully installed GitPython-3.1.31 docker-pycreds-0.4.0 gitdb-4.0.10 pathtools-0.1.2 sentry-sdk-1.16.0 setproctitle-1.3.2 smmap-5.0.0 wandb-0.13.10\n"
          ]
        }
      ],
      "source": [
        "pip install wandb"
      ]
    },
    {
      "cell_type": "code",
      "execution_count": 4,
      "metadata": {
        "id": "SfQKQYGw697b"
      },
      "outputs": [],
      "source": [
        "from sklearn.model_selection import train_test_split\n",
        "import wandb\n",
        "from keras.datasets import fashion_mnist\n",
        "import pandas as pd\n",
        "import numpy as np\n",
        "import matplotlib.pyplot as plt"
      ]
    },
    {
      "cell_type": "code",
      "execution_count": 5,
      "metadata": {
        "id": "t_EBHCoH697m",
        "colab": {
          "base_uri": "https://localhost:8080/",
          "height": 139
        },
        "outputId": "7284bfb0-73dd-4503-a144-8c5929ea63a8"
      },
      "outputs": [
        {
          "output_type": "stream",
          "name": "stderr",
          "text": [
            "ERROR:wandb.jupyter:Failed to detect the name of this notebook, you can set it manually with the WANDB_NOTEBOOK_NAME environment variable to enable code saving.\n"
          ]
        },
        {
          "output_type": "display_data",
          "data": {
            "text/plain": [
              "<IPython.core.display.Javascript object>"
            ],
            "application/javascript": [
              "\n",
              "        window._wandbApiKey = new Promise((resolve, reject) => {\n",
              "            function loadScript(url) {\n",
              "            return new Promise(function(resolve, reject) {\n",
              "                let newScript = document.createElement(\"script\");\n",
              "                newScript.onerror = reject;\n",
              "                newScript.onload = resolve;\n",
              "                document.body.appendChild(newScript);\n",
              "                newScript.src = url;\n",
              "            });\n",
              "            }\n",
              "            loadScript(\"https://cdn.jsdelivr.net/npm/postmate/build/postmate.min.js\").then(() => {\n",
              "            const iframe = document.createElement('iframe')\n",
              "            iframe.style.cssText = \"width:0;height:0;border:none\"\n",
              "            document.body.appendChild(iframe)\n",
              "            const handshake = new Postmate({\n",
              "                container: iframe,\n",
              "                url: 'https://wandb.ai/authorize'\n",
              "            });\n",
              "            const timeout = setTimeout(() => reject(\"Couldn't auto authenticate\"), 5000)\n",
              "            handshake.then(function(child) {\n",
              "                child.on('authorize', data => {\n",
              "                    clearTimeout(timeout)\n",
              "                    resolve(data)\n",
              "                });\n",
              "            });\n",
              "            })\n",
              "        });\n",
              "    "
            ]
          },
          "metadata": {}
        },
        {
          "output_type": "stream",
          "name": "stderr",
          "text": [
            "\u001b[34m\u001b[1mwandb\u001b[0m: Logging into wandb.ai. (Learn how to deploy a W&B server locally: https://wandb.me/wandb-server)\n",
            "\u001b[34m\u001b[1mwandb\u001b[0m: You can find your API key in your browser here: https://wandb.ai/authorize\n",
            "wandb: Paste an API key from your profile and hit enter, or press ctrl+c to quit:"
          ]
        },
        {
          "name": "stdout",
          "output_type": "stream",
          "text": [
            " ··········\n"
          ]
        },
        {
          "output_type": "stream",
          "name": "stderr",
          "text": [
            "\u001b[34m\u001b[1mwandb\u001b[0m: Appending key for api.wandb.ai to your netrc file: /root/.netrc\n"
          ]
        },
        {
          "output_type": "execute_result",
          "data": {
            "text/plain": [
              "True"
            ]
          },
          "metadata": {},
          "execution_count": 5
        }
      ],
      "source": [
        "wandb.login()"
      ]
    },
    {
      "cell_type": "markdown",
      "metadata": {
        "id": "RMKAtDnkJxwF"
      },
      "source": [
        "### DOWNLOADING THE DATASET AND PLOTTING ONE SAMPLE IMAGE FROM EACH CLASS"
      ]
    },
    {
      "cell_type": "code",
      "execution_count": 6,
      "metadata": {
        "id": "cFpHsIZX697r",
        "colab": {
          "base_uri": "https://localhost:8080/",
          "height": 668,
          "referenced_widgets": [
            "3d78eba9c4dc4848a83fdf414f3c0c0d",
            "e247bc145e704b13895702e5865f5cc7",
            "bae14605a72c4ea5bd242a80e7ecd427",
            "7e5edba4391643429ce6838b7a5bb080",
            "e3aa5a88066044f6bb4660836a0148b6",
            "702108d42fe44f949aeff4572738fe2c",
            "99abb386b6a44cbc9f35820cc64f29e8",
            "894adc05cfb54a9494100ecd9c857811"
          ]
        },
        "outputId": "c7a5afe5-d55f-46c5-becb-48bf26492cdd"
      },
      "outputs": [
        {
          "output_type": "stream",
          "name": "stderr",
          "text": [
            "\u001b[34m\u001b[1mwandb\u001b[0m: Currently logged in as: \u001b[33mcs22m078\u001b[0m. Use \u001b[1m`wandb login --relogin`\u001b[0m to force relogin\n"
          ]
        },
        {
          "output_type": "display_data",
          "data": {
            "text/plain": [
              "<IPython.core.display.HTML object>"
            ],
            "text/html": [
              "Tracking run with wandb version 0.13.10"
            ]
          },
          "metadata": {}
        },
        {
          "output_type": "display_data",
          "data": {
            "text/plain": [
              "<IPython.core.display.HTML object>"
            ],
            "text/html": [
              "Run data is saved locally in <code>/content/wandb/run-20230305_060447-l8kn9qln</code>"
            ]
          },
          "metadata": {}
        },
        {
          "output_type": "display_data",
          "data": {
            "text/plain": [
              "<IPython.core.display.HTML object>"
            ],
            "text/html": [
              "Syncing run <strong><a href='https://wandb.ai/cs22m078/CS6910_Assignment-1/runs/l8kn9qln' target=\"_blank\">astral-wildflower-72</a></strong> to <a href='https://wandb.ai/cs22m078/CS6910_Assignment-1' target=\"_blank\">Weights & Biases</a> (<a href='https://wandb.me/run' target=\"_blank\">docs</a>)<br/>"
            ]
          },
          "metadata": {}
        },
        {
          "output_type": "display_data",
          "data": {
            "text/plain": [
              "<IPython.core.display.HTML object>"
            ],
            "text/html": [
              " View project at <a href='https://wandb.ai/cs22m078/CS6910_Assignment-1' target=\"_blank\">https://wandb.ai/cs22m078/CS6910_Assignment-1</a>"
            ]
          },
          "metadata": {}
        },
        {
          "output_type": "display_data",
          "data": {
            "text/plain": [
              "<IPython.core.display.HTML object>"
            ],
            "text/html": [
              " View run at <a href='https://wandb.ai/cs22m078/CS6910_Assignment-1/runs/l8kn9qln' target=\"_blank\">https://wandb.ai/cs22m078/CS6910_Assignment-1/runs/l8kn9qln</a>"
            ]
          },
          "metadata": {}
        },
        {
          "output_type": "stream",
          "name": "stdout",
          "text": [
            "Downloading data from https://storage.googleapis.com/tensorflow/tf-keras-datasets/train-labels-idx1-ubyte.gz\n",
            "29515/29515 [==============================] - 0s 0us/step\n",
            "Downloading data from https://storage.googleapis.com/tensorflow/tf-keras-datasets/train-images-idx3-ubyte.gz\n",
            "26421880/26421880 [==============================] - 1s 0us/step\n",
            "Downloading data from https://storage.googleapis.com/tensorflow/tf-keras-datasets/t10k-labels-idx1-ubyte.gz\n",
            "5148/5148 [==============================] - 0s 0us/step\n",
            "Downloading data from https://storage.googleapis.com/tensorflow/tf-keras-datasets/t10k-images-idx3-ubyte.gz\n",
            "4422102/4422102 [==============================] - 0s 0us/step\n"
          ]
        },
        {
          "output_type": "display_data",
          "data": {
            "text/plain": [
              "<IPython.core.display.HTML object>"
            ],
            "text/html": [
              "Waiting for W&B process to finish... <strong style=\"color:green\">(success).</strong>"
            ]
          },
          "metadata": {}
        },
        {
          "output_type": "display_data",
          "data": {
            "text/plain": [
              "VBox(children=(Label(value='0.019 MB of 0.027 MB uploaded (0.000 MB deduped)\\r'), FloatProgress(value=0.684280…"
            ],
            "application/vnd.jupyter.widget-view+json": {
              "version_major": 2,
              "version_minor": 0,
              "model_id": "3d78eba9c4dc4848a83fdf414f3c0c0d"
            }
          },
          "metadata": {}
        },
        {
          "output_type": "display_data",
          "data": {
            "text/plain": [
              "<IPython.core.display.HTML object>"
            ],
            "text/html": [
              " View run <strong style=\"color:#cdcd00\">astral-wildflower-72</strong> at: <a href='https://wandb.ai/cs22m078/CS6910_Assignment-1/runs/l8kn9qln' target=\"_blank\">https://wandb.ai/cs22m078/CS6910_Assignment-1/runs/l8kn9qln</a><br/>Synced 5 W&B file(s), 1 media file(s), 0 artifact file(s) and 0 other file(s)"
            ]
          },
          "metadata": {}
        },
        {
          "output_type": "display_data",
          "data": {
            "text/plain": [
              "<IPython.core.display.HTML object>"
            ],
            "text/html": [
              "Find logs at: <code>./wandb/run-20230305_060447-l8kn9qln/logs</code>"
            ]
          },
          "metadata": {}
        },
        {
          "output_type": "display_data",
          "data": {
            "text/plain": [
              "<Figure size 720x360 with 10 Axes>"
            ],
            "image/png": "[encoded data removed]"
          },
          "metadata": {
            "needs_background": "light"
          }
        }
      ],
      "source": [
        "# start a new wandb run to track this script\n",
        "wandb.init(\n",
        "    # set the wandb project where this run will be logged\n",
        "    project=\"CS6910_Assignment-1\",\n",
        ")\n",
        "\n",
        "# simulate training\n",
        "# x_train is a (60000,28,28) matrix consisting image pixels for training\n",
        "# y_train is a (60000,1) matrix consisting of labels\n",
        "# x_test is a (10000,28,28) matrix consisting image pixels for testing\n",
        "# y_test is a (10000,1) matrix consisting of labels for testing\n",
        "(x_train, y_train), (x_test, y_test) =fashion_mnist.load_data()\n",
        "#NORMALIZING THE DATASET\n",
        "x_train=x_train/255.0\n",
        "x_test=x_test/255.0\n",
        "labels=set()\n",
        "i=0\n",
        "fig,ax=plt.subplots(2,5,figsize=(10,5))\n",
        "row=0\n",
        "col=0\n",
        "for pixels in x_train:\n",
        "  #The matplotlib function imshow() creates an image from a 2-dimensional numpy array\n",
        "  #pixels is (28,28) 2-D array\n",
        "  #l is the current label of image\n",
        "  l=y_train[i]\n",
        "  if(not(l in labels)):\n",
        "    if(col>=5):\n",
        "      col=0\n",
        "      row+=1\n",
        "    ax[row][col].imshow(pixels,cmap=\"gray\")\n",
        "    ax[row][col].set_title(\"Label {}\".format(l))\n",
        "    ax[row][col].axis(False)\n",
        "    labels.add(l)\n",
        "    col+=1\n",
        "  #if we get all our 10 labels just break the loop\n",
        "  if(len(labels)==10):\n",
        "    break;\n",
        "  i+=1\n",
        "wandb.log({\"plot\":plt})   \n",
        "# finish the wandb run, necessary in notebooks\n",
        "wandb.finish()"
      ]
    },
    {
      "cell_type": "markdown",
      "metadata": {
        "id": "99oM1GulHrTg"
      },
      "source": [
        "## DATA-PREPROCESSING"
      ]
    },
    {
      "cell_type": "code",
      "execution_count": 7,
      "metadata": {
        "id": "tkEiIJbr697v",
        "colab": {
          "base_uri": "https://localhost:8080/"
        },
        "outputId": "d3e5fe6e-eb1c-4403-f1be-1376ee026aeb"
      },
      "outputs": [
        {
          "output_type": "stream",
          "name": "stdout",
          "text": [
            "(784, 60000)\n"
          ]
        }
      ],
      "source": [
        "#RESHAPING THE TRAIN_IMAGE DATASET FROM (60000,28x28) TO (60000,784) AND SAME FOR TEST_IMAGE\n",
        "num_inputs=784\n",
        "num_outputs=10\n",
        "x_train=x_train.reshape(60000,784)\n",
        "x_test=x_test.reshape(10000,784)\n",
        "\n",
        "\n",
        "#SPLITTING THE TRAINING DATA FOR VALIDATION AND TESTING\n",
        "train_x,val_x,train_y,val_y=train_test_split(x_train,y_train)\n",
        "train_x=np.transpose(train_x)\n",
        "train_y=np.transpose(train_y)\n",
        "val_x=np.transpose(val_x)\n",
        "val_y=np.transpose(val_y)\n",
        "\n",
        "#ONE-HOT ENCODING FOR Y_TRAIN AND Y_TEST: \n",
        "exp_y=np.zeros((10,60000))\n",
        "exp_y_test=np.zeros((10,10000))\n",
        "for i in range(0,60000):\n",
        "    exp_y[y_train[i]][i]=1\n",
        "for i in range(0,10000):\n",
        "    exp_y_test[y_test[i]][i]=1\n",
        "\n",
        "#RESHAPING MY DATA TO COLUMN-WISE IMAGES\n",
        "x_train=x_train.T\n",
        "x_test=x_test.T\n",
        "print(x_train.shape)\n"
      ]
    },
    {
      "cell_type": "markdown",
      "metadata": {
        "id": "eHsTgloNKlu1"
      },
      "source": [
        "### ACTIVATION FUNCTIONS"
      ]
    },
    {
      "cell_type": "code",
      "execution_count": 8,
      "metadata": {
        "id": "0rjPkhE9697x"
      },
      "outputs": [],
      "source": [
        "def sigmoid(x):\n",
        "    return 1.0 / (1.0 + np.exp(-np.clip(x, -500, 500)))\n",
        "\n",
        "def sigmoid_derivative(x):\n",
        "    s = sigmoid(x)\n",
        "    return np.multiply(s, np.subtract(1, s))\n",
        "\n",
        "def softmax(x):\n",
        "    x=x-np.max(x)\n",
        "    return np.exp(x) / np.sum(np.exp(x), axis=0)"
      ]
    },
    {
      "cell_type": "markdown",
      "metadata": {
        "id": "JQwJriuPKz-F"
      },
      "source": [
        "### INITIALIZING THE PARAMETERS"
      ]
    },
    {
      "cell_type": "code",
      "execution_count": 9,
      "metadata": {
        "id": "AWQEwczB6972"
      },
      "outputs": [],
      "source": [
        "def initialize_params(hidden_layers,neurons):\n",
        "  #USING XAVIER INITIALIZATION TO INITIALIZE WEIGHTS AND BIAS MATRIX\n",
        "\n",
        "  #INDEXING DONE FROM 1\n",
        "  L=hidden_layers+1 #number of layers excluding hidden layer\n",
        "  weights=[0]*(hidden_layers+2)\n",
        "  biases=[0]*(hidden_layers+2)\n",
        "  previous_updates_W=[0]*(hidden_layers+2)\n",
        "  previous_updates_B=[0]*(hidden_layers+2)\n",
        "  np.random.seed(42)\n",
        "  for i in range(1,hidden_layers+1):\n",
        "    n=neurons[i]\n",
        "    # appending the weight and bias matrix for the ith layer\n",
        "    if(i==1):\n",
        "      weights[i]=(np.random.randn(n,784)*np.sqrt(2/(n+784)))\n",
        "      biases[i]=(np.zeros((n,1)))\n",
        "      previous_updates_W[i]=np.zeros((n,784))\n",
        "      previous_updates_B[i]=np.zeros((n,1))\n",
        "      # biases[i]=(np.random.randn(n,1))\n",
        "    else:\n",
        "      weights[i]=(np.random.randn(n,neurons[i-1])*np.sqrt(2/(n+neurons[i-1])))\n",
        "      biases[i]=(np.zeros((n,1)))\n",
        "      previous_updates_W[i]=np.zeros((n,neurons[i-1]))\n",
        "      previous_updates_B[i]=np.zeros((n,1))\n",
        "      # biases[i]=(np.random.randn(n,1))\n",
        "  weights[L]=(np.random.randn(10,neurons[hidden_layers])*np.sqrt(2/(10+neurons[hidden_layers-1])))\n",
        "  biases[L]=(np.zeros((10,1)))\n",
        "  previous_updates_W[L]=np.zeros((10,neurons[hidden_layers]))\n",
        "  previous_updates_B[L]=np.zeros((10,1))\n",
        "  weights=np.array(weights,dtype=object)\n",
        "  biases=np.array(biases,dtype=object)\n",
        "  previous_updates_W=np.array(previous_updates_W,dtype=object)\n",
        "  previous_updates_B=np.array(previous_updates_B,dtype=object)\n",
        "  return weights,biases,previous_updates_W,previous_updates_B"
      ]
    },
    {
      "cell_type": "markdown",
      "metadata": {
        "id": "WAe2kdSTLThK"
      },
      "source": [
        "## FEED FORWARD PROPOGATION"
      ]
    },
    {
      "cell_type": "code",
      "execution_count": 21,
      "metadata": {
        "id": "wYfoVYJm6973"
      },
      "outputs": [],
      "source": [
        "def FeedForwardNetwork(weights,biases,L,data):\n",
        "  #Returns the array containing the output probablity for each class the data can belong\n",
        "  a=[0]*(L+1)\n",
        "  h=[0]*(L+1)\n",
        "  h[0]=data\n",
        "  for i in range(1,L):\n",
        "    #weight and bias matrix for hidden-layer i\n",
        "    weight=weights[i]\n",
        "    bias=biases[i]\n",
        "    #pre activation\n",
        "    a[i]=(bias+np.matmul(weight,h[i-1]))\n",
        "    #post activation\n",
        "    h[i]=(sigmoid(a[i]))\n",
        "  #weight and bias matrix for ouput layer\n",
        "  weight=weights[L]\n",
        "  bias=biases[L]\n",
        "  a[L]=(bias+np.matmul(weight,h[L-1]))\n",
        "  h[L]=softmax(a[L])\n",
        "  return h[L],h,a"
      ]
    },
    {
      "cell_type": "markdown",
      "metadata": {
        "id": "q8MhyJnsLm2w"
      },
      "source": [
        "## BACK PROPOGATION"
      ]
    },
    {
      "cell_type": "code",
      "execution_count": 22,
      "metadata": {
        "id": "4KvkdzaQ6975"
      },
      "outputs": [],
      "source": [
        "def BackPropogation(weights,L,H,A,exp_Y,y_hat):\n",
        "  # Input Parameters of function\n",
        "  # --> Model Parameters: weights and biases\n",
        "  # --> H: Post-activations, A: Pre-Activations\n",
        "  # --> exp_Y: Actual Class Labels\n",
        "  # Returns list of gradients for each layer wrt weights and biases(parameters)\n",
        "  gradients_H=[0] * (L+1)\n",
        "  gradients_W=[0] * (L+1)\n",
        "  gradients_B=[0] * (L+1)\n",
        "  gradients_A=[0] * (L+1)\n",
        "  \n",
        "  #Computing Gradient For The Output Layer(Pre Activation)\n",
        "  gradients_A[L]=-(exp_Y-y_hat)\n",
        "  for k in range(L,0,-1):\n",
        "    #compute gradients of the parameters\n",
        "    gradients_W[k]=np.matmul(gradients_A[k],np.transpose(H[k-1]))\n",
        "    gradients_B[k]=np.sum(gradients_A[k], axis=1,keepdims=True)\n",
        "    #compute gradients of the hidden layers\n",
        "    gradients_H[k-1]=np.matmul(np.transpose(weights[k]),gradients_A[k])\n",
        "    if(k>1):\n",
        "      gradients_A[k-1]=np.multiply(gradients_H[k-1],sigmoid_derivative(A[k-1]))\n",
        "    \n",
        "\n",
        "  return gradients_W,gradients_B"
      ]
    },
    {
      "cell_type": "markdown",
      "metadata": {
        "id": "WI4StwT2MD85"
      },
      "source": [
        "## FUNCTIONS FOR UPDATION OF PARAMETERS"
      ]
    },
    {
      "cell_type": "code",
      "execution_count": 98,
      "metadata": {
        "id": "YdH8lFBB698B"
      },
      "outputs": [],
      "source": [
        "def sgd_params_update(weights,biases,gradients_W,gradients_B,eta):\n",
        "    gradients_B=np.array(gradients_B,dtype=object)\n",
        "    gradients_W=np.array(gradients_W,dtype=object)\n",
        "    weights=weights-eta*(gradients_W)\n",
        "    biases=biases-eta*(gradients_B)\n",
        "    return weights,biases\n",
        "\n",
        "\n",
        "\n",
        "def update_parameters_momentum(weights, biases, gradients_B,gradients_W, beta, previous_updates_W,previous_updates_B,eta,L):\n",
        "    gradients_B=np.array(gradients_B,dtype=object)\n",
        "    gradients_W=np.array(gradients_W,dtype=object)\n",
        "    for i in range(1,L+1):\n",
        "      previous_updates_W[i]=beta*previous_updates_W[i]+(1-beta)*gradients_W[i]\n",
        "      previous_updates_B[i]=beta*previous_updates_B[i]+(1-beta)*gradients_B[i]\n",
        "      weights[i]=weights[i]-eta*previous_updates_W[i]\n",
        "      biases[i]=biases[i]-eta*previous_updates_B[i]\n",
        "    return weights,biases,previous_updates_W,previous_updates_B\n",
        "\n",
        "\n",
        "def update_parameters_adam(weights, biases, gradients_B,gradients_W,eta, m_W,m_B,v_W,v_B,t,L):\n",
        "    gradients_B=np.array(gradients_B,dtype=object)\n",
        "    gradients_W=np.array(gradients_W,dtype=object)\n",
        "    beta1 = 0.9 #default\n",
        "    beta2 = 0.99 #default\n",
        "    epsilon = 1e-4 #for numerical stability\n",
        "    for i in range(1,L+1):\n",
        "\n",
        "      m_dw=beta1*m_W[i]+(1-beta1)*gradients_W[i]\n",
        "      v_dw=beta2*v_W[i]+(1-beta2)*np.square(gradients_W[i])\n",
        "      m_W_hat=m_dw/(1.0 -beta1**t)\n",
        "      v_W_hat=v_dw/(1.0 -beta2**t)\n",
        "      weights[i]=weights[i]-(eta*m_W_hat)/np.sqrt(v_W_hat+epsilon)\n",
        "\n",
        "      m_db=beta1*m_B[i]+(1-beta1)*gradients_B[i]\n",
        "      v_db=beta2*v_B[i]+(1-beta2)*np.square(gradients_B[i])\n",
        "      m_B_hat=m_db/(1.0 -beta1**t)\n",
        "      v_B_hat=v_db/(1.0 -beta2**t)\n",
        "      biases[i]=biases[i]-(eta*m_B_hat)/np.sqrt(v_B_hat+epsilon)\n",
        "\n",
        "      v_W[i]=v_dw\n",
        "      v_B[i]=v_db\n",
        "      m_W[i]=m_dw\n",
        "      m_B[i]=m_db\n",
        "\n",
        "\n",
        "    t=t+1\n",
        "    return weights,biases,m_W,m_B,v_W,v_B,t\n"
      ]
    },
    {
      "cell_type": "markdown",
      "metadata": {
        "id": "K7hmUF-x698F"
      },
      "source": [
        "### LEARNING PARAMETERS"
      ]
    },
    {
      "cell_type": "code",
      "execution_count": 109,
      "metadata": {
        "id": "bx4cOoKv698G"
      },
      "outputs": [],
      "source": [
        "def learning_params(hidden_layers,neurons,x_train,y_train,learning_algorithm,eta,epochs,batch_size):\n",
        "  count=1\n",
        "  predicted_y=[]\n",
        "  weights,biases,previous_updates_W,previous_updates_B=initialize_params(hidden_layers,neurons)\n",
        "  L=hidden_layers+1\n",
        "  t=1\n",
        "  v_W = previous_updates_W.copy()\n",
        "  m_W = previous_updates_W.copy()\n",
        "  v_B = previous_updates_B.copy()\n",
        "  m_B = previous_updates_B.copy()\n",
        "  beta=0.9\n",
        "  while count<=epochs:\n",
        "      for i in range(0,x_train.shape[1],batch_size):\n",
        "        mini_batch=x_train[:,i:i+batch_size]\n",
        "        if learning_algorithm=='nestrov_accelerated_gradient_descent':\n",
        "          \n",
        "          W_look_ahead=weights-(beta)*previous_updates_W\n",
        "          B_look_ahead=biases-(beta)*previous_updates_B\n",
        "          # print(W_look_ahead[1])\n",
        "          output,post_act,pre_act=FeedForwardNetwork(W_look_ahead,B_look_ahead,L,mini_batch)\n",
        "          gradients_W,gradients_B=BackPropogation(W_look_ahead,L,post_act,pre_act,exp_y[:,i:i+batch_size],output)\n",
        "          weights,biases,previous_updates_W,previous_updates_B=update_parameters_momentum(weights,biases, gradients_B,gradients_W, beta, previous_updates_W,previous_updates_B,eta,L)\n",
        "        elif learning_algorithm=='nadam':\n",
        "          W_look_ahead=weights-(beta)*previous_updates_W\n",
        "          B_look_ahead=biases-(beta)*previous_updates_B\n",
        "          output,post_act,pre_act=FeedForwardNetwork(W_look_ahead,B_look_ahead,L,mini_batch)\n",
        "          gradients_W,gradients_B=BackPropogation(W_look_ahead,L,post_act,pre_act,exp_y[:,i:i+batch_size],output)\n",
        "          weights,biases,m_W,m_B,v_W,v_B,t= update_parameters_adam(weights, biases, gradients_B,gradients_W,eta, m_W,m_B,v_W,v_B, t,L)\n",
        "        else:\n",
        "          output,post_act,pre_act=FeedForwardNetwork(weights,biases,L,mini_batch)\n",
        "          gradients_W,gradients_B=BackPropogation(weights,L,post_act,pre_act,exp_y[:,i:i+batch_size],output)\n",
        "          if learning_algorithm=='momemtum_gradient_descent':\n",
        "            weights,biases,previous_updates_W,previous_updates_B=update_parameters_momentum(weights, biases, gradients_B,gradients_W, beta, previous_updates_W,previous_updates_B,eta,L)\n",
        "          elif learning_algorithm=='stochastic_gradient_descent':\n",
        "            weights,biases=sgd_params_update(weights,biases,gradients_W,gradients_B,eta)\n",
        "          elif learning_algorithm=='adam':\n",
        "            weights,biases,m_W,m_B,v_W,v_B,t= update_parameters_adam(weights, biases, gradients_B,gradients_W,eta, m_W,m_B,v_W,v_B, t,L)          \n",
        "\n",
        "          \n",
        "      # print(weights[1])\n",
        "      full_output,_,_=FeedForwardNetwork(weights,biases,L,x_train)\n",
        "      predicted_y.append(np.argmax(full_output,axis=0))\n",
        "      count+=1\n",
        "  # print(full_output)\n",
        "  return weights,biases,predicted_y"
      ]
    },
    {
      "cell_type": "markdown",
      "metadata": {
        "id": "AHPhRMxf698B"
      },
      "source": [
        "## **MODEL 1**\n",
        "---\n",
        "MOMEMTUM GRADIENT DESCENT\n"
      ]
    },
    {
      "cell_type": "code",
      "execution_count": 14,
      "metadata": {
        "id": "I0WHn8gy698E"
      },
      "outputs": [],
      "source": [
        "batch_size=512\n",
        "epochs=10\n",
        "eta=0.001\n",
        "learning_algorithm=\"momemtum_gradient_descent\"\n",
        "hidden_layers=3\n",
        "neurons=[0,128,128,128]"
      ]
    },
    {
      "cell_type": "code",
      "execution_count": 15,
      "metadata": {
        "id": "6vrjjGQBIkEC"
      },
      "outputs": [],
      "source": [
        "weights,biases,predicted_y=learning_params(hidden_layers,neurons,x_train,y_train,learning_algorithm,eta,epochs,batch_size)"
      ]
    },
    {
      "cell_type": "markdown",
      "metadata": {
        "id": "pxxJyKe8SkCC"
      },
      "source": [
        "## **MODEL 2**\n",
        "---\n",
        "STOCHASTIC GRADIENT DESCENT"
      ]
    },
    {
      "cell_type": "code",
      "execution_count": 87,
      "metadata": {
        "id": "mAglfVSbSi9s"
      },
      "outputs": [],
      "source": [
        "batch_size=512\n",
        "epochs=42\n",
        "eta=0.001\n",
        "learning_algorithm=\"stochastic_gradient_descent\"\n",
        "hidden_layers=3\n",
        "neurons=[0,128,128,128]"
      ]
    },
    {
      "cell_type": "code",
      "execution_count": null,
      "metadata": {
        "id": "4DJBovrgLQ8E"
      },
      "outputs": [],
      "source": [
        "weights,biases,predicted_y=learning_params(hidden_layers,neurons,x_train,y_train,learning_algorithm,eta,epochs,batch_size)"
      ]
    },
    {
      "cell_type": "markdown",
      "metadata": {
        "id": "2IuovO7QLQ8E"
      },
      "source": [
        "## Model 3\n",
        "\n",
        "----\n",
        "Nestrov Accelerated Gradient Descent\n"
      ]
    },
    {
      "cell_type": "code",
      "execution_count": 106,
      "metadata": {
        "id": "8bxDftZnLQ8F"
      },
      "outputs": [],
      "source": [
        "batch_size=32\n",
        "epochs=10\n",
        "eta=0.01\n",
        "learning_algorithm=\"nestrov_accelerated_gradient_descent\"\n",
        "hidden_layers=3\n",
        "neurons=[0,128,128,128]"
      ]
    },
    {
      "cell_type": "code",
      "execution_count": 107,
      "metadata": {
        "id": "ZIN7gaWELQ8F"
      },
      "outputs": [],
      "source": [
        "weights,biases,predicted_y=learning_params(hidden_layers,neurons,x_train,y_train,learning_algorithm,eta,epochs,batch_size)"
      ]
    },
    {
      "cell_type": "markdown",
      "source": [
        "## Model 4\n"
      ],
      "metadata": {
        "id": "weCREUaZBMAh"
      }
    },
    {
      "cell_type": "code",
      "source": [
        "batch_size=32\n",
        "epochs=5\n",
        "eta=0.001\n",
        "learning_algorithm=\"adam\"\n",
        "hidden_layers=3\n",
        "neurons=[0,128,128,128]"
      ],
      "metadata": {
        "id": "htmlzpNCW3Yt"
      },
      "execution_count": 74,
      "outputs": []
    },
    {
      "cell_type": "code",
      "source": [
        "weights,biases,predicted_y=learning_params(hidden_layers,neurons,x_train,y_train,learning_algorithm,eta,epochs,batch_size)"
      ],
      "metadata": {
        "id": "OHJ95TV0W3tI"
      },
      "execution_count": 82,
      "outputs": []
    },
    {
      "cell_type": "markdown",
      "source": [
        "## Model 4"
      ],
      "metadata": {
        "id": "t9x-_yBMMqM6"
      }
    },
    {
      "cell_type": "code",
      "source": [
        "batch_size=32\n",
        "epochs=10\n",
        "eta=0.001\n",
        "learning_algorithm=\"nadam\"\n",
        "hidden_layers=3\n",
        "neurons=[0,128,128,128]"
      ],
      "metadata": {
        "id": "Y26pfdobM4Ao"
      },
      "execution_count": 115,
      "outputs": []
    },
    {
      "cell_type": "code",
      "source": [
        "weights,biases,predicted_y=learning_params(hidden_layers,neurons,x_train,y_train,learning_algorithm,eta,epochs,batch_size)"
      ],
      "metadata": {
        "id": "qmxabyrdM8Gz"
      },
      "execution_count": 116,
      "outputs": []
    },
    {
      "cell_type": "markdown",
      "metadata": {
        "id": "_lw6vC4ULQ8G"
      },
      "source": [
        "## Checking Accuracy"
      ]
    },
    {
      "cell_type": "code",
      "execution_count": 118,
      "metadata": {
        "id": "nxsg-bE-DoXD",
        "colab": {
          "base_uri": "https://localhost:8080/"
        },
        "outputId": "0c26effa-6826-4022-96aa-010db6ec71ff"
      },
      "outputs": [
        {
          "output_type": "stream",
          "name": "stdout",
          "text": [
            "Training accuracy = 84.552 %\n",
            "Training accuracy = 86.522 %\n",
            "Training accuracy = 87.457 %\n",
            "Training accuracy = 88.032 %\n",
            "Training accuracy = 88.405 %\n",
            "Training accuracy = 88.773 %\n",
            "Training accuracy = 89.233 %\n",
            "Training accuracy = 89.553 %\n",
            "Training accuracy = 89.772 %\n",
            "Training accuracy = 89.93 %\n"
          ]
        }
      ],
      "source": [
        "from sklearn.metrics import classification_report, accuracy_score, confusion_matrix\n",
        "# print(weights)\n",
        "for i in range(0,len(predicted_y)):\n",
        "    print(\"Training accuracy = {} %\".format(round(accuracy_score(y_train, predicted_y[i]) * 100, 3)))"
      ]
    },
    {
      "cell_type": "code",
      "execution_count": 84,
      "metadata": {
        "colab": {
          "base_uri": "https://localhost:8080/"
        },
        "id": "w576e1Qk698A",
        "outputId": "357bb843-b4e9-44d7-dc9f-8a5815c7ebf3"
      },
      "outputs": [
        {
          "output_type": "stream",
          "name": "stdout",
          "text": [
            "(10, 10000)\n",
            "[9 2 1 ... 8 1 5]\n",
            "Testing accuracy = 86.55 %\n"
          ]
        }
      ],
      "source": [
        "predicted_y_temp=[]\n",
        "from sklearn.metrics import classification_report, accuracy_score, confusion_matrix\n",
        "output,post_act,pre_act=FeedForwardNetwork(weights,biases,hidden_layers+1,x_test)\n",
        "print(output.shape)\n",
        "predicted_y_temp.append(np.argmax(output,axis=0))\n",
        "for i in range(0,len(predicted_y_temp)):\n",
        "    print(predicted_y_temp[i])\n",
        "    print(\"Testing accuracy = {} %\".format(round(accuracy_score(y_test, predicted_y_temp[i]) * 100, 3)))"
      ]
    }
  ],
  "metadata": {
    "colab": {
      "provenance": []
    },
    "kernelspec": {
      "display_name": "Python 3",
      "language": "python",
      "name": "python3"
    },
    "language_info": {
      "codemirror_mode": {
        "name": "ipython",
        "version": 3
      },
      "file_extension": ".py",
      "mimetype": "text/x-python",
      "name": "python",
      "nbconvert_exporter": "python",
      "pygments_lexer": "ipython3",
      "version": "3.10.6"
    },
    "orig_nbformat": 4,
    "vscode": {
      "interpreter": {
        "hash": "f029a96fcde925865f209d04c046aca0c9550919b0e4a2b27b2863cc9a9c3f3e"
      }
    },
    "widgets": {
      "application/vnd.jupyter.widget-state+json": {
        "3d78eba9c4dc4848a83fdf414f3c0c0d": {
          "model_module": "@jupyter-widgets/controls",
          "model_name": "VBoxModel",
          "model_module_version": "1.5.0",
          "state": {
            "_dom_classes": [],
            "_model_module": "@jupyter-widgets/controls",
            "_model_module_version": "1.5.0",
            "_model_name": "VBoxModel",
            "_view_count": null,
            "_view_module": "@jupyter-widgets/controls",
            "_view_module_version": "1.5.0",
            "_view_name": "VBoxView",
            "box_style": "",
            "children": [
              "IPY_MODEL_e247bc145e704b13895702e5865f5cc7",
              "IPY_MODEL_bae14605a72c4ea5bd242a80e7ecd427"
            ],
            "layout": "IPY_MODEL_7e5edba4391643429ce6838b7a5bb080"
          }
        },
        "e247bc145e704b13895702e5865f5cc7": {
          "model_module": "@jupyter-widgets/controls",
          "model_name": "LabelModel",
          "model_module_version": "1.5.0",
          "state": {
            "_dom_classes": [],
            "_model_module": "@jupyter-widgets/controls",
            "_model_module_version": "1.5.0",
            "_model_name": "LabelModel",
            "_view_count": null,
            "_view_module": "@jupyter-widgets/controls",
            "_view_module_version": "1.5.0",
            "_view_name": "LabelView",
            "description": "",
            "description_tooltip": null,
            "layout": "IPY_MODEL_e3aa5a88066044f6bb4660836a0148b6",
            "placeholder": "​",
            "style": "IPY_MODEL_702108d42fe44f949aeff4572738fe2c",
            "value": "0.019 MB of 0.027 MB uploaded (0.000 MB deduped)\r"
          }
        },
        "bae14605a72c4ea5bd242a80e7ecd427": {
          "model_module": "@jupyter-widgets/controls",
          "model_name": "FloatProgressModel",
          "model_module_version": "1.5.0",
          "state": {
            "_dom_classes": [],
            "_model_module": "@jupyter-widgets/controls",
            "_model_module_version": "1.5.0",
            "_model_name": "FloatProgressModel",
            "_view_count": null,
            "_view_module": "@jupyter-widgets/controls",
            "_view_module_version": "1.5.0",
            "_view_name": "ProgressView",
            "bar_style": "",
            "description": "",
            "description_tooltip": null,
            "layout": "IPY_MODEL_99abb386b6a44cbc9f35820cc64f29e8",
            "max": 1,
            "min": 0,
            "orientation": "horizontal",
            "style": "IPY_MODEL_894adc05cfb54a9494100ecd9c857811",
            "value": 0.6842808893892485
          }
        },
        "7e5edba4391643429ce6838b7a5bb080": {
          "model_module": "@jupyter-widgets/base",
          "model_name": "LayoutModel",
          "model_module_version": "1.2.0",
          "state": {
            "_model_module": "@jupyter-widgets/base",
            "_model_module_version": "1.2.0",
            "_model_name": "LayoutModel",
            "_view_count": null,
            "_view_module": "@jupyter-widgets/base",
            "_view_module_version": "1.2.0",
            "_view_name": "LayoutView",
            "align_content": null,
            "align_items": null,
            "align_self": null,
            "border": null,
            "bottom": null,
            "display": null,
            "flex": null,
            "flex_flow": null,
            "grid_area": null,
            "grid_auto_columns": null,
            "grid_auto_flow": null,
            "grid_auto_rows": null,
            "grid_column": null,
            "grid_gap": null,
            "grid_row": null,
            "grid_template_areas": null,
            "grid_template_columns": null,
            "grid_template_rows": null,
            "height": null,
            "justify_content": null,
            "justify_items": null,
            "left": null,
            "margin": null,
            "max_height": null,
            "max_width": null,
            "min_height": null,
            "min_width": null,
            "object_fit": null,
            "object_position": null,
            "order": null,
            "overflow": null,
            "overflow_x": null,
            "overflow_y": null,
            "padding": null,
            "right": null,
            "top": null,
            "visibility": null,
            "width": null
          }
        },
        "e3aa5a88066044f6bb4660836a0148b6": {
          "model_module": "@jupyter-widgets/base",
          "model_name": "LayoutModel",
          "model_module_version": "1.2.0",
          "state": {
            "_model_module": "@jupyter-widgets/base",
            "_model_module_version": "1.2.0",
            "_model_name": "LayoutModel",
            "_view_count": null,
            "_view_module": "@jupyter-widgets/base",
            "_view_module_version": "1.2.0",
            "_view_name": "LayoutView",
            "align_content": null,
            "align_items": null,
            "align_self": null,
            "border": null,
            "bottom": null,
            "display": null,
            "flex": null,
            "flex_flow": null,
            "grid_area": null,
            "grid_auto_columns": null,
            "grid_auto_flow": null,
            "grid_auto_rows": null,
            "grid_column": null,
            "grid_gap": null,
            "grid_row": null,
            "grid_template_areas": null,
            "grid_template_columns": null,
            "grid_template_rows": null,
            "height": null,
            "justify_content": null,
            "justify_items": null,
            "left": null,
            "margin": null,
            "max_height": null,
            "max_width": null,
            "min_height": null,
            "min_width": null,
            "object_fit": null,
            "object_position": null,
            "order": null,
            "overflow": null,
            "overflow_x": null,
            "overflow_y": null,
            "padding": null,
            "right": null,
            "top": null,
            "visibility": null,
            "width": null
          }
        },
        "702108d42fe44f949aeff4572738fe2c": {
          "model_module": "@jupyter-widgets/controls",
          "model_name": "DescriptionStyleModel",
          "model_module_version": "1.5.0",
          "state": {
            "_model_module": "@jupyter-widgets/controls",
            "_model_module_version": "1.5.0",
            "_model_name": "DescriptionStyleModel",
            "_view_count": null,
            "_view_module": "@jupyter-widgets/base",
            "_view_module_version": "1.2.0",
            "_view_name": "StyleView",
            "description_width": ""
          }
        },
        "99abb386b6a44cbc9f35820cc64f29e8": {
          "model_module": "@jupyter-widgets/base",
          "model_name": "LayoutModel",
          "model_module_version": "1.2.0",
          "state": {
            "_model_module": "@jupyter-widgets/base",
            "_model_module_version": "1.2.0",
            "_model_name": "LayoutModel",
            "_view_count": null,
            "_view_module": "@jupyter-widgets/base",
            "_view_module_version": "1.2.0",
            "_view_name": "LayoutView",
            "align_content": null,
            "align_items": null,
            "align_self": null,
            "border": null,
            "bottom": null,
            "display": null,
            "flex": null,
            "flex_flow": null,
            "grid_area": null,
            "grid_auto_columns": null,
            "grid_auto_flow": null,
            "grid_auto_rows": null,
            "grid_column": null,
            "grid_gap": null,
            "grid_row": null,
            "grid_template_areas": null,
            "grid_template_columns": null,
            "grid_template_rows": null,
            "height": null,
            "justify_content": null,
            "justify_items": null,
            "left": null,
            "margin": null,
            "max_height": null,
            "max_width": null,
            "min_height": null,
            "min_width": null,
            "object_fit": null,
            "object_position": null,
            "order": null,
            "overflow": null,
            "overflow_x": null,
            "overflow_y": null,
            "padding": null,
            "right": null,
            "top": null,
            "visibility": null,
            "width": null
          }
        },
        "894adc05cfb54a9494100ecd9c857811": {
          "model_module": "@jupyter-widgets/controls",
          "model_name": "ProgressStyleModel",
          "model_module_version": "1.5.0",
          "state": {
            "_model_module": "@jupyter-widgets/controls",
            "_model_module_version": "1.5.0",
            "_model_name": "ProgressStyleModel",
            "_view_count": null,
            "_view_module": "@jupyter-widgets/base",
            "_view_module_version": "1.2.0",
            "_view_name": "StyleView",
            "bar_color": null,
            "description_width": ""
          }
        }
      }
    }
  },
  "nbformat": 4,
  "nbformat_minor": 0
}