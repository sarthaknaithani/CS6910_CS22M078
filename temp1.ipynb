{
  "cells": [
    {
      "cell_type": "code",
      "execution_count": 1,
      "metadata": {
        "id": "vMEeBJLTeyKB"
      },
      "outputs": [
        {
          "name": "stdout",
          "output_type": "stream",
          "text": [
            "Requirement already satisfied: wandb in c:\\users\\sarthak naithani\\appdata\\local\\programs\\python\\python310\\lib\\site-packages (0.13.10)\n",
            "Requirement already satisfied: pathtools in c:\\users\\sarthak naithani\\appdata\\local\\programs\\python\\python310\\lib\\site-packages (from wandb) (0.1.2)\n",
            "Requirement already satisfied: setproctitle in c:\\users\\sarthak naithani\\appdata\\local\\programs\\python\\python310\\lib\\site-packages (from wandb) (1.3.2)\n",
            "Requirement already satisfied: GitPython>=1.0.0 in c:\\users\\sarthak naithani\\appdata\\local\\programs\\python\\python310\\lib\\site-packages (from wandb) (3.1.31)\n",
            "Requirement already satisfied: sentry-sdk>=1.0.0 in c:\\users\\sarthak naithani\\appdata\\local\\programs\\python\\python310\\lib\\site-packages (from wandb) (1.15.0)\n",
            "Requirement already satisfied: setuptools in c:\\users\\sarthak naithani\\appdata\\local\\programs\\python\\python310\\lib\\site-packages (from wandb) (63.2.0)\n",
            "Requirement already satisfied: Click!=8.0.0,>=7.0 in c:\\users\\sarthak naithani\\appdata\\local\\programs\\python\\python310\\lib\\site-packages (from wandb) (8.1.3)\n",
            "Requirement already satisfied: PyYAML in c:\\users\\sarthak naithani\\appdata\\local\\programs\\python\\python310\\lib\\site-packages (from wandb) (6.0)\n",
            "Requirement already satisfied: appdirs>=1.4.3 in c:\\users\\sarthak naithani\\appdata\\local\\programs\\python\\python310\\lib\\site-packages (from wandb) (1.4.4)\n",
            "Requirement already satisfied: protobuf!=4.21.0,<5,>=3.19.0 in c:\\users\\sarthak naithani\\appdata\\local\\programs\\python\\python310\\lib\\site-packages (from wandb) (3.19.6)\n",
            "Requirement already satisfied: psutil>=5.0.0 in c:\\users\\sarthak naithani\\appdata\\local\\programs\\python\\python310\\lib\\site-packages (from wandb) (5.9.1)\n",
            "Requirement already satisfied: docker-pycreds>=0.4.0 in c:\\users\\sarthak naithani\\appdata\\local\\programs\\python\\python310\\lib\\site-packages (from wandb) (0.4.0)\n",
            "Requirement already satisfied: requests<3,>=2.0.0 in c:\\users\\sarthak naithani\\appdata\\local\\programs\\python\\python310\\lib\\site-packages (from wandb) (2.28.1)\n",
            "Requirement already satisfied: colorama in c:\\users\\sarthak naithani\\appdata\\local\\programs\\python\\python310\\lib\\site-packages (from Click!=8.0.0,>=7.0->wandb) (0.4.5)\n",
            "Requirement already satisfied: six>=1.4.0 in c:\\users\\sarthak naithani\\appdata\\local\\programs\\python\\python310\\lib\\site-packages (from docker-pycreds>=0.4.0->wandb) (1.16.0)\n",
            "Requirement already satisfied: gitdb<5,>=4.0.1 in c:\\users\\sarthak naithani\\appdata\\local\\programs\\python\\python310\\lib\\site-packages (from GitPython>=1.0.0->wandb) (4.0.10)\n",
            "Requirement already satisfied: idna<4,>=2.5 in c:\\users\\sarthak naithani\\appdata\\local\\programs\\python\\python310\\lib\\site-packages (from requests<3,>=2.0.0->wandb) (3.3)\n",
            "Requirement already satisfied: certifi>=2017.4.17 in c:\\users\\sarthak naithani\\appdata\\local\\programs\\python\\python310\\lib\\site-packages (from requests<3,>=2.0.0->wandb) (2022.6.15)\n",
            "Requirement already satisfied: urllib3<1.27,>=1.21.1 in c:\\users\\sarthak naithani\\appdata\\local\\programs\\python\\python310\\lib\\site-packages (from requests<3,>=2.0.0->wandb) (1.26.11)\n",
            "Requirement already satisfied: charset-normalizer<3,>=2 in c:\\users\\sarthak naithani\\appdata\\local\\programs\\python\\python310\\lib\\site-packages (from requests<3,>=2.0.0->wandb) (2.1.0)\n",
            "Requirement already satisfied: smmap<6,>=3.0.1 in c:\\users\\sarthak naithani\\appdata\\local\\programs\\python\\python310\\lib\\site-packages (from gitdb<5,>=4.0.1->GitPython>=1.0.0->wandb) (5.0.0)\n"
          ]
        },
        {
          "name": "stderr",
          "output_type": "stream",
          "text": [
            "WARNING: Ignoring invalid distribution -rotobuf (c:\\users\\sarthak naithani\\appdata\\local\\programs\\python\\python310\\lib\\site-packages)\n",
            "WARNING: Ignoring invalid distribution -rotobuf (c:\\users\\sarthak naithani\\appdata\\local\\programs\\python\\python310\\lib\\site-packages)\n",
            "WARNING: Ignoring invalid distribution -rotobuf (c:\\users\\sarthak naithani\\appdata\\local\\programs\\python\\python310\\lib\\site-packages)\n",
            "WARNING: Ignoring invalid distribution -rotobuf (c:\\users\\sarthak naithani\\appdata\\local\\programs\\python\\python310\\lib\\site-packages)\n",
            "WARNING: Ignoring invalid distribution -rotobuf (c:\\users\\sarthak naithani\\appdata\\local\\programs\\python\\python310\\lib\\site-packages)\n",
            "WARNING: Ignoring invalid distribution -rotobuf (c:\\users\\sarthak naithani\\appdata\\local\\programs\\python\\python310\\lib\\site-packages)\n"
          ]
        }
      ],
      "source": [
        "! pip install wandb"
      ]
    },
    {
      "cell_type": "code",
      "execution_count": 2,
      "metadata": {
        "id": "SfQKQYGw697b"
      },
      "outputs": [],
      "source": [
        "from sklearn.model_selection import train_test_split\n",
        "import wandb\n",
        "from keras.datasets import fashion_mnist\n",
        "import pandas as pd\n",
        "import numpy as np\n",
        "import matplotlib.pyplot as plt"
      ]
    },
    {
      "cell_type": "code",
      "execution_count": 3,
      "metadata": {
        "id": "t_EBHCoH697m"
      },
      "outputs": [
        {
          "name": "stderr",
          "output_type": "stream",
          "text": [
            "Failed to detect the name of this notebook, you can set it manually with the WANDB_NOTEBOOK_NAME environment variable to enable code saving.\n",
            "\u001b[34m\u001b[1mwandb\u001b[0m: Currently logged in as: \u001b[33mcs22m078\u001b[0m. Use \u001b[1m`wandb login --relogin`\u001b[0m to force relogin\n"
          ]
        },
        {
          "data": {
            "text/plain": [
              "True"
            ]
          },
          "execution_count": 3,
          "metadata": {},
          "output_type": "execute_result"
        }
      ],
      "source": [
        "wandb.login()"
      ]
    },
    {
      "cell_type": "markdown",
      "metadata": {
        "id": "RMKAtDnkJxwF"
      },
      "source": [
        "### DOWNLOADING THE DATASET AND PLOTTING ONE SAMPLE IMAGE FROM EACH CLASS"
      ]
    },
    {
      "cell_type": "code",
      "execution_count": 4,
      "metadata": {
        "id": "cFpHsIZX697r"
      },
      "outputs": [
        {
          "data": {
            "text/html": [
              "wandb version 0.13.11 is available!  To upgrade, please run:\n",
              " $ pip install wandb --upgrade"
            ],
            "text/plain": [
              "<IPython.core.display.HTML object>"
            ]
          },
          "metadata": {},
          "output_type": "display_data"
        },
        {
          "data": {
            "text/html": [
              "Tracking run with wandb version 0.13.10"
            ],
            "text/plain": [
              "<IPython.core.display.HTML object>"
            ]
          },
          "metadata": {},
          "output_type": "display_data"
        },
        {
          "data": {
            "text/html": [
              "Run data is saved locally in <code>d:\\DL\\CS6910_CS22M078\\wandb\\run-20230311_115140-usx7m619</code>"
            ],
            "text/plain": [
              "<IPython.core.display.HTML object>"
            ]
          },
          "metadata": {},
          "output_type": "display_data"
        },
        {
          "data": {
            "text/html": [
              "Syncing run <strong><a href='https://wandb.ai/cs22m078/CS6910_Assignment-1/runs/usx7m619' target=\"_blank\">worldly-field-144</a></strong> to <a href='https://wandb.ai/cs22m078/CS6910_Assignment-1' target=\"_blank\">Weights & Biases</a> (<a href='https://wandb.me/run' target=\"_blank\">docs</a>)<br/>"
            ],
            "text/plain": [
              "<IPython.core.display.HTML object>"
            ]
          },
          "metadata": {},
          "output_type": "display_data"
        },
        {
          "data": {
            "text/html": [
              " View project at <a href='https://wandb.ai/cs22m078/CS6910_Assignment-1' target=\"_blank\">https://wandb.ai/cs22m078/CS6910_Assignment-1</a>"
            ],
            "text/plain": [
              "<IPython.core.display.HTML object>"
            ]
          },
          "metadata": {},
          "output_type": "display_data"
        },
        {
          "data": {
            "text/html": [
              " View run at <a href='https://wandb.ai/cs22m078/CS6910_Assignment-1/runs/usx7m619' target=\"_blank\">https://wandb.ai/cs22m078/CS6910_Assignment-1/runs/usx7m619</a>"
            ],
            "text/plain": [
              "<IPython.core.display.HTML object>"
            ]
          },
          "metadata": {},
          "output_type": "display_data"
        },
        {
          "data": {
            "text/html": [
              "Waiting for W&B process to finish... <strong style=\"color:green\">(success).</strong>"
            ],
            "text/plain": [
              "<IPython.core.display.HTML object>"
            ]
          },
          "metadata": {},
          "output_type": "display_data"
        },
        {
          "data": {
            "application/vnd.jupyter.widget-view+json": {
              "model_id": "1b46eb06bf794615afa25957ea3278cc",
              "version_major": 2,
              "version_minor": 0
            },
            "text/plain": [
              "VBox(children=(Label(value='0.019 MB of 0.022 MB uploaded (0.000 MB deduped)\\r'), FloatProgress(value=0.849463…"
            ]
          },
          "metadata": {},
          "output_type": "display_data"
        },
        {
          "data": {
            "text/html": [
              " View run <strong style=\"color:#cdcd00\">worldly-field-144</strong> at: <a href='https://wandb.ai/cs22m078/CS6910_Assignment-1/runs/usx7m619' target=\"_blank\">https://wandb.ai/cs22m078/CS6910_Assignment-1/runs/usx7m619</a><br/>Synced 4 W&B file(s), 1 media file(s), 0 artifact file(s) and 0 other file(s)"
            ],
            "text/plain": [
              "<IPython.core.display.HTML object>"
            ]
          },
          "metadata": {},
          "output_type": "display_data"
        },
        {
          "data": {
            "text/html": [
              "Find logs at: <code>.\\wandb\\run-20230311_115140-usx7m619\\logs</code>"
            ],
            "text/plain": [
              "<IPython.core.display.HTML object>"
            ]
          },
          "metadata": {},
          "output_type": "display_data"
        },
        {
          "data": {
            "image/png": "[encoded data removed]",
            "text/plain": [
              "<Figure size 720x360 with 10 Axes>"
            ]
          },
          "metadata": {
            "needs_background": "light"
          },
          "output_type": "display_data"
        }
      ],
      "source": [
        "# start a new wandb run to track this script\n",
        "wandb.init(\n",
        "    # set the wandb project where this run will be logged\n",
        "    project=\"CS6910_Assignment-1\",\n",
        ")\n",
        "\n",
        "# simulate training\n",
        "# x_train is a (60000,28,28) matrix consisting image pixels for training\n",
        "# y_train is a (60000,1) matrix consisting of labels\n",
        "# x_test is a (10000,28,28) matrix consisting image pixels for testing\n",
        "# y_test is a (10000,1) matrix consisting of labels for testing\n",
        "(x_train, y_train), (x_test, y_test) =fashion_mnist.load_data()\n",
        "labels=set()\n",
        "i=0\n",
        "fig,ax=plt.subplots(2,5,figsize=(10,5))\n",
        "row=0\n",
        "col=0\n",
        "for pixels in x_train:\n",
        "  #The matplotlib function imshow() creates an image from a 2-dimensional numpy array\n",
        "  #pixels is (28,28) 2-D array\n",
        "  #l is the current label of image\n",
        "  l=y_train[i]\n",
        "  if(not(l in labels)):\n",
        "    if(col>=5):\n",
        "      col=0\n",
        "      row+=1\n",
        "    ax[row][col].imshow(pixels,cmap=\"gray\")\n",
        "    ax[row][col].set_title(\"Label {}\".format(l))\n",
        "    ax[row][col].axis(False)\n",
        "    labels.add(l)\n",
        "    col+=1\n",
        "  #if we get all our 10 labels just break the loop\n",
        "  if(len(labels)==10):\n",
        "    break;\n",
        "  i+=1\n",
        "wandb.log({\"plot\":plt})   \n",
        "# finish the wandb run, necessary in notebooks\n",
        "wandb.finish()"
      ]
    },
    {
      "cell_type": "markdown",
      "metadata": {
        "id": "99oM1GulHrTg"
      },
      "source": [
        "## DATA-PREPROCESSING"
      ]
    },
    {
      "cell_type": "code",
      "execution_count": 5,
      "metadata": {
        "id": "tkEiIJbr697v"
      },
      "outputs": [],
      "source": [
        "(x_train, y_train), (x_test, y_test) =fashion_mnist.load_data()\n",
        "#NORMALIZING THE DATASET\n",
        "x_train=x_train/255.0\n",
        "x_test=x_test/255.0\n",
        "#RESHAPING THE TRAIN_IMAGE DATASET FROM (60000,28x28) TO (60000,784) AND SAME FOR TEST_IMAGE\n",
        "num_inputs=784\n",
        "num_outputs=10\n",
        "x_train=x_train.reshape(60000,784)\n",
        "x_test=x_test.reshape(10000,784)\n",
        "\n",
        "\n",
        "#SPLITTING THE TRAINING DATA FOR VALIDATION AND TESTING\n",
        "train_x,val_x,train_y,val_y=train_test_split(x_train,y_train)\n",
        "train_x=np.transpose(train_x)\n",
        "train_y=np.transpose(train_y)\n",
        "val_x=np.transpose(val_x)\n",
        "val_y=np.transpose(val_y)\n",
        "\n",
        "#ONE-HOT ENCODING FOR Y_TRAIN AND Y_TEST: \n",
        "def one_hot_encoding(y):\n",
        "    # print(y.shape[0])\n",
        "    exp_y=np.zeros((10,y.shape[0]))\n",
        "    for i in range(0,y.shape[0]):\n",
        "        exp_y[y[i]][i]=1\n",
        "    return exp_y\n",
        "#RESHAPING MY DATA TO COLUMN-WISE IMAGES\n",
        "x_train=x_train.T\n",
        "x_test=x_test.T\n",
        "# print(y_train.shape)\n"
      ]
    },
    {
      "cell_type": "markdown",
      "metadata": {
        "id": "eHsTgloNKlu1"
      },
      "source": [
        "### ACTIVATION FUNCTIONS"
      ]
    },
    {
      "cell_type": "code",
      "execution_count": 6,
      "metadata": {
        "id": "0rjPkhE9697x"
      },
      "outputs": [],
      "source": [
        "def sigmoid(x):\n",
        "    return 1.0 / (1.0 + np.exp(-np.clip(x, -500, 500)))\n",
        "\n",
        "def sigmoid_derivative(x):\n",
        "    s = sigmoid(x)\n",
        "    return np.multiply(s, np.subtract(1, s))\n",
        "\n",
        "def softmax(x):\n",
        "    x=x-np.max(x)\n",
        "    return np.exp(x) / np.sum(np.exp(x), axis=0)\n",
        "\n",
        "def Relu(x):\n",
        "    return np.maximum(0,x)\n",
        "\n",
        "def Relu_derivative(x):\n",
        "    return 1*(x>0) \n",
        "\n",
        "def tanh(x):\n",
        "    return np.tanh(x)\n",
        "\n",
        "def tanh_derivative(x):\n",
        "    return (1 - (np.tanh(x)**2))"
      ]
    },
    {
      "cell_type": "markdown",
      "metadata": {
        "id": "JQwJriuPKz-F"
      },
      "source": [
        "### INITIALIZING THE PARAMETERS"
      ]
    },
    {
      "cell_type": "code",
      "execution_count": 7,
      "metadata": {
        "id": "AWQEwczB6972"
      },
      "outputs": [],
      "source": [
        "def initialize_params(hidden_layers,neurons,method):\n",
        "  #USING XAVIER INITIALIZATION TO INITIALIZE WEIGHTS AND BIAS MATRIX\n",
        "\n",
        "  #INDEXING DONE FROM 1\n",
        "  L=hidden_layers+1 #number of layers excluding hidden layer\n",
        "  weights=[0]*(hidden_layers+2)\n",
        "  biases=[0]*(hidden_layers+2)\n",
        "  previous_updates_W=[0]*(hidden_layers+2)\n",
        "  previous_updates_B=[0]*(hidden_layers+2)\n",
        "  np.random.seed(42)\n",
        "  for i in range(1,hidden_layers+1):\n",
        "    n=neurons[i]\n",
        "    # appending the weight and bias matrix for the ith layer\n",
        "    if(i==1):\n",
        "      if method=='xavier':\n",
        "        weights[i]=(np.random.randn(n,784)*np.sqrt(2/(n+784)))\n",
        "      if method=='random':\n",
        "        weights[i]=(np.random.randn(n,784))*0.01\n",
        "      biases[i]=(np.zeros((n,1)))\n",
        "      previous_updates_W[i]=np.zeros((n,784))\n",
        "      previous_updates_B[i]=np.zeros((n,1))\n",
        "      # biases[i]=(np.random.randn(n,1))\n",
        "    else:\n",
        "      if method=='xavier':\n",
        "        weights[i]=(np.random.randn(n,neurons[i-1])*np.sqrt(2/(n+neurons[i-1])))\n",
        "      if method=='random':\n",
        "        weights[i]=(np.random.randn(n,neurons[i-1]))*0.01\n",
        "      biases[i]=(np.zeros((n,1)))\n",
        "      previous_updates_W[i]=np.zeros((n,neurons[i-1]))\n",
        "      previous_updates_B[i]=np.zeros((n,1))\n",
        "      # biases[i]=(np.random.randn(n,1))\n",
        "  weights[L]=(np.random.randn(10,neurons[hidden_layers])*np.sqrt(2/(10+neurons[hidden_layers-1])))\n",
        "  biases[L]=(np.zeros((10,1)))\n",
        "  previous_updates_W[L]=np.zeros((10,neurons[hidden_layers]))\n",
        "  previous_updates_B[L]=np.zeros((10,1))\n",
        "  weights=np.array(weights,dtype=object)\n",
        "  biases=np.array(biases,dtype=object)\n",
        "  previous_updates_W=np.array(previous_updates_W,dtype=object)\n",
        "  previous_updates_B=np.array(previous_updates_B,dtype=object)\n",
        "  return weights,biases,previous_updates_W,previous_updates_B"
      ]
    },
    {
      "cell_type": "markdown",
      "metadata": {
        "id": "WAe2kdSTLThK"
      },
      "source": [
        "## FEED FORWARD PROPOGATION"
      ]
    },
    {
      "cell_type": "code",
      "execution_count": 8,
      "metadata": {
        "id": "wYfoVYJm6973"
      },
      "outputs": [],
      "source": [
        "def FeedForwardNetwork(weights,biases,L,data,activation):\n",
        "  #Returns the array containing the output probablity for each class the data can belong\n",
        "  a=[0]*(L+1)\n",
        "  h=[0]*(L+1)\n",
        "  h[0]=data\n",
        "  for i in range(1,L):\n",
        "    #weight and bias matrix for hidden-layer i\n",
        "    weight=weights[i]\n",
        "    bias=biases[i]\n",
        "    #pre activation\n",
        "    a[i]=(bias+np.matmul(weight,h[i-1]))\n",
        "    #post activation\n",
        "    if(activation=='sigmoid'):\n",
        "      h[i]=(sigmoid(a[i]))\n",
        "    if(activation=='relu'):\n",
        "      h[i]=(Relu(a[i]))\n",
        "    if(activation=='tanh'):\n",
        "      h[i]=(tanh(a[i]))\n",
        "  #weight and bias matrix for ouput layer\n",
        "  weight=weights[L]\n",
        "  bias=biases[L]\n",
        "  a[L]=(bias+np.matmul(weight,h[L-1]))\n",
        "  h[L]=softmax(a[L])\n",
        "  return h[L],h,a"
      ]
    },
    {
      "cell_type": "markdown",
      "metadata": {
        "id": "q8MhyJnsLm2w"
      },
      "source": [
        "## BACK PROPOGATION"
      ]
    },
    {
      "cell_type": "code",
      "execution_count": 9,
      "metadata": {
        "id": "4KvkdzaQ6975"
      },
      "outputs": [],
      "source": [
        "def BackPropogation(weights,L,H,A,exp_Y,y_hat,activation):\n",
        "  # Input Parameters of function\n",
        "  # --> Model Parameters: weights and biases\n",
        "  # --> H: Post-activations, A: Pre-Activations\n",
        "  # --> exp_Y: Actual Class Labels\n",
        "  # Returns list of gradients for each layer wrt weights and biases(parameters)\n",
        "  gradients_H=[0] * (L+1)\n",
        "  gradients_W=[0] * (L+1)\n",
        "  gradients_B=[0] * (L+1)\n",
        "  gradients_A=[0] * (L+1)\n",
        "  \n",
        "  #Computing Gradient For The Output Layer(Pre Activation)\n",
        "  gradients_A[L]=-(exp_Y-y_hat)\n",
        "  for k in range(L,0,-1):\n",
        "    #compute gradients of the parameters\n",
        "    gradients_W[k]=np.matmul(gradients_A[k],np.transpose(H[k-1]))\n",
        "    gradients_B[k]=np.sum(gradients_A[k], axis=1,keepdims=True)\n",
        "    #compute gradients of the hidden layers\n",
        "    gradients_H[k-1]=np.matmul(np.transpose(weights[k]),gradients_A[k])\n",
        "    if(k>1):\n",
        "      if activation=='sigmoid':\n",
        "        gradients_A[k-1]=np.multiply(gradients_H[k-1],sigmoid_derivative(A[k-1]))\n",
        "      if activation=='relu':\n",
        "        gradients_A[k-1]=np.multiply(gradients_H[k-1],Relu_derivative(A[k-1]))\n",
        "      if activation=='tanh':\n",
        "        gradients_A[k-1]=np.multiply(gradients_H[k-1],tanh_derivative(A[k-1]))\n",
        "    \n",
        "\n",
        "  return gradients_W,gradients_B"
      ]
    },
    {
      "attachments": {},
      "cell_type": "markdown",
      "metadata": {},
      "source": [
        "## LOSS AND ACCURACY FUNCTIONS"
      ]
    },
    {
      "cell_type": "code",
      "execution_count": 10,
      "metadata": {},
      "outputs": [],
      "source": [
        "def calc_loss(y,exp_y,loss,data_size):\n",
        "    #Calculating -log(p(x)) where p(x) is probablity where our of our actual class label of x\n",
        "    # exp_y contains y=1 if y is actual class of x else 0\n",
        "    # so dot product gives only the log of the probablity of actual class of x\n",
        "    if loss=='cross_entropy':\n",
        "        p_x= np.multiply(exp_y,np.log(y))\n",
        "        return -np.sum(p_x)/data_size\n",
        "    if loss=='MSE':\n",
        "        p_x=(y-exp_y)**2\n",
        "        return 0.5 * np.sum(p_x)/data_size\n",
        "\n",
        "\n",
        "def calc_accuracy(y,predicted_y):\n",
        "    correct=0\n",
        "    for i in range(len(y)):\n",
        "        if(y[i]==predicted_y[i]):\n",
        "            correct+=1\n",
        "    return (correct/len(y))*100"
      ]
    },
    {
      "cell_type": "markdown",
      "metadata": {
        "id": "WI4StwT2MD85"
      },
      "source": [
        "## FUNCTIONS FOR UPDATION OF PARAMETERS"
      ]
    },
    {
      "cell_type": "code",
      "execution_count": 15,
      "metadata": {
        "id": "YdH8lFBB698B"
      },
      "outputs": [],
      "source": [
        "def sgd_params_update(weights,biases,gradients_W,gradients_B,eta,L,L2_lamb):\n",
        "    gradients_B=np.array(gradients_B,dtype=object)\n",
        "    gradients_W=np.array(gradients_W,dtype=object)\n",
        "    for i in range(1,L+1):\n",
        "      weights[i]=weights[i]-eta*gradients_W[i] -(eta * L2_lamb * weights[i])\n",
        "      biases[i]=biases[i]-eta*gradients_B[i]\n",
        "    return weights,biases\n",
        "\n",
        "\n",
        "\n",
        "def update_parameters_momentum(weights, biases, gradients_B,gradients_W, beta, previous_updates_W,previous_updates_B,eta,L,L2_lamb):\n",
        "    gradients_B=np.array(gradients_B,dtype=object)\n",
        "    gradients_W=np.array(gradients_W,dtype=object)\n",
        "    for i in range(1,L+1):\n",
        "      previous_updates_W[i]=beta*previous_updates_W[i]+(1-beta)*gradients_W[i]\n",
        "      previous_updates_B[i]=beta*previous_updates_B[i]+(1-beta)*gradients_B[i]\n",
        "      weights[i]=weights[i]-eta*previous_updates_W[i]-(eta * L2_lamb * weights[i])\n",
        "      biases[i]=biases[i]-eta*previous_updates_B[i]\n",
        "    return weights,biases,previous_updates_W,previous_updates_B\n",
        "\n",
        "\n",
        "def update_parameters_adam(weights, biases, gradients_B,gradients_W,eta, m_W,m_B,v_W,v_B,t,L,L2_lamb):\n",
        "    gradients_B=np.array(gradients_B,dtype=object)\n",
        "    gradients_W=np.array(gradients_W,dtype=object)\n",
        "    beta1 = 0.9\n",
        "    beta2 = 0.99\n",
        "    epsilon = 1e-4 \n",
        "    for i in range(1,L+1):\n",
        "      m_dw=beta1*m_W[i]+(1-beta1)*gradients_W[i]\n",
        "      v_dw=beta2*v_W[i]+(1-beta2)*np.square(gradients_W[i])\n",
        "      m_W_hat=m_dw/(1.0 -beta1**t)\n",
        "      v_W_hat=v_dw/(1.0 -beta2**t)\n",
        "      v_W[i]=v_dw\n",
        "      m_W[i]=m_dw\n",
        "      m_db=beta1*m_B[i]+(1-beta1)*gradients_B[i]\n",
        "      v_db=beta2*v_B[i]+(1-beta2)*np.square(gradients_B[i])\n",
        "      m_B_hat=m_db/(1.0 -beta1**t)\n",
        "      v_B_hat=v_db/(1.0 -beta2**t)\n",
        "      weights[i]=weights[i]-(eta*m_W_hat)/np.sqrt(v_W_hat+epsilon)-(eta * L2_lamb * weights[i])\n",
        "      biases[i]=biases[i]-(eta*m_B_hat)/np.sqrt(v_B_hat+epsilon)\n",
        "      v_B[i]=v_db\n",
        "      m_B[i]=m_db\n",
        "    t=t+1\n",
        "    return weights,biases,m_W,m_B,v_W,v_B,t\n",
        "\n",
        "\n",
        "def rmsprop_params_update(weights, biases, gradients_B,gradients_W, beta,eta, W_v,B_v,L,L2_lamb):\n",
        "    gradients_B=np.array(gradients_B,dtype=object)\n",
        "    gradients_W=np.array(gradients_W,dtype=object)\n",
        "    for i in range(1,L+1):\n",
        "      v_dw= beta*W_v[i]+np.multiply(gradients_W[i],gradients_W[i])\n",
        "      v_db= beta*B_v[i]+np.multiply(gradients_B[i],gradients_B[i])\n",
        "      weights[i]=weights[i]-(eta*(gradients_W[i]))/np.sqrt((v_dw)+1e-4)-(eta * L2_lamb * weights[i])\n",
        "      biases[i]=biases[i]-(eta*(gradients_B[i]))/np.sqrt((v_db)+1e-4)\n",
        "      W_v[i]=v_dw\n",
        "      B_v[i]=v_db\n",
        "    return weights,biases,W_v,B_v\n"
      ]
    },
    {
      "cell_type": "markdown",
      "metadata": {
        "id": "K7hmUF-x698F"
      },
      "source": [
        "### LEARNING PARAMETERS"
      ]
    },
    {
      "cell_type": "code",
      "execution_count": 16,
      "metadata": {
        "id": "bx4cOoKv698G"
      },
      "outputs": [],
      "source": [
        "def learning_params(hidden_layers,neuron,x_train,y_train,x_val,y_val,learning_algorithm,eta,epochs,batch_size,activation,init_method,L2_lamb):\n",
        "  count=1\n",
        "  predicted_y=[]\n",
        "  L=hidden_layers+1\n",
        "  neurons=[0]*(L)\n",
        "  for i in range(1,L):\n",
        "    neurons[i]=neuron\n",
        "  exp_y=one_hot_encoding(y_train)\n",
        "  exp_y_val=one_hot_encoding(y_val)\n",
        "  weights,biases,previous_updates_W,previous_updates_B=initialize_params(hidden_layers,neurons,init_method)\n",
        "  epoch_train_loss=[]\n",
        "  epoch_val_loss=[]\n",
        "  acc_val=[]\n",
        "  acc_train=[]\n",
        "  t=1\n",
        "  v_W = previous_updates_W.copy()\n",
        "  m_W = previous_updates_W.copy()\n",
        "  v_B = previous_updates_B.copy()\n",
        "  m_B = previous_updates_B.copy()\n",
        "  beta=0.9\n",
        "  while count<=epochs:\n",
        "      for i in range(0,x_train.shape[1],batch_size):\n",
        "        mini_batch=x_train[:,i:i+batch_size]\n",
        "        if learning_algorithm=='nestrov_accelerated_gradient_descent':\n",
        "          \n",
        "          W_look_ahead=weights-(beta)*previous_updates_W\n",
        "          B_look_ahead=biases-(beta)*previous_updates_B\n",
        "          output,post_act,pre_act=FeedForwardNetwork(W_look_ahead,B_look_ahead,L,mini_batch,activation)\n",
        "          gradients_W,gradients_B=BackPropogation(W_look_ahead,L,post_act,pre_act,exp_y[:,i:i+batch_size],output,activation)\n",
        "          weights,biases,previous_updates_W,previous_updates_B=update_parameters_momentum(weights,biases, gradients_B,gradients_W, beta, previous_updates_W,previous_updates_B,eta,L,L2_lamb)\n",
        "        elif learning_algorithm=='nadam':\n",
        "          W_look_ahead=weights-(beta)*previous_updates_W\n",
        "          B_look_ahead=biases-(beta)*previous_updates_B\n",
        "          output,post_act,pre_act=FeedForwardNetwork(W_look_ahead,B_look_ahead,L,mini_batch,activation)\n",
        "          gradients_W,gradients_B=BackPropogation(W_look_ahead,L,post_act,pre_act,exp_y[:,i:i+batch_size],output,activation)\n",
        "          weights,biases,m_W,m_B,v_W,v_B,t= update_parameters_adam(weights, biases, gradients_B,gradients_W,eta, m_W,m_B,v_W,v_B, t,L,L2_lamb)\n",
        "        else:\n",
        "          output,post_act,pre_act=FeedForwardNetwork(weights,biases,L,mini_batch,activation)\n",
        "          gradients_W,gradients_B=BackPropogation(weights,L,post_act,pre_act,exp_y[:,i:i+batch_size],output,activation)\n",
        "          if learning_algorithm=='momemtum_gradient_descent':\n",
        "            weights,biases,previous_updates_W,previous_updates_B=update_parameters_momentum(weights, biases, gradients_B,gradients_W, beta, previous_updates_W,previous_updates_B,eta,L,L2_lamb)\n",
        "          elif learning_algorithm=='stochastic_gradient_descent':\n",
        "            weights,biases=sgd_params_update(weights,biases,gradients_W,gradients_B,eta,L,L2_lamb)\n",
        "          elif learning_algorithm=='adam':\n",
        "            weights,biases,m_W,m_B,v_W,v_B,t= update_parameters_adam(weights, biases, gradients_B,gradients_W,eta, m_W,m_B,v_W,v_B, t,L,L2_lamb)\n",
        "          elif learning_algorithm=='rmsprop':\n",
        "            weights,biases,previous_updates_W,previous_updates_B = rmsprop_params_update(weights, biases, gradients_B,gradients_W, beta,eta, previous_updates_W,previous_updates_B,L,L2_lamb)          \n",
        "\n",
        "          \n",
        "      # print(weights[1])\n",
        "      full_output_train,_,_=FeedForwardNetwork(weights,biases,L,x_train,activation)\n",
        "      full_output_val,_,_=FeedForwardNetwork(weights,biases,L,x_val,activation)\n",
        "      loss_train=calc_loss(full_output_train,exp_y,'cross_entropy',full_output_train.shape[1])\n",
        "      loss_val=calc_loss(full_output_val,exp_y_val,'cross_entropy',full_output_val.shape[1])\n",
        "      acc_train.append(calc_accuracy(y_train,np.argmax(full_output_train,axis=0)))\n",
        "      acc_val.append(calc_accuracy(y_val,np.argmax(full_output_val,axis=0)))\n",
        "      # predicted_y.append(np.argmax(full_output,axis=0))\n",
        "      epoch_train_loss.append(loss_train)\n",
        "      epoch_val_loss.append(loss_val)\n",
        "      # print(calc_accuracy(y_train,np.argmax(full_output_train,axis=0)))\n",
        "      # print(loss_train)\n",
        "      count+=1\n",
        "  return weights,biases,epoch_train_loss,epoch_val_loss,acc_train,acc_val"
      ]
    },
    {
      "cell_type": "code",
      "execution_count": 13,
      "metadata": {},
      "outputs": [
        {
          "name": "stdout",
          "output_type": "stream",
          "text": [
            "Create sweep with ID: g0hecef3\n",
            "Sweep URL: https://wandb.ai/cs22m078/CS6910_Assignment-1/sweeps/g0hecef3\n"
          ]
        },
        {
          "name": "stderr",
          "output_type": "stream",
          "text": [
            "\u001b[34m\u001b[1mwandb\u001b[0m: Agent Starting Run: j8d7j03a with config:\n",
            "\u001b[34m\u001b[1mwandb\u001b[0m: \tL2_lamb: 0.5\n",
            "\u001b[34m\u001b[1mwandb\u001b[0m: \tactivation: relu\n",
            "\u001b[34m\u001b[1mwandb\u001b[0m: \tbatch_size: 16\n",
            "\u001b[34m\u001b[1mwandb\u001b[0m: \tepoch: 10\n",
            "\u001b[34m\u001b[1mwandb\u001b[0m: \teta: 0.001\n",
            "\u001b[34m\u001b[1mwandb\u001b[0m: \thidden_layers: 5\n",
            "\u001b[34m\u001b[1mwandb\u001b[0m: \tlearning_algorithm: momemtum_gradient_descent\n",
            "\u001b[34m\u001b[1mwandb\u001b[0m: \tneurons: 64\n",
            "\u001b[34m\u001b[1mwandb\u001b[0m: \tweight_init: xavier\n",
            "Failed to detect the name of this notebook, you can set it manually with the WANDB_NOTEBOOK_NAME environment variable to enable code saving.\n"
          ]
        },
        {
          "data": {
            "application/vnd.jupyter.widget-view+json": {
              "model_id": "ac6aa0fa0ff74b509bfcd8025cdc7d79",
              "version_major": 2,
              "version_minor": 0
            },
            "text/plain": [
              "VBox(children=(Label(value='Waiting for wandb.init()...\\r'), FloatProgress(value=0.016666666666666666, max=1.0…"
            ]
          },
          "metadata": {},
          "output_type": "display_data"
        },
        {
          "data": {
            "text/html": [
              "wandb version 0.13.11 is available!  To upgrade, please run:\n",
              " $ pip install wandb --upgrade"
            ],
            "text/plain": [
              "<IPython.core.display.HTML object>"
            ]
          },
          "metadata": {},
          "output_type": "display_data"
        },
        {
          "data": {
            "text/html": [
              "Tracking run with wandb version 0.13.10"
            ],
            "text/plain": [
              "<IPython.core.display.HTML object>"
            ]
          },
          "metadata": {},
          "output_type": "display_data"
        },
        {
          "data": {
            "text/html": [
              "Run data is saved locally in <code>d:\\DL\\CS6910_CS22M078\\wandb\\run-20230311_115157-j8d7j03a</code>"
            ],
            "text/plain": [
              "<IPython.core.display.HTML object>"
            ]
          },
          "metadata": {},
          "output_type": "display_data"
        },
        {
          "data": {
            "text/html": [
              "Syncing run <strong><a href='https://wandb.ai/cs22m078/CS6910_Assignment-1/runs/j8d7j03a' target=\"_blank\">autumn-sweep-1</a></strong> to <a href='https://wandb.ai/cs22m078/CS6910_Assignment-1' target=\"_blank\">Weights & Biases</a> (<a href='https://wandb.me/run' target=\"_blank\">docs</a>)<br/>Sweep page: <a href='https://wandb.ai/cs22m078/CS6910_Assignment-1/sweeps/g0hecef3' target=\"_blank\">https://wandb.ai/cs22m078/CS6910_Assignment-1/sweeps/g0hecef3</a>"
            ],
            "text/plain": [
              "<IPython.core.display.HTML object>"
            ]
          },
          "metadata": {},
          "output_type": "display_data"
        },
        {
          "data": {
            "text/html": [
              " View project at <a href='https://wandb.ai/cs22m078/CS6910_Assignment-1' target=\"_blank\">https://wandb.ai/cs22m078/CS6910_Assignment-1</a>"
            ],
            "text/plain": [
              "<IPython.core.display.HTML object>"
            ]
          },
          "metadata": {},
          "output_type": "display_data"
        },
        {
          "data": {
            "text/html": [
              " View sweep at <a href='https://wandb.ai/cs22m078/CS6910_Assignment-1/sweeps/g0hecef3' target=\"_blank\">https://wandb.ai/cs22m078/CS6910_Assignment-1/sweeps/g0hecef3</a>"
            ],
            "text/plain": [
              "<IPython.core.display.HTML object>"
            ]
          },
          "metadata": {},
          "output_type": "display_data"
        },
        {
          "data": {
            "text/html": [
              " View run at <a href='https://wandb.ai/cs22m078/CS6910_Assignment-1/runs/j8d7j03a' target=\"_blank\">https://wandb.ai/cs22m078/CS6910_Assignment-1/runs/j8d7j03a</a>"
            ],
            "text/plain": [
              "<IPython.core.display.HTML object>"
            ]
          },
          "metadata": {},
          "output_type": "display_data"
        },
        {
          "data": {
            "text/html": [
              "Finishing last run (ID:j8d7j03a) before initializing another..."
            ],
            "text/plain": [
              "<IPython.core.display.HTML object>"
            ]
          },
          "metadata": {},
          "output_type": "display_data"
        },
        {
          "data": {
            "text/html": [
              "Waiting for W&B process to finish... <strong style=\"color:green\">(success).</strong>"
            ],
            "text/plain": [
              "<IPython.core.display.HTML object>"
            ]
          },
          "metadata": {},
          "output_type": "display_data"
        },
        {
          "data": {
            "application/vnd.jupyter.widget-view+json": {
              "model_id": "4b23ddfd52194ace95a97b53955d6d68",
              "version_major": 2,
              "version_minor": 0
            },
            "text/plain": [
              "VBox(children=(Label(value='0.001 MB of 0.005 MB uploaded (0.000 MB deduped)\\r'), FloatProgress(value=0.241694…"
            ]
          },
          "metadata": {},
          "output_type": "display_data"
        },
        {
          "data": {
            "text/html": [
              " View run <strong style=\"color:#cdcd00\">autumn-sweep-1</strong> at: <a href='https://wandb.ai/cs22m078/CS6910_Assignment-1/runs/j8d7j03a' target=\"_blank\">https://wandb.ai/cs22m078/CS6910_Assignment-1/runs/j8d7j03a</a><br/>Synced 4 W&B file(s), 0 media file(s), 0 artifact file(s) and 0 other file(s)"
            ],
            "text/plain": [
              "<IPython.core.display.HTML object>"
            ]
          },
          "metadata": {},
          "output_type": "display_data"
        },
        {
          "data": {
            "text/html": [
              "Find logs at: <code>.\\wandb\\run-20230311_115157-j8d7j03a\\logs</code>"
            ],
            "text/plain": [
              "<IPython.core.display.HTML object>"
            ]
          },
          "metadata": {},
          "output_type": "display_data"
        },
        {
          "data": {
            "text/html": [
              "Successfully finished last run (ID:j8d7j03a). Initializing new run:<br/>"
            ],
            "text/plain": [
              "<IPython.core.display.HTML object>"
            ]
          },
          "metadata": {},
          "output_type": "display_data"
        },
        {
          "data": {
            "application/vnd.jupyter.widget-view+json": {
              "model_id": "18e7b127041c466786e76ea5526e813b",
              "version_major": 2,
              "version_minor": 0
            },
            "text/plain": [
              "VBox(children=(Label(value='Waiting for wandb.init()...\\r'), FloatProgress(value=0.016666666666666666, max=1.0…"
            ]
          },
          "metadata": {},
          "output_type": "display_data"
        },
        {
          "data": {
            "text/html": [
              "wandb version 0.13.11 is available!  To upgrade, please run:\n",
              " $ pip install wandb --upgrade"
            ],
            "text/plain": [
              "<IPython.core.display.HTML object>"
            ]
          },
          "metadata": {},
          "output_type": "display_data"
        },
        {
          "data": {
            "text/html": [
              "Tracking run with wandb version 0.13.10"
            ],
            "text/plain": [
              "<IPython.core.display.HTML object>"
            ]
          },
          "metadata": {},
          "output_type": "display_data"
        },
        {
          "data": {
            "text/html": [
              "Run data is saved locally in <code>d:\\DL\\CS6910_CS22M078\\wandb\\run-20230311_115207-j8d7j03a</code>"
            ],
            "text/plain": [
              "<IPython.core.display.HTML object>"
            ]
          },
          "metadata": {},
          "output_type": "display_data"
        },
        {
          "data": {
            "text/html": [
              "Syncing run <strong><a href='https://wandb.ai/cs22m078/CS6910_Assignment-1/runs/j8d7j03a' target=\"_blank\">_h1_5_SL_64_BS_16_OPT_momemtum_gradient_descent</a></strong> to <a href='https://wandb.ai/cs22m078/CS6910_Assignment-1' target=\"_blank\">Weights & Biases</a> (<a href='https://wandb.me/run' target=\"_blank\">docs</a>)<br/>Sweep page: <a href='https://wandb.ai/cs22m078/CS6910_Assignment-1/sweeps/g0hecef3' target=\"_blank\">https://wandb.ai/cs22m078/CS6910_Assignment-1/sweeps/g0hecef3</a>"
            ],
            "text/plain": [
              "<IPython.core.display.HTML object>"
            ]
          },
          "metadata": {},
          "output_type": "display_data"
        },
        {
          "data": {
            "text/html": [
              " View project at <a href='https://wandb.ai/cs22m078/CS6910_Assignment-1' target=\"_blank\">https://wandb.ai/cs22m078/CS6910_Assignment-1</a>"
            ],
            "text/plain": [
              "<IPython.core.display.HTML object>"
            ]
          },
          "metadata": {},
          "output_type": "display_data"
        },
        {
          "data": {
            "text/html": [
              " View sweep at <a href='https://wandb.ai/cs22m078/CS6910_Assignment-1/sweeps/g0hecef3' target=\"_blank\">https://wandb.ai/cs22m078/CS6910_Assignment-1/sweeps/g0hecef3</a>"
            ],
            "text/plain": [
              "<IPython.core.display.HTML object>"
            ]
          },
          "metadata": {},
          "output_type": "display_data"
        },
        {
          "data": {
            "text/html": [
              " View run at <a href='https://wandb.ai/cs22m078/CS6910_Assignment-1/runs/j8d7j03a' target=\"_blank\">https://wandb.ai/cs22m078/CS6910_Assignment-1/runs/j8d7j03a</a>"
            ],
            "text/plain": [
              "<IPython.core.display.HTML object>"
            ]
          },
          "metadata": {},
          "output_type": "display_data"
        },
        {
          "data": {
            "text/html": [
              "Waiting for W&B process to finish... <strong style=\"color:green\">(success).</strong>"
            ],
            "text/plain": [
              "<IPython.core.display.HTML object>"
            ]
          },
          "metadata": {},
          "output_type": "display_data"
        },
        {
          "data": {
            "application/vnd.jupyter.widget-view+json": {
              "model_id": "336b0eed42c14d5d9b2c242dd61c02bf",
              "version_major": 2,
              "version_minor": 0
            },
            "text/plain": [
              "VBox(children=(Label(value='0.001 MB of 0.005 MB uploaded (0.000 MB deduped)\\r'), FloatProgress(value=0.243006…"
            ]
          },
          "metadata": {},
          "output_type": "display_data"
        },
        {
          "data": {
            "text/html": [
              "<style>\n",
              "    table.wandb td:nth-child(1) { padding: 0 10px; text-align: left ; width: auto;} td:nth-child(2) {text-align: left ; width: 100%}\n",
              "    .wandb-row { display: flex; flex-direction: row; flex-wrap: wrap; justify-content: flex-start; width: 100% }\n",
              "    .wandb-col { display: flex; flex-direction: column; flex-basis: 100%; flex: 1; padding: 10px; }\n",
              "    </style>\n",
              "<div class=\"wandb-row\"><div class=\"wandb-col\"><h3>Run history:</h3><br/><table class=\"wandb\"><tr><td>accuracy</td><td>▁▅▆▇▇▇▇████</td></tr><tr><td>epoch</td><td>▁▂▃▃▄▅▆▆▇█▁▂▃▃▄▅▆▆▇█▁▂▃▃▄▅▆▆▇█▁▂▃▃▄▅▆▆▇█</td></tr><tr><td>loss</td><td>█▄▃▂▂▂▂▁▁▁</td></tr><tr><td>val_acc</td><td>▁▅▆▇▇▇████</td></tr><tr><td>val_loss</td><td>█▄▃▂▂▂▂▁▁▁</td></tr></table><br/></div><div class=\"wandb-col\"><h3>Run summary:</h3><br/><table class=\"wandb\"><tr><td>accuracy</td><td>80.58667</td></tr><tr><td>epoch</td><td>10</td></tr><tr><td>loss</td><td>0.59251</td></tr><tr><td>val_acc</td><td>80.58667</td></tr><tr><td>val_loss</td><td>0.58882</td></tr></table><br/></div></div>"
            ],
            "text/plain": [
              "<IPython.core.display.HTML object>"
            ]
          },
          "metadata": {},
          "output_type": "display_data"
        },
        {
          "data": {
            "text/html": [
              " View run <strong style=\"color:#cdcd00\">_h1_5_SL_64_BS_16_OPT_momemtum_gradient_descent</strong> at: <a href='https://wandb.ai/cs22m078/CS6910_Assignment-1/runs/j8d7j03a' target=\"_blank\">https://wandb.ai/cs22m078/CS6910_Assignment-1/runs/j8d7j03a</a><br/>Synced 4 W&B file(s), 0 media file(s), 0 artifact file(s) and 0 other file(s)"
            ],
            "text/plain": [
              "<IPython.core.display.HTML object>"
            ]
          },
          "metadata": {},
          "output_type": "display_data"
        },
        {
          "data": {
            "text/html": [
              "Find logs at: <code>.\\wandb\\run-20230311_115207-j8d7j03a\\logs</code>"
            ],
            "text/plain": [
              "<IPython.core.display.HTML object>"
            ]
          },
          "metadata": {},
          "output_type": "display_data"
        },
        {
          "name": "stderr",
          "output_type": "stream",
          "text": [
            "\u001b[34m\u001b[1mwandb\u001b[0m: Agent Starting Run: 8xaige6d with config:\n",
            "\u001b[34m\u001b[1mwandb\u001b[0m: \tL2_lamb: 0.5\n",
            "\u001b[34m\u001b[1mwandb\u001b[0m: \tactivation: tanh\n",
            "\u001b[34m\u001b[1mwandb\u001b[0m: \tbatch_size: 16\n",
            "\u001b[34m\u001b[1mwandb\u001b[0m: \tepoch: 10\n",
            "\u001b[34m\u001b[1mwandb\u001b[0m: \teta: 0.001\n",
            "\u001b[34m\u001b[1mwandb\u001b[0m: \thidden_layers: 6\n",
            "\u001b[34m\u001b[1mwandb\u001b[0m: \tlearning_algorithm: stochastic_gradient_descent\n",
            "\u001b[34m\u001b[1mwandb\u001b[0m: \tneurons: 128\n",
            "\u001b[34m\u001b[1mwandb\u001b[0m: \tweight_init: random\n",
            "Failed to detect the name of this notebook, you can set it manually with the WANDB_NOTEBOOK_NAME environment variable to enable code saving.\n"
          ]
        },
        {
          "data": {
            "application/vnd.jupyter.widget-view+json": {
              "model_id": "7374537140f04b628950fdec9b9f8a21",
              "version_major": 2,
              "version_minor": 0
            },
            "text/plain": [
              "VBox(children=(Label(value='Waiting for wandb.init()...\\r'), FloatProgress(value=0.016666666666666666, max=1.0…"
            ]
          },
          "metadata": {},
          "output_type": "display_data"
        },
        {
          "data": {
            "text/html": [
              "Tracking run with wandb version 0.13.10"
            ],
            "text/plain": [
              "<IPython.core.display.HTML object>"
            ]
          },
          "metadata": {},
          "output_type": "display_data"
        },
        {
          "data": {
            "text/html": [
              "Run data is saved locally in <code>d:\\DL\\CS6910_CS22M078\\wandb\\run-20230311_115350-8xaige6d</code>"
            ],
            "text/plain": [
              "<IPython.core.display.HTML object>"
            ]
          },
          "metadata": {},
          "output_type": "display_data"
        },
        {
          "data": {
            "text/html": [
              "Syncing run <strong><a href='https://wandb.ai/cs22m078/CS6910_Assignment-1/runs/8xaige6d' target=\"_blank\">apricot-sweep-2</a></strong> to <a href='https://wandb.ai/cs22m078/CS6910_Assignment-1' target=\"_blank\">Weights & Biases</a> (<a href='https://wandb.me/run' target=\"_blank\">docs</a>)<br/>Sweep page: <a href='https://wandb.ai/cs22m078/CS6910_Assignment-1/sweeps/g0hecef3' target=\"_blank\">https://wandb.ai/cs22m078/CS6910_Assignment-1/sweeps/g0hecef3</a>"
            ],
            "text/plain": [
              "<IPython.core.display.HTML object>"
            ]
          },
          "metadata": {},
          "output_type": "display_data"
        },
        {
          "data": {
            "text/html": [
              " View project at <a href='https://wandb.ai/cs22m078/CS6910_Assignment-1' target=\"_blank\">https://wandb.ai/cs22m078/CS6910_Assignment-1</a>"
            ],
            "text/plain": [
              "<IPython.core.display.HTML object>"
            ]
          },
          "metadata": {},
          "output_type": "display_data"
        },
        {
          "data": {
            "text/html": [
              " View sweep at <a href='https://wandb.ai/cs22m078/CS6910_Assignment-1/sweeps/g0hecef3' target=\"_blank\">https://wandb.ai/cs22m078/CS6910_Assignment-1/sweeps/g0hecef3</a>"
            ],
            "text/plain": [
              "<IPython.core.display.HTML object>"
            ]
          },
          "metadata": {},
          "output_type": "display_data"
        },
        {
          "data": {
            "text/html": [
              " View run at <a href='https://wandb.ai/cs22m078/CS6910_Assignment-1/runs/8xaige6d' target=\"_blank\">https://wandb.ai/cs22m078/CS6910_Assignment-1/runs/8xaige6d</a>"
            ],
            "text/plain": [
              "<IPython.core.display.HTML object>"
            ]
          },
          "metadata": {},
          "output_type": "display_data"
        },
        {
          "data": {
            "text/html": [
              "Finishing last run (ID:8xaige6d) before initializing another..."
            ],
            "text/plain": [
              "<IPython.core.display.HTML object>"
            ]
          },
          "metadata": {},
          "output_type": "display_data"
        },
        {
          "data": {
            "text/html": [
              "Waiting for W&B process to finish... <strong style=\"color:green\">(success).</strong>"
            ],
            "text/plain": [
              "<IPython.core.display.HTML object>"
            ]
          },
          "metadata": {},
          "output_type": "display_data"
        },
        {
          "data": {
            "text/html": [
              " View run <strong style=\"color:#cdcd00\">apricot-sweep-2</strong> at: <a href='https://wandb.ai/cs22m078/CS6910_Assignment-1/runs/8xaige6d' target=\"_blank\">https://wandb.ai/cs22m078/CS6910_Assignment-1/runs/8xaige6d</a><br/>Synced 4 W&B file(s), 0 media file(s), 0 artifact file(s) and 0 other file(s)"
            ],
            "text/plain": [
              "<IPython.core.display.HTML object>"
            ]
          },
          "metadata": {},
          "output_type": "display_data"
        },
        {
          "data": {
            "text/html": [
              "Find logs at: <code>.\\wandb\\run-20230311_115350-8xaige6d\\logs</code>"
            ],
            "text/plain": [
              "<IPython.core.display.HTML object>"
            ]
          },
          "metadata": {},
          "output_type": "display_data"
        },
        {
          "data": {
            "text/html": [
              "Successfully finished last run (ID:8xaige6d). Initializing new run:<br/>"
            ],
            "text/plain": [
              "<IPython.core.display.HTML object>"
            ]
          },
          "metadata": {},
          "output_type": "display_data"
        },
        {
          "data": {
            "application/vnd.jupyter.widget-view+json": {
              "model_id": "2778093d4425430985a378991a38e2a6",
              "version_major": 2,
              "version_minor": 0
            },
            "text/plain": [
              "VBox(children=(Label(value='Waiting for wandb.init()...\\r'), FloatProgress(value=0.01693333333338766, max=1.0)…"
            ]
          },
          "metadata": {},
          "output_type": "display_data"
        },
        {
          "data": {
            "text/html": [
              "wandb version 0.13.11 is available!  To upgrade, please run:\n",
              " $ pip install wandb --upgrade"
            ],
            "text/plain": [
              "<IPython.core.display.HTML object>"
            ]
          },
          "metadata": {},
          "output_type": "display_data"
        },
        {
          "data": {
            "text/html": [
              "Tracking run with wandb version 0.13.10"
            ],
            "text/plain": [
              "<IPython.core.display.HTML object>"
            ]
          },
          "metadata": {},
          "output_type": "display_data"
        },
        {
          "data": {
            "text/html": [
              "Run data is saved locally in <code>d:\\DL\\CS6910_CS22M078\\wandb\\run-20230311_115357-8xaige6d</code>"
            ],
            "text/plain": [
              "<IPython.core.display.HTML object>"
            ]
          },
          "metadata": {},
          "output_type": "display_data"
        },
        {
          "data": {
            "text/html": [
              "Syncing run <strong><a href='https://wandb.ai/cs22m078/CS6910_Assignment-1/runs/8xaige6d' target=\"_blank\">_h1_6_SL_128_BS_16_OPT_stochastic_gradient_descent</a></strong> to <a href='https://wandb.ai/cs22m078/CS6910_Assignment-1' target=\"_blank\">Weights & Biases</a> (<a href='https://wandb.me/run' target=\"_blank\">docs</a>)<br/>Sweep page: <a href='https://wandb.ai/cs22m078/CS6910_Assignment-1/sweeps/g0hecef3' target=\"_blank\">https://wandb.ai/cs22m078/CS6910_Assignment-1/sweeps/g0hecef3</a>"
            ],
            "text/plain": [
              "<IPython.core.display.HTML object>"
            ]
          },
          "metadata": {},
          "output_type": "display_data"
        },
        {
          "data": {
            "text/html": [
              " View project at <a href='https://wandb.ai/cs22m078/CS6910_Assignment-1' target=\"_blank\">https://wandb.ai/cs22m078/CS6910_Assignment-1</a>"
            ],
            "text/plain": [
              "<IPython.core.display.HTML object>"
            ]
          },
          "metadata": {},
          "output_type": "display_data"
        },
        {
          "data": {
            "text/html": [
              " View sweep at <a href='https://wandb.ai/cs22m078/CS6910_Assignment-1/sweeps/g0hecef3' target=\"_blank\">https://wandb.ai/cs22m078/CS6910_Assignment-1/sweeps/g0hecef3</a>"
            ],
            "text/plain": [
              "<IPython.core.display.HTML object>"
            ]
          },
          "metadata": {},
          "output_type": "display_data"
        },
        {
          "data": {
            "text/html": [
              " View run at <a href='https://wandb.ai/cs22m078/CS6910_Assignment-1/runs/8xaige6d' target=\"_blank\">https://wandb.ai/cs22m078/CS6910_Assignment-1/runs/8xaige6d</a>"
            ],
            "text/plain": [
              "<IPython.core.display.HTML object>"
            ]
          },
          "metadata": {},
          "output_type": "display_data"
        },
        {
          "data": {
            "text/html": [
              "Waiting for W&B process to finish... <strong style=\"color:green\">(success).</strong>"
            ],
            "text/plain": [
              "<IPython.core.display.HTML object>"
            ]
          },
          "metadata": {},
          "output_type": "display_data"
        },
        {
          "data": {
            "application/vnd.jupyter.widget-view+json": {
              "model_id": "4d5d35e83d274208a3d1066483d600e1",
              "version_major": 2,
              "version_minor": 0
            },
            "text/plain": [
              "VBox(children=(Label(value='0.001 MB of 0.005 MB uploaded (0.000 MB deduped)\\r'), FloatProgress(value=0.242696…"
            ]
          },
          "metadata": {},
          "output_type": "display_data"
        },
        {
          "data": {
            "text/html": [
              "<style>\n",
              "    table.wandb td:nth-child(1) { padding: 0 10px; text-align: left ; width: auto;} td:nth-child(2) {text-align: left ; width: 100%}\n",
              "    .wandb-row { display: flex; flex-direction: row; flex-wrap: wrap; justify-content: flex-start; width: 100% }\n",
              "    .wandb-col { display: flex; flex-direction: column; flex-basis: 100%; flex: 1; padding: 10px; }\n",
              "    </style>\n",
              "<div class=\"wandb-row\"><div class=\"wandb-col\"><h3>Run history:</h3><br/><table class=\"wandb\"><tr><td>accuracy</td><td>██████████▁</td></tr><tr><td>epoch</td><td>▁▂▃▃▄▅▆▆▇█▁▂▃▃▄▅▆▆▇█▁▂▃▃▄▅▆▆▇█▁▂▃▃▄▅▆▆▇█</td></tr><tr><td>loss</td><td>█▁▁▁▁▁▁▁▁▁</td></tr><tr><td>val_acc</td><td>▁▁▁▁▁▁▁▁▁▁</td></tr><tr><td>val_loss</td><td>█▁▁▁▂▂▂▂▂▂</td></tr></table><br/></div><div class=\"wandb-col\"><h3>Run summary:</h3><br/><table class=\"wandb\"><tr><td>accuracy</td><td>9.71333</td></tr><tr><td>epoch</td><td>10</td></tr><tr><td>loss</td><td>2.30268</td></tr><tr><td>val_acc</td><td>9.71333</td></tr><tr><td>val_loss</td><td>2.30308</td></tr></table><br/></div></div>"
            ],
            "text/plain": [
              "<IPython.core.display.HTML object>"
            ]
          },
          "metadata": {},
          "output_type": "display_data"
        },
        {
          "data": {
            "text/html": [
              " View run <strong style=\"color:#cdcd00\">_h1_6_SL_128_BS_16_OPT_stochastic_gradient_descent</strong> at: <a href='https://wandb.ai/cs22m078/CS6910_Assignment-1/runs/8xaige6d' target=\"_blank\">https://wandb.ai/cs22m078/CS6910_Assignment-1/runs/8xaige6d</a><br/>Synced 4 W&B file(s), 0 media file(s), 0 artifact file(s) and 0 other file(s)"
            ],
            "text/plain": [
              "<IPython.core.display.HTML object>"
            ]
          },
          "metadata": {},
          "output_type": "display_data"
        },
        {
          "data": {
            "text/html": [
              "Find logs at: <code>.\\wandb\\run-20230311_115357-8xaige6d\\logs</code>"
            ],
            "text/plain": [
              "<IPython.core.display.HTML object>"
            ]
          },
          "metadata": {},
          "output_type": "display_data"
        },
        {
          "name": "stderr",
          "output_type": "stream",
          "text": [
            "\u001b[34m\u001b[1mwandb\u001b[0m: Agent Starting Run: 0gyq94af with config:\n",
            "\u001b[34m\u001b[1mwandb\u001b[0m: \tL2_lamb: 0\n",
            "\u001b[34m\u001b[1mwandb\u001b[0m: \tactivation: relu\n",
            "\u001b[34m\u001b[1mwandb\u001b[0m: \tbatch_size: 64\n",
            "\u001b[34m\u001b[1mwandb\u001b[0m: \tepoch: 5\n",
            "\u001b[34m\u001b[1mwandb\u001b[0m: \teta: 0.001\n",
            "\u001b[34m\u001b[1mwandb\u001b[0m: \thidden_layers: 6\n",
            "\u001b[34m\u001b[1mwandb\u001b[0m: \tlearning_algorithm: nadam\n",
            "\u001b[34m\u001b[1mwandb\u001b[0m: \tneurons: 128\n",
            "\u001b[34m\u001b[1mwandb\u001b[0m: \tweight_init: xavier\n",
            "Failed to detect the name of this notebook, you can set it manually with the WANDB_NOTEBOOK_NAME environment variable to enable code saving.\n"
          ]
        },
        {
          "data": {
            "application/vnd.jupyter.widget-view+json": {
              "model_id": "9638a8322ebd475bb5294bfdb6367c95",
              "version_major": 2,
              "version_minor": 0
            },
            "text/plain": [
              "VBox(children=(Label(value='Waiting for wandb.init()...\\r'), FloatProgress(value=0.016666666666666666, max=1.0…"
            ]
          },
          "metadata": {},
          "output_type": "display_data"
        },
        {
          "data": {
            "text/html": [
              "wandb version 0.13.11 is available!  To upgrade, please run:\n",
              " $ pip install wandb --upgrade"
            ],
            "text/plain": [
              "<IPython.core.display.HTML object>"
            ]
          },
          "metadata": {},
          "output_type": "display_data"
        },
        {
          "data": {
            "text/html": [
              "Tracking run with wandb version 0.13.10"
            ],
            "text/plain": [
              "<IPython.core.display.HTML object>"
            ]
          },
          "metadata": {},
          "output_type": "display_data"
        },
        {
          "data": {
            "text/html": [
              "Run data is saved locally in <code>d:\\DL\\CS6910_CS22M078\\wandb\\run-20230311_115912-0gyq94af</code>"
            ],
            "text/plain": [
              "<IPython.core.display.HTML object>"
            ]
          },
          "metadata": {},
          "output_type": "display_data"
        },
        {
          "data": {
            "text/html": [
              "Syncing run <strong><a href='https://wandb.ai/cs22m078/CS6910_Assignment-1/runs/0gyq94af' target=\"_blank\">light-sweep-3</a></strong> to <a href='https://wandb.ai/cs22m078/CS6910_Assignment-1' target=\"_blank\">Weights & Biases</a> (<a href='https://wandb.me/run' target=\"_blank\">docs</a>)<br/>Sweep page: <a href='https://wandb.ai/cs22m078/CS6910_Assignment-1/sweeps/g0hecef3' target=\"_blank\">https://wandb.ai/cs22m078/CS6910_Assignment-1/sweeps/g0hecef3</a>"
            ],
            "text/plain": [
              "<IPython.core.display.HTML object>"
            ]
          },
          "metadata": {},
          "output_type": "display_data"
        },
        {
          "data": {
            "text/html": [
              " View project at <a href='https://wandb.ai/cs22m078/CS6910_Assignment-1' target=\"_blank\">https://wandb.ai/cs22m078/CS6910_Assignment-1</a>"
            ],
            "text/plain": [
              "<IPython.core.display.HTML object>"
            ]
          },
          "metadata": {},
          "output_type": "display_data"
        },
        {
          "data": {
            "text/html": [
              " View sweep at <a href='https://wandb.ai/cs22m078/CS6910_Assignment-1/sweeps/g0hecef3' target=\"_blank\">https://wandb.ai/cs22m078/CS6910_Assignment-1/sweeps/g0hecef3</a>"
            ],
            "text/plain": [
              "<IPython.core.display.HTML object>"
            ]
          },
          "metadata": {},
          "output_type": "display_data"
        },
        {
          "data": {
            "text/html": [
              " View run at <a href='https://wandb.ai/cs22m078/CS6910_Assignment-1/runs/0gyq94af' target=\"_blank\">https://wandb.ai/cs22m078/CS6910_Assignment-1/runs/0gyq94af</a>"
            ],
            "text/plain": [
              "<IPython.core.display.HTML object>"
            ]
          },
          "metadata": {},
          "output_type": "display_data"
        },
        {
          "data": {
            "text/html": [
              "Finishing last run (ID:0gyq94af) before initializing another..."
            ],
            "text/plain": [
              "<IPython.core.display.HTML object>"
            ]
          },
          "metadata": {},
          "output_type": "display_data"
        },
        {
          "data": {
            "text/html": [
              "Waiting for W&B process to finish... <strong style=\"color:green\">(success).</strong>"
            ],
            "text/plain": [
              "<IPython.core.display.HTML object>"
            ]
          },
          "metadata": {},
          "output_type": "display_data"
        },
        {
          "data": {
            "application/vnd.jupyter.widget-view+json": {
              "model_id": "6a66f7ef67de472f91175b7df37f8b8c",
              "version_major": 2,
              "version_minor": 0
            },
            "text/plain": [
              "VBox(children=(Label(value='0.001 MB of 0.005 MB uploaded (0.000 MB deduped)\\r'), FloatProgress(value=0.244127…"
            ]
          },
          "metadata": {},
          "output_type": "display_data"
        },
        {
          "data": {
            "text/html": [
              " View run <strong style=\"color:#cdcd00\">light-sweep-3</strong> at: <a href='https://wandb.ai/cs22m078/CS6910_Assignment-1/runs/0gyq94af' target=\"_blank\">https://wandb.ai/cs22m078/CS6910_Assignment-1/runs/0gyq94af</a><br/>Synced 4 W&B file(s), 0 media file(s), 0 artifact file(s) and 0 other file(s)"
            ],
            "text/plain": [
              "<IPython.core.display.HTML object>"
            ]
          },
          "metadata": {},
          "output_type": "display_data"
        },
        {
          "data": {
            "text/html": [
              "Find logs at: <code>.\\wandb\\run-20230311_115912-0gyq94af\\logs</code>"
            ],
            "text/plain": [
              "<IPython.core.display.HTML object>"
            ]
          },
          "metadata": {},
          "output_type": "display_data"
        },
        {
          "data": {
            "text/html": [
              "Successfully finished last run (ID:0gyq94af). Initializing new run:<br/>"
            ],
            "text/plain": [
              "<IPython.core.display.HTML object>"
            ]
          },
          "metadata": {},
          "output_type": "display_data"
        },
        {
          "data": {
            "application/vnd.jupyter.widget-view+json": {
              "model_id": "72a0d3edd6174b3dbf847678e7675123",
              "version_major": 2,
              "version_minor": 0
            },
            "text/plain": [
              "VBox(children=(Label(value='Waiting for wandb.init()...\\r'), FloatProgress(value=0.01693333333338766, max=1.0)…"
            ]
          },
          "metadata": {},
          "output_type": "display_data"
        },
        {
          "data": {
            "text/html": [
              "wandb version 0.13.11 is available!  To upgrade, please run:\n",
              " $ pip install wandb --upgrade"
            ],
            "text/plain": [
              "<IPython.core.display.HTML object>"
            ]
          },
          "metadata": {},
          "output_type": "display_data"
        },
        {
          "data": {
            "text/html": [
              "Tracking run with wandb version 0.13.10"
            ],
            "text/plain": [
              "<IPython.core.display.HTML object>"
            ]
          },
          "metadata": {},
          "output_type": "display_data"
        },
        {
          "data": {
            "text/html": [
              "Run data is saved locally in <code>d:\\DL\\CS6910_CS22M078\\wandb\\run-20230311_115915-0gyq94af</code>"
            ],
            "text/plain": [
              "<IPython.core.display.HTML object>"
            ]
          },
          "metadata": {},
          "output_type": "display_data"
        },
        {
          "data": {
            "text/html": [
              "Syncing run <strong><a href='https://wandb.ai/cs22m078/CS6910_Assignment-1/runs/0gyq94af' target=\"_blank\">_h1_6_SL_128_BS_64_OPT_nadam</a></strong> to <a href='https://wandb.ai/cs22m078/CS6910_Assignment-1' target=\"_blank\">Weights & Biases</a> (<a href='https://wandb.me/run' target=\"_blank\">docs</a>)<br/>Sweep page: <a href='https://wandb.ai/cs22m078/CS6910_Assignment-1/sweeps/g0hecef3' target=\"_blank\">https://wandb.ai/cs22m078/CS6910_Assignment-1/sweeps/g0hecef3</a>"
            ],
            "text/plain": [
              "<IPython.core.display.HTML object>"
            ]
          },
          "metadata": {},
          "output_type": "display_data"
        },
        {
          "data": {
            "text/html": [
              " View project at <a href='https://wandb.ai/cs22m078/CS6910_Assignment-1' target=\"_blank\">https://wandb.ai/cs22m078/CS6910_Assignment-1</a>"
            ],
            "text/plain": [
              "<IPython.core.display.HTML object>"
            ]
          },
          "metadata": {},
          "output_type": "display_data"
        },
        {
          "data": {
            "text/html": [
              " View sweep at <a href='https://wandb.ai/cs22m078/CS6910_Assignment-1/sweeps/g0hecef3' target=\"_blank\">https://wandb.ai/cs22m078/CS6910_Assignment-1/sweeps/g0hecef3</a>"
            ],
            "text/plain": [
              "<IPython.core.display.HTML object>"
            ]
          },
          "metadata": {},
          "output_type": "display_data"
        },
        {
          "data": {
            "text/html": [
              " View run at <a href='https://wandb.ai/cs22m078/CS6910_Assignment-1/runs/0gyq94af' target=\"_blank\">https://wandb.ai/cs22m078/CS6910_Assignment-1/runs/0gyq94af</a>"
            ],
            "text/plain": [
              "<IPython.core.display.HTML object>"
            ]
          },
          "metadata": {},
          "output_type": "display_data"
        },
        {
          "data": {
            "text/html": [
              "Waiting for W&B process to finish... <strong style=\"color:green\">(success).</strong>"
            ],
            "text/plain": [
              "<IPython.core.display.HTML object>"
            ]
          },
          "metadata": {},
          "output_type": "display_data"
        },
        {
          "data": {
            "application/vnd.jupyter.widget-view+json": {
              "model_id": "ed33942a13514abab79db4cafe5ff6e0",
              "version_major": 2,
              "version_minor": 0
            },
            "text/plain": [
              "VBox(children=(Label(value='0.001 MB of 0.005 MB uploaded (0.000 MB deduped)\\r'), FloatProgress(value=0.233734…"
            ]
          },
          "metadata": {},
          "output_type": "display_data"
        },
        {
          "data": {
            "text/html": [
              "<style>\n",
              "    table.wandb td:nth-child(1) { padding: 0 10px; text-align: left ; width: auto;} td:nth-child(2) {text-align: left ; width: 100%}\n",
              "    .wandb-row { display: flex; flex-direction: row; flex-wrap: wrap; justify-content: flex-start; width: 100% }\n",
              "    .wandb-col { display: flex; flex-direction: column; flex-basis: 100%; flex: 1; padding: 10px; }\n",
              "    </style>\n",
              "<div class=\"wandb-row\"><div class=\"wandb-col\"><h3>Run history:</h3><br/><table class=\"wandb\"><tr><td>accuracy</td><td>▁▅▄▇█▆</td></tr><tr><td>epoch</td><td>▁▃▅▆█▁▃▅▆█▁▃▅▆█▁▃▅▆█</td></tr><tr><td>loss</td><td>█▄▅▂▁</td></tr><tr><td>val_acc</td><td>▁▅▄▇█</td></tr><tr><td>val_loss</td><td>█▄▅▂▁</td></tr></table><br/></div><div class=\"wandb-col\"><h3>Run summary:</h3><br/><table class=\"wandb\"><tr><td>accuracy</td><td>86.5</td></tr><tr><td>epoch</td><td>5</td></tr><tr><td>loss</td><td>0.31345</td></tr><tr><td>val_acc</td><td>86.5</td></tr><tr><td>val_loss</td><td>0.36297</td></tr></table><br/></div></div>"
            ],
            "text/plain": [
              "<IPython.core.display.HTML object>"
            ]
          },
          "metadata": {},
          "output_type": "display_data"
        },
        {
          "data": {
            "text/html": [
              " View run <strong style=\"color:#cdcd00\">_h1_6_SL_128_BS_64_OPT_nadam</strong> at: <a href='https://wandb.ai/cs22m078/CS6910_Assignment-1/runs/0gyq94af' target=\"_blank\">https://wandb.ai/cs22m078/CS6910_Assignment-1/runs/0gyq94af</a><br/>Synced 4 W&B file(s), 0 media file(s), 0 artifact file(s) and 0 other file(s)"
            ],
            "text/plain": [
              "<IPython.core.display.HTML object>"
            ]
          },
          "metadata": {},
          "output_type": "display_data"
        },
        {
          "data": {
            "text/html": [
              "Find logs at: <code>.\\wandb\\run-20230311_115915-0gyq94af\\logs</code>"
            ],
            "text/plain": [
              "<IPython.core.display.HTML object>"
            ]
          },
          "metadata": {},
          "output_type": "display_data"
        },
        {
          "name": "stderr",
          "output_type": "stream",
          "text": [
            "\u001b[34m\u001b[1mwandb\u001b[0m: Agent Starting Run: l0iuexe8 with config:\n",
            "\u001b[34m\u001b[1mwandb\u001b[0m: \tL2_lamb: 0\n",
            "\u001b[34m\u001b[1mwandb\u001b[0m: \tactivation: tanh\n",
            "\u001b[34m\u001b[1mwandb\u001b[0m: \tbatch_size: 64\n",
            "\u001b[34m\u001b[1mwandb\u001b[0m: \tepoch: 10\n",
            "\u001b[34m\u001b[1mwandb\u001b[0m: \teta: 0.0001\n",
            "\u001b[34m\u001b[1mwandb\u001b[0m: \thidden_layers: 6\n",
            "\u001b[34m\u001b[1mwandb\u001b[0m: \tlearning_algorithm: rmsprop\n",
            "\u001b[34m\u001b[1mwandb\u001b[0m: \tneurons: 32\n",
            "\u001b[34m\u001b[1mwandb\u001b[0m: \tweight_init: xavier\n",
            "Failed to detect the name of this notebook, you can set it manually with the WANDB_NOTEBOOK_NAME environment variable to enable code saving.\n"
          ]
        },
        {
          "data": {
            "application/vnd.jupyter.widget-view+json": {
              "model_id": "bbf35e6430e04d488dab997b4c9df641",
              "version_major": 2,
              "version_minor": 0
            },
            "text/plain": [
              "VBox(children=(Label(value='Waiting for wandb.init()...\\r'), FloatProgress(value=0.01693333333338766, max=1.0)…"
            ]
          },
          "metadata": {},
          "output_type": "display_data"
        },
        {
          "data": {
            "text/html": [
              "wandb version 0.13.11 is available!  To upgrade, please run:\n",
              " $ pip install wandb --upgrade"
            ],
            "text/plain": [
              "<IPython.core.display.HTML object>"
            ]
          },
          "metadata": {},
          "output_type": "display_data"
        },
        {
          "data": {
            "text/html": [
              "Tracking run with wandb version 0.13.10"
            ],
            "text/plain": [
              "<IPython.core.display.HTML object>"
            ]
          },
          "metadata": {},
          "output_type": "display_data"
        },
        {
          "data": {
            "text/html": [
              "Run data is saved locally in <code>d:\\DL\\CS6910_CS22M078\\wandb\\run-20230311_120017-l0iuexe8</code>"
            ],
            "text/plain": [
              "<IPython.core.display.HTML object>"
            ]
          },
          "metadata": {},
          "output_type": "display_data"
        },
        {
          "data": {
            "text/html": [
              "Syncing run <strong><a href='https://wandb.ai/cs22m078/CS6910_Assignment-1/runs/l0iuexe8' target=\"_blank\">silver-sweep-4</a></strong> to <a href='https://wandb.ai/cs22m078/CS6910_Assignment-1' target=\"_blank\">Weights & Biases</a> (<a href='https://wandb.me/run' target=\"_blank\">docs</a>)<br/>Sweep page: <a href='https://wandb.ai/cs22m078/CS6910_Assignment-1/sweeps/g0hecef3' target=\"_blank\">https://wandb.ai/cs22m078/CS6910_Assignment-1/sweeps/g0hecef3</a>"
            ],
            "text/plain": [
              "<IPython.core.display.HTML object>"
            ]
          },
          "metadata": {},
          "output_type": "display_data"
        },
        {
          "data": {
            "text/html": [
              " View project at <a href='https://wandb.ai/cs22m078/CS6910_Assignment-1' target=\"_blank\">https://wandb.ai/cs22m078/CS6910_Assignment-1</a>"
            ],
            "text/plain": [
              "<IPython.core.display.HTML object>"
            ]
          },
          "metadata": {},
          "output_type": "display_data"
        },
        {
          "data": {
            "text/html": [
              " View sweep at <a href='https://wandb.ai/cs22m078/CS6910_Assignment-1/sweeps/g0hecef3' target=\"_blank\">https://wandb.ai/cs22m078/CS6910_Assignment-1/sweeps/g0hecef3</a>"
            ],
            "text/plain": [
              "<IPython.core.display.HTML object>"
            ]
          },
          "metadata": {},
          "output_type": "display_data"
        },
        {
          "data": {
            "text/html": [
              " View run at <a href='https://wandb.ai/cs22m078/CS6910_Assignment-1/runs/l0iuexe8' target=\"_blank\">https://wandb.ai/cs22m078/CS6910_Assignment-1/runs/l0iuexe8</a>"
            ],
            "text/plain": [
              "<IPython.core.display.HTML object>"
            ]
          },
          "metadata": {},
          "output_type": "display_data"
        },
        {
          "data": {
            "text/html": [
              "Finishing last run (ID:l0iuexe8) before initializing another..."
            ],
            "text/plain": [
              "<IPython.core.display.HTML object>"
            ]
          },
          "metadata": {},
          "output_type": "display_data"
        },
        {
          "data": {
            "text/html": [
              "Waiting for W&B process to finish... <strong style=\"color:green\">(success).</strong>"
            ],
            "text/plain": [
              "<IPython.core.display.HTML object>"
            ]
          },
          "metadata": {},
          "output_type": "display_data"
        },
        {
          "data": {
            "application/vnd.jupyter.widget-view+json": {
              "model_id": "6bb63ac16840410ca183a6e6082ae671",
              "version_major": 2,
              "version_minor": 0
            },
            "text/plain": [
              "VBox(children=(Label(value='0.001 MB of 0.001 MB uploaded (0.000 MB deduped)\\r'), FloatProgress(value=1.0, max…"
            ]
          },
          "metadata": {},
          "output_type": "display_data"
        },
        {
          "data": {
            "text/html": [
              " View run <strong style=\"color:#cdcd00\">silver-sweep-4</strong> at: <a href='https://wandb.ai/cs22m078/CS6910_Assignment-1/runs/l0iuexe8' target=\"_blank\">https://wandb.ai/cs22m078/CS6910_Assignment-1/runs/l0iuexe8</a><br/>Synced 4 W&B file(s), 0 media file(s), 0 artifact file(s) and 0 other file(s)"
            ],
            "text/plain": [
              "<IPython.core.display.HTML object>"
            ]
          },
          "metadata": {},
          "output_type": "display_data"
        },
        {
          "data": {
            "text/html": [
              "Find logs at: <code>.\\wandb\\run-20230311_120017-l0iuexe8\\logs</code>"
            ],
            "text/plain": [
              "<IPython.core.display.HTML object>"
            ]
          },
          "metadata": {},
          "output_type": "display_data"
        },
        {
          "data": {
            "text/html": [
              "Successfully finished last run (ID:l0iuexe8). Initializing new run:<br/>"
            ],
            "text/plain": [
              "<IPython.core.display.HTML object>"
            ]
          },
          "metadata": {},
          "output_type": "display_data"
        },
        {
          "data": {
            "application/vnd.jupyter.widget-view+json": {
              "model_id": "25d8610be04c4bcaafa9724e4dd05510",
              "version_major": 2,
              "version_minor": 0
            },
            "text/plain": [
              "VBox(children=(Label(value='Waiting for wandb.init()...\\r'), FloatProgress(value=0.016666666666666666, max=1.0…"
            ]
          },
          "metadata": {},
          "output_type": "display_data"
        },
        {
          "data": {
            "text/html": [
              "wandb version 0.13.11 is available!  To upgrade, please run:\n",
              " $ pip install wandb --upgrade"
            ],
            "text/plain": [
              "<IPython.core.display.HTML object>"
            ]
          },
          "metadata": {},
          "output_type": "display_data"
        },
        {
          "data": {
            "text/html": [
              "Tracking run with wandb version 0.13.10"
            ],
            "text/plain": [
              "<IPython.core.display.HTML object>"
            ]
          },
          "metadata": {},
          "output_type": "display_data"
        },
        {
          "data": {
            "text/html": [
              "Run data is saved locally in <code>d:\\DL\\CS6910_CS22M078\\wandb\\run-20230311_120019-l0iuexe8</code>"
            ],
            "text/plain": [
              "<IPython.core.display.HTML object>"
            ]
          },
          "metadata": {},
          "output_type": "display_data"
        },
        {
          "data": {
            "text/html": [
              "Syncing run <strong><a href='https://wandb.ai/cs22m078/CS6910_Assignment-1/runs/l0iuexe8' target=\"_blank\">_h1_6_SL_32_BS_64_OPT_rmsprop</a></strong> to <a href='https://wandb.ai/cs22m078/CS6910_Assignment-1' target=\"_blank\">Weights & Biases</a> (<a href='https://wandb.me/run' target=\"_blank\">docs</a>)<br/>Sweep page: <a href='https://wandb.ai/cs22m078/CS6910_Assignment-1/sweeps/g0hecef3' target=\"_blank\">https://wandb.ai/cs22m078/CS6910_Assignment-1/sweeps/g0hecef3</a>"
            ],
            "text/plain": [
              "<IPython.core.display.HTML object>"
            ]
          },
          "metadata": {},
          "output_type": "display_data"
        },
        {
          "data": {
            "text/html": [
              " View project at <a href='https://wandb.ai/cs22m078/CS6910_Assignment-1' target=\"_blank\">https://wandb.ai/cs22m078/CS6910_Assignment-1</a>"
            ],
            "text/plain": [
              "<IPython.core.display.HTML object>"
            ]
          },
          "metadata": {},
          "output_type": "display_data"
        },
        {
          "data": {
            "text/html": [
              " View sweep at <a href='https://wandb.ai/cs22m078/CS6910_Assignment-1/sweeps/g0hecef3' target=\"_blank\">https://wandb.ai/cs22m078/CS6910_Assignment-1/sweeps/g0hecef3</a>"
            ],
            "text/plain": [
              "<IPython.core.display.HTML object>"
            ]
          },
          "metadata": {},
          "output_type": "display_data"
        },
        {
          "data": {
            "text/html": [
              " View run at <a href='https://wandb.ai/cs22m078/CS6910_Assignment-1/runs/l0iuexe8' target=\"_blank\">https://wandb.ai/cs22m078/CS6910_Assignment-1/runs/l0iuexe8</a>"
            ],
            "text/plain": [
              "<IPython.core.display.HTML object>"
            ]
          },
          "metadata": {},
          "output_type": "display_data"
        },
        {
          "data": {
            "text/html": [
              "Waiting for W&B process to finish... <strong style=\"color:red\">(failed 1).</strong> Press Ctrl-C to abort syncing."
            ],
            "text/plain": [
              "<IPython.core.display.HTML object>"
            ]
          },
          "metadata": {},
          "output_type": "display_data"
        },
        {
          "data": {
            "application/vnd.jupyter.widget-view+json": {
              "model_id": "ce262fe4ad1942399b747836369726a5",
              "version_major": 2,
              "version_minor": 0
            },
            "text/plain": [
              "VBox(children=(Label(value='0.001 MB of 0.005 MB uploaded (0.000 MB deduped)\\r'), FloatProgress(value=0.243974…"
            ]
          },
          "metadata": {},
          "output_type": "display_data"
        },
        {
          "data": {
            "text/html": [
              " View run <strong style=\"color:#cdcd00\">_h1_6_SL_32_BS_64_OPT_rmsprop</strong> at: <a href='https://wandb.ai/cs22m078/CS6910_Assignment-1/runs/l0iuexe8' target=\"_blank\">https://wandb.ai/cs22m078/CS6910_Assignment-1/runs/l0iuexe8</a><br/>Synced 4 W&B file(s), 0 media file(s), 0 artifact file(s) and 0 other file(s)"
            ],
            "text/plain": [
              "<IPython.core.display.HTML object>"
            ]
          },
          "metadata": {},
          "output_type": "display_data"
        },
        {
          "data": {
            "text/html": [
              "Find logs at: <code>.\\wandb\\run-20230311_120019-l0iuexe8\\logs</code>"
            ],
            "text/plain": [
              "<IPython.core.display.HTML object>"
            ]
          },
          "metadata": {},
          "output_type": "display_data"
        },
        {
          "name": "stderr",
          "output_type": "stream",
          "text": [
            "Run l0iuexe8 errored: TypeError(\"rmsprop_params_update() missing 1 required positional argument: 'L2_lamb'\")\n",
            "\u001b[34m\u001b[1mwandb\u001b[0m: \u001b[32m\u001b[41mERROR\u001b[0m Run l0iuexe8 errored: TypeError(\"rmsprop_params_update() missing 1 required positional argument: 'L2_lamb'\")\n",
            "\u001b[34m\u001b[1mwandb\u001b[0m: Agent Starting Run: 49bovyte with config:\n",
            "\u001b[34m\u001b[1mwandb\u001b[0m: \tL2_lamb: 0.5\n",
            "\u001b[34m\u001b[1mwandb\u001b[0m: \tactivation: relu\n",
            "\u001b[34m\u001b[1mwandb\u001b[0m: \tbatch_size: 32\n",
            "\u001b[34m\u001b[1mwandb\u001b[0m: \tepoch: 5\n",
            "\u001b[34m\u001b[1mwandb\u001b[0m: \teta: 0.001\n",
            "\u001b[34m\u001b[1mwandb\u001b[0m: \thidden_layers: 6\n",
            "\u001b[34m\u001b[1mwandb\u001b[0m: \tlearning_algorithm: nadam\n",
            "\u001b[34m\u001b[1mwandb\u001b[0m: \tneurons: 32\n",
            "\u001b[34m\u001b[1mwandb\u001b[0m: \tweight_init: random\n",
            "Failed to detect the name of this notebook, you can set it manually with the WANDB_NOTEBOOK_NAME environment variable to enable code saving.\n"
          ]
        },
        {
          "data": {
            "application/vnd.jupyter.widget-view+json": {
              "model_id": "3abeb4eae42849c4913a700bb1cfd550",
              "version_major": 2,
              "version_minor": 0
            },
            "text/plain": [
              "VBox(children=(Label(value='Waiting for wandb.init()...\\r'), FloatProgress(value=0.016666666666666666, max=1.0…"
            ]
          },
          "metadata": {},
          "output_type": "display_data"
        },
        {
          "data": {
            "text/html": [
              "wandb version 0.13.11 is available!  To upgrade, please run:\n",
              " $ pip install wandb --upgrade"
            ],
            "text/plain": [
              "<IPython.core.display.HTML object>"
            ]
          },
          "metadata": {},
          "output_type": "display_data"
        },
        {
          "data": {
            "text/html": [
              "Tracking run with wandb version 0.13.10"
            ],
            "text/plain": [
              "<IPython.core.display.HTML object>"
            ]
          },
          "metadata": {},
          "output_type": "display_data"
        },
        {
          "data": {
            "text/html": [
              "Run data is saved locally in <code>d:\\DL\\CS6910_CS22M078\\wandb\\run-20230311_120039-49bovyte</code>"
            ],
            "text/plain": [
              "<IPython.core.display.HTML object>"
            ]
          },
          "metadata": {},
          "output_type": "display_data"
        },
        {
          "data": {
            "text/html": [
              "Syncing run <strong><a href='https://wandb.ai/cs22m078/CS6910_Assignment-1/runs/49bovyte' target=\"_blank\">absurd-sweep-5</a></strong> to <a href='https://wandb.ai/cs22m078/CS6910_Assignment-1' target=\"_blank\">Weights & Biases</a> (<a href='https://wandb.me/run' target=\"_blank\">docs</a>)<br/>Sweep page: <a href='https://wandb.ai/cs22m078/CS6910_Assignment-1/sweeps/g0hecef3' target=\"_blank\">https://wandb.ai/cs22m078/CS6910_Assignment-1/sweeps/g0hecef3</a>"
            ],
            "text/plain": [
              "<IPython.core.display.HTML object>"
            ]
          },
          "metadata": {},
          "output_type": "display_data"
        },
        {
          "data": {
            "text/html": [
              " View project at <a href='https://wandb.ai/cs22m078/CS6910_Assignment-1' target=\"_blank\">https://wandb.ai/cs22m078/CS6910_Assignment-1</a>"
            ],
            "text/plain": [
              "<IPython.core.display.HTML object>"
            ]
          },
          "metadata": {},
          "output_type": "display_data"
        },
        {
          "data": {
            "text/html": [
              " View sweep at <a href='https://wandb.ai/cs22m078/CS6910_Assignment-1/sweeps/g0hecef3' target=\"_blank\">https://wandb.ai/cs22m078/CS6910_Assignment-1/sweeps/g0hecef3</a>"
            ],
            "text/plain": [
              "<IPython.core.display.HTML object>"
            ]
          },
          "metadata": {},
          "output_type": "display_data"
        },
        {
          "data": {
            "text/html": [
              " View run at <a href='https://wandb.ai/cs22m078/CS6910_Assignment-1/runs/49bovyte' target=\"_blank\">https://wandb.ai/cs22m078/CS6910_Assignment-1/runs/49bovyte</a>"
            ],
            "text/plain": [
              "<IPython.core.display.HTML object>"
            ]
          },
          "metadata": {},
          "output_type": "display_data"
        },
        {
          "data": {
            "text/html": [
              "Finishing last run (ID:49bovyte) before initializing another..."
            ],
            "text/plain": [
              "<IPython.core.display.HTML object>"
            ]
          },
          "metadata": {},
          "output_type": "display_data"
        },
        {
          "data": {
            "text/html": [
              "Waiting for W&B process to finish... <strong style=\"color:green\">(success).</strong>"
            ],
            "text/plain": [
              "<IPython.core.display.HTML object>"
            ]
          },
          "metadata": {},
          "output_type": "display_data"
        },
        {
          "data": {
            "application/vnd.jupyter.widget-view+json": {
              "model_id": "0a6ffdffe7494fbbbc7da5e48fb01bdd",
              "version_major": 2,
              "version_minor": 0
            },
            "text/plain": [
              "VBox(children=(Label(value='0.001 MB of 0.001 MB uploaded (0.000 MB deduped)\\r'), FloatProgress(value=1.0, max…"
            ]
          },
          "metadata": {},
          "output_type": "display_data"
        },
        {
          "data": {
            "text/html": [
              " View run <strong style=\"color:#cdcd00\">absurd-sweep-5</strong> at: <a href='https://wandb.ai/cs22m078/CS6910_Assignment-1/runs/49bovyte' target=\"_blank\">https://wandb.ai/cs22m078/CS6910_Assignment-1/runs/49bovyte</a><br/>Synced 4 W&B file(s), 0 media file(s), 0 artifact file(s) and 0 other file(s)"
            ],
            "text/plain": [
              "<IPython.core.display.HTML object>"
            ]
          },
          "metadata": {},
          "output_type": "display_data"
        },
        {
          "data": {
            "text/html": [
              "Find logs at: <code>.\\wandb\\run-20230311_120039-49bovyte\\logs</code>"
            ],
            "text/plain": [
              "<IPython.core.display.HTML object>"
            ]
          },
          "metadata": {},
          "output_type": "display_data"
        },
        {
          "data": {
            "text/html": [
              "Successfully finished last run (ID:49bovyte). Initializing new run:<br/>"
            ],
            "text/plain": [
              "<IPython.core.display.HTML object>"
            ]
          },
          "metadata": {},
          "output_type": "display_data"
        },
        {
          "data": {
            "application/vnd.jupyter.widget-view+json": {
              "model_id": "34a47e20b1634c6db12921bae28ee8cb",
              "version_major": 2,
              "version_minor": 0
            },
            "text/plain": [
              "VBox(children=(Label(value='Waiting for wandb.init()...\\r'), FloatProgress(value=0.016666666666666666, max=1.0…"
            ]
          },
          "metadata": {},
          "output_type": "display_data"
        },
        {
          "data": {
            "text/html": [
              "wandb version 0.13.11 is available!  To upgrade, please run:\n",
              " $ pip install wandb --upgrade"
            ],
            "text/plain": [
              "<IPython.core.display.HTML object>"
            ]
          },
          "metadata": {},
          "output_type": "display_data"
        },
        {
          "data": {
            "text/html": [
              "Tracking run with wandb version 0.13.10"
            ],
            "text/plain": [
              "<IPython.core.display.HTML object>"
            ]
          },
          "metadata": {},
          "output_type": "display_data"
        },
        {
          "data": {
            "text/html": [
              "Run data is saved locally in <code>d:\\DL\\CS6910_CS22M078\\wandb\\run-20230311_120041-49bovyte</code>"
            ],
            "text/plain": [
              "<IPython.core.display.HTML object>"
            ]
          },
          "metadata": {},
          "output_type": "display_data"
        },
        {
          "data": {
            "text/html": [
              "Syncing run <strong><a href='https://wandb.ai/cs22m078/CS6910_Assignment-1/runs/49bovyte' target=\"_blank\">_h1_6_SL_32_BS_32_OPT_nadam</a></strong> to <a href='https://wandb.ai/cs22m078/CS6910_Assignment-1' target=\"_blank\">Weights & Biases</a> (<a href='https://wandb.me/run' target=\"_blank\">docs</a>)<br/>Sweep page: <a href='https://wandb.ai/cs22m078/CS6910_Assignment-1/sweeps/g0hecef3' target=\"_blank\">https://wandb.ai/cs22m078/CS6910_Assignment-1/sweeps/g0hecef3</a>"
            ],
            "text/plain": [
              "<IPython.core.display.HTML object>"
            ]
          },
          "metadata": {},
          "output_type": "display_data"
        },
        {
          "data": {
            "text/html": [
              " View project at <a href='https://wandb.ai/cs22m078/CS6910_Assignment-1' target=\"_blank\">https://wandb.ai/cs22m078/CS6910_Assignment-1</a>"
            ],
            "text/plain": [
              "<IPython.core.display.HTML object>"
            ]
          },
          "metadata": {},
          "output_type": "display_data"
        },
        {
          "data": {
            "text/html": [
              " View sweep at <a href='https://wandb.ai/cs22m078/CS6910_Assignment-1/sweeps/g0hecef3' target=\"_blank\">https://wandb.ai/cs22m078/CS6910_Assignment-1/sweeps/g0hecef3</a>"
            ],
            "text/plain": [
              "<IPython.core.display.HTML object>"
            ]
          },
          "metadata": {},
          "output_type": "display_data"
        },
        {
          "data": {
            "text/html": [
              " View run at <a href='https://wandb.ai/cs22m078/CS6910_Assignment-1/runs/49bovyte' target=\"_blank\">https://wandb.ai/cs22m078/CS6910_Assignment-1/runs/49bovyte</a>"
            ],
            "text/plain": [
              "<IPython.core.display.HTML object>"
            ]
          },
          "metadata": {},
          "output_type": "display_data"
        },
        {
          "data": {
            "text/html": [
              "Waiting for W&B process to finish... <strong style=\"color:green\">(success).</strong>"
            ],
            "text/plain": [
              "<IPython.core.display.HTML object>"
            ]
          },
          "metadata": {},
          "output_type": "display_data"
        },
        {
          "data": {
            "application/vnd.jupyter.widget-view+json": {
              "model_id": "815e343f69054eabb09dd44eb74e5cc2",
              "version_major": 2,
              "version_minor": 0
            },
            "text/plain": [
              "VBox(children=(Label(value='0.001 MB of 0.002 MB uploaded (0.000 MB deduped)\\r'), FloatProgress(value=0.574814…"
            ]
          },
          "metadata": {},
          "output_type": "display_data"
        },
        {
          "data": {
            "text/html": [
              "<style>\n",
              "    table.wandb td:nth-child(1) { padding: 0 10px; text-align: left ; width: auto;} td:nth-child(2) {text-align: left ; width: 100%}\n",
              "    .wandb-row { display: flex; flex-direction: row; flex-wrap: wrap; justify-content: flex-start; width: 100% }\n",
              "    .wandb-col { display: flex; flex-direction: column; flex-basis: 100%; flex: 1; padding: 10px; }\n",
              "    </style>\n",
              "<div class=\"wandb-row\"><div class=\"wandb-col\"><h3>Run history:</h3><br/><table class=\"wandb\"><tr><td>accuracy</td><td>█████▁</td></tr><tr><td>epoch</td><td>▁▃▅▆█▁▃▅▆█▁▃▅▆█▁▃▅▆█</td></tr><tr><td>loss</td><td>▁████</td></tr><tr><td>val_acc</td><td>▁▁▁▁▁</td></tr><tr><td>val_loss</td><td>▁████</td></tr></table><br/></div><div class=\"wandb-col\"><h3>Run summary:</h3><br/><table class=\"wandb\"><tr><td>accuracy</td><td>9.71333</td></tr><tr><td>epoch</td><td>5</td></tr><tr><td>loss</td><td>2.30259</td></tr><tr><td>val_acc</td><td>9.71333</td></tr><tr><td>val_loss</td><td>2.30293</td></tr></table><br/></div></div>"
            ],
            "text/plain": [
              "<IPython.core.display.HTML object>"
            ]
          },
          "metadata": {},
          "output_type": "display_data"
        },
        {
          "data": {
            "text/html": [
              " View run <strong style=\"color:#cdcd00\">_h1_6_SL_32_BS_32_OPT_nadam</strong> at: <a href='https://wandb.ai/cs22m078/CS6910_Assignment-1/runs/49bovyte' target=\"_blank\">https://wandb.ai/cs22m078/CS6910_Assignment-1/runs/49bovyte</a><br/>Synced 4 W&B file(s), 0 media file(s), 0 artifact file(s) and 0 other file(s)"
            ],
            "text/plain": [
              "<IPython.core.display.HTML object>"
            ]
          },
          "metadata": {},
          "output_type": "display_data"
        },
        {
          "data": {
            "text/html": [
              "Find logs at: <code>.\\wandb\\run-20230311_120041-49bovyte\\logs</code>"
            ],
            "text/plain": [
              "<IPython.core.display.HTML object>"
            ]
          },
          "metadata": {},
          "output_type": "display_data"
        },
        {
          "name": "stderr",
          "output_type": "stream",
          "text": [
            "\u001b[34m\u001b[1mwandb\u001b[0m: Agent Starting Run: fuzj99u0 with config:\n",
            "\u001b[34m\u001b[1mwandb\u001b[0m: \tL2_lamb: 0.0005\n",
            "\u001b[34m\u001b[1mwandb\u001b[0m: \tactivation: sigmoid\n",
            "\u001b[34m\u001b[1mwandb\u001b[0m: \tbatch_size: 32\n",
            "\u001b[34m\u001b[1mwandb\u001b[0m: \tepoch: 5\n",
            "\u001b[34m\u001b[1mwandb\u001b[0m: \teta: 0.0001\n",
            "\u001b[34m\u001b[1mwandb\u001b[0m: \thidden_layers: 4\n",
            "\u001b[34m\u001b[1mwandb\u001b[0m: \tlearning_algorithm: adam\n",
            "\u001b[34m\u001b[1mwandb\u001b[0m: \tneurons: 64\n",
            "\u001b[34m\u001b[1mwandb\u001b[0m: \tweight_init: random\n",
            "Failed to detect the name of this notebook, you can set it manually with the WANDB_NOTEBOOK_NAME environment variable to enable code saving.\n"
          ]
        },
        {
          "data": {
            "application/vnd.jupyter.widget-view+json": {
              "model_id": "1dabd21c8f72438fa612272497354b7f",
              "version_major": 2,
              "version_minor": 0
            },
            "text/plain": [
              "VBox(children=(Label(value='Waiting for wandb.init()...\\r'), FloatProgress(value=0.016666666666666666, max=1.0…"
            ]
          },
          "metadata": {},
          "output_type": "display_data"
        },
        {
          "data": {
            "text/html": [
              "wandb version 0.13.11 is available!  To upgrade, please run:\n",
              " $ pip install wandb --upgrade"
            ],
            "text/plain": [
              "<IPython.core.display.HTML object>"
            ]
          },
          "metadata": {},
          "output_type": "display_data"
        },
        {
          "data": {
            "text/html": [
              "Tracking run with wandb version 0.13.10"
            ],
            "text/plain": [
              "<IPython.core.display.HTML object>"
            ]
          },
          "metadata": {},
          "output_type": "display_data"
        },
        {
          "data": {
            "text/html": [
              "Run data is saved locally in <code>d:\\DL\\CS6910_CS22M078\\wandb\\run-20230311_120130-fuzj99u0</code>"
            ],
            "text/plain": [
              "<IPython.core.display.HTML object>"
            ]
          },
          "metadata": {},
          "output_type": "display_data"
        },
        {
          "data": {
            "text/html": [
              "Syncing run <strong><a href='https://wandb.ai/cs22m078/CS6910_Assignment-1/runs/fuzj99u0' target=\"_blank\">solar-sweep-6</a></strong> to <a href='https://wandb.ai/cs22m078/CS6910_Assignment-1' target=\"_blank\">Weights & Biases</a> (<a href='https://wandb.me/run' target=\"_blank\">docs</a>)<br/>Sweep page: <a href='https://wandb.ai/cs22m078/CS6910_Assignment-1/sweeps/g0hecef3' target=\"_blank\">https://wandb.ai/cs22m078/CS6910_Assignment-1/sweeps/g0hecef3</a>"
            ],
            "text/plain": [
              "<IPython.core.display.HTML object>"
            ]
          },
          "metadata": {},
          "output_type": "display_data"
        },
        {
          "data": {
            "text/html": [
              " View project at <a href='https://wandb.ai/cs22m078/CS6910_Assignment-1' target=\"_blank\">https://wandb.ai/cs22m078/CS6910_Assignment-1</a>"
            ],
            "text/plain": [
              "<IPython.core.display.HTML object>"
            ]
          },
          "metadata": {},
          "output_type": "display_data"
        },
        {
          "data": {
            "text/html": [
              " View sweep at <a href='https://wandb.ai/cs22m078/CS6910_Assignment-1/sweeps/g0hecef3' target=\"_blank\">https://wandb.ai/cs22m078/CS6910_Assignment-1/sweeps/g0hecef3</a>"
            ],
            "text/plain": [
              "<IPython.core.display.HTML object>"
            ]
          },
          "metadata": {},
          "output_type": "display_data"
        },
        {
          "data": {
            "text/html": [
              " View run at <a href='https://wandb.ai/cs22m078/CS6910_Assignment-1/runs/fuzj99u0' target=\"_blank\">https://wandb.ai/cs22m078/CS6910_Assignment-1/runs/fuzj99u0</a>"
            ],
            "text/plain": [
              "<IPython.core.display.HTML object>"
            ]
          },
          "metadata": {},
          "output_type": "display_data"
        },
        {
          "data": {
            "text/html": [
              "Finishing last run (ID:fuzj99u0) before initializing another..."
            ],
            "text/plain": [
              "<IPython.core.display.HTML object>"
            ]
          },
          "metadata": {},
          "output_type": "display_data"
        },
        {
          "data": {
            "text/html": [
              "Waiting for W&B process to finish... <strong style=\"color:green\">(success).</strong>"
            ],
            "text/plain": [
              "<IPython.core.display.HTML object>"
            ]
          },
          "metadata": {},
          "output_type": "display_data"
        },
        {
          "data": {
            "application/vnd.jupyter.widget-view+json": {
              "model_id": "1f4af9d3c47042a7a4acd0e0f0ce6ed7",
              "version_major": 2,
              "version_minor": 0
            },
            "text/plain": [
              "VBox(children=(Label(value='0.001 MB of 0.001 MB uploaded (0.000 MB deduped)\\r'), FloatProgress(value=1.0, max…"
            ]
          },
          "metadata": {},
          "output_type": "display_data"
        },
        {
          "data": {
            "text/html": [
              " View run <strong style=\"color:#cdcd00\">solar-sweep-6</strong> at: <a href='https://wandb.ai/cs22m078/CS6910_Assignment-1/runs/fuzj99u0' target=\"_blank\">https://wandb.ai/cs22m078/CS6910_Assignment-1/runs/fuzj99u0</a><br/>Synced 4 W&B file(s), 0 media file(s), 0 artifact file(s) and 0 other file(s)"
            ],
            "text/plain": [
              "<IPython.core.display.HTML object>"
            ]
          },
          "metadata": {},
          "output_type": "display_data"
        },
        {
          "data": {
            "text/html": [
              "Find logs at: <code>.\\wandb\\run-20230311_120130-fuzj99u0\\logs</code>"
            ],
            "text/plain": [
              "<IPython.core.display.HTML object>"
            ]
          },
          "metadata": {},
          "output_type": "display_data"
        },
        {
          "data": {
            "text/html": [
              "Successfully finished last run (ID:fuzj99u0). Initializing new run:<br/>"
            ],
            "text/plain": [
              "<IPython.core.display.HTML object>"
            ]
          },
          "metadata": {},
          "output_type": "display_data"
        },
        {
          "data": {
            "application/vnd.jupyter.widget-view+json": {
              "model_id": "a39ea02ad5dc44f9a1d94c84bf563f54",
              "version_major": 2,
              "version_minor": 0
            },
            "text/plain": [
              "VBox(children=(Label(value='Waiting for wandb.init()...\\r'), FloatProgress(value=0.016916666666656966, max=1.0…"
            ]
          },
          "metadata": {},
          "output_type": "display_data"
        },
        {
          "data": {
            "text/html": [
              "wandb version 0.13.11 is available!  To upgrade, please run:\n",
              " $ pip install wandb --upgrade"
            ],
            "text/plain": [
              "<IPython.core.display.HTML object>"
            ]
          },
          "metadata": {},
          "output_type": "display_data"
        },
        {
          "data": {
            "text/html": [
              "Tracking run with wandb version 0.13.10"
            ],
            "text/plain": [
              "<IPython.core.display.HTML object>"
            ]
          },
          "metadata": {},
          "output_type": "display_data"
        },
        {
          "data": {
            "text/html": [
              "Run data is saved locally in <code>d:\\DL\\CS6910_CS22M078\\wandb\\run-20230311_120132-fuzj99u0</code>"
            ],
            "text/plain": [
              "<IPython.core.display.HTML object>"
            ]
          },
          "metadata": {},
          "output_type": "display_data"
        },
        {
          "data": {
            "text/html": [
              "Syncing run <strong><a href='https://wandb.ai/cs22m078/CS6910_Assignment-1/runs/fuzj99u0' target=\"_blank\">_h1_4_SL_64_BS_32_OPT_adam</a></strong> to <a href='https://wandb.ai/cs22m078/CS6910_Assignment-1' target=\"_blank\">Weights & Biases</a> (<a href='https://wandb.me/run' target=\"_blank\">docs</a>)<br/>Sweep page: <a href='https://wandb.ai/cs22m078/CS6910_Assignment-1/sweeps/g0hecef3' target=\"_blank\">https://wandb.ai/cs22m078/CS6910_Assignment-1/sweeps/g0hecef3</a>"
            ],
            "text/plain": [
              "<IPython.core.display.HTML object>"
            ]
          },
          "metadata": {},
          "output_type": "display_data"
        },
        {
          "data": {
            "text/html": [
              " View project at <a href='https://wandb.ai/cs22m078/CS6910_Assignment-1' target=\"_blank\">https://wandb.ai/cs22m078/CS6910_Assignment-1</a>"
            ],
            "text/plain": [
              "<IPython.core.display.HTML object>"
            ]
          },
          "metadata": {},
          "output_type": "display_data"
        },
        {
          "data": {
            "text/html": [
              " View sweep at <a href='https://wandb.ai/cs22m078/CS6910_Assignment-1/sweeps/g0hecef3' target=\"_blank\">https://wandb.ai/cs22m078/CS6910_Assignment-1/sweeps/g0hecef3</a>"
            ],
            "text/plain": [
              "<IPython.core.display.HTML object>"
            ]
          },
          "metadata": {},
          "output_type": "display_data"
        },
        {
          "data": {
            "text/html": [
              " View run at <a href='https://wandb.ai/cs22m078/CS6910_Assignment-1/runs/fuzj99u0' target=\"_blank\">https://wandb.ai/cs22m078/CS6910_Assignment-1/runs/fuzj99u0</a>"
            ],
            "text/plain": [
              "<IPython.core.display.HTML object>"
            ]
          },
          "metadata": {},
          "output_type": "display_data"
        },
        {
          "data": {
            "text/html": [
              "Waiting for W&B process to finish... <strong style=\"color:green\">(success).</strong>"
            ],
            "text/plain": [
              "<IPython.core.display.HTML object>"
            ]
          },
          "metadata": {},
          "output_type": "display_data"
        },
        {
          "data": {
            "application/vnd.jupyter.widget-view+json": {
              "model_id": "e8748cacf2ba45d5ab3cc64a76209331",
              "version_major": 2,
              "version_minor": 0
            },
            "text/plain": [
              "VBox(children=(Label(value='0.001 MB of 0.005 MB uploaded (0.000 MB deduped)\\r'), FloatProgress(value=0.243611…"
            ]
          },
          "metadata": {},
          "output_type": "display_data"
        },
        {
          "data": {
            "text/html": [
              "<style>\n",
              "    table.wandb td:nth-child(1) { padding: 0 10px; text-align: left ; width: auto;} td:nth-child(2) {text-align: left ; width: 100%}\n",
              "    .wandb-row { display: flex; flex-direction: row; flex-wrap: wrap; justify-content: flex-start; width: 100% }\n",
              "    .wandb-col { display: flex; flex-direction: column; flex-basis: 100%; flex: 1; padding: 10px; }\n",
              "    </style>\n",
              "<div class=\"wandb-row\"><div class=\"wandb-col\"><h3>Run history:</h3><br/><table class=\"wandb\"><tr><td>accuracy</td><td>█████▁</td></tr><tr><td>epoch</td><td>▁▃▅▆█▁▃▅▆█▁▃▅▆█▁▃▅▆█</td></tr><tr><td>loss</td><td>█▆▄▃▁</td></tr><tr><td>val_acc</td><td>▁▁▁▁▁</td></tr><tr><td>val_loss</td><td>█▆▄▃▁</td></tr></table><br/></div><div class=\"wandb-col\"><h3>Run summary:</h3><br/><table class=\"wandb\"><tr><td>accuracy</td><td>9.71333</td></tr><tr><td>epoch</td><td>5</td></tr><tr><td>loss</td><td>2.3036</td></tr><tr><td>val_acc</td><td>9.71333</td></tr><tr><td>val_loss</td><td>2.30456</td></tr></table><br/></div></div>"
            ],
            "text/plain": [
              "<IPython.core.display.HTML object>"
            ]
          },
          "metadata": {},
          "output_type": "display_data"
        },
        {
          "data": {
            "text/html": [
              " View run <strong style=\"color:#cdcd00\">_h1_4_SL_64_BS_32_OPT_adam</strong> at: <a href='https://wandb.ai/cs22m078/CS6910_Assignment-1/runs/fuzj99u0' target=\"_blank\">https://wandb.ai/cs22m078/CS6910_Assignment-1/runs/fuzj99u0</a><br/>Synced 4 W&B file(s), 0 media file(s), 0 artifact file(s) and 0 other file(s)"
            ],
            "text/plain": [
              "<IPython.core.display.HTML object>"
            ]
          },
          "metadata": {},
          "output_type": "display_data"
        },
        {
          "data": {
            "text/html": [
              "Find logs at: <code>.\\wandb\\run-20230311_120132-fuzj99u0\\logs</code>"
            ],
            "text/plain": [
              "<IPython.core.display.HTML object>"
            ]
          },
          "metadata": {},
          "output_type": "display_data"
        },
        {
          "name": "stderr",
          "output_type": "stream",
          "text": [
            "\u001b[34m\u001b[1mwandb\u001b[0m: Agent Starting Run: m3unt3m1 with config:\n",
            "\u001b[34m\u001b[1mwandb\u001b[0m: \tL2_lamb: 0\n",
            "\u001b[34m\u001b[1mwandb\u001b[0m: \tactivation: sigmoid\n",
            "\u001b[34m\u001b[1mwandb\u001b[0m: \tbatch_size: 16\n",
            "\u001b[34m\u001b[1mwandb\u001b[0m: \tepoch: 5\n",
            "\u001b[34m\u001b[1mwandb\u001b[0m: \teta: 0.0001\n",
            "\u001b[34m\u001b[1mwandb\u001b[0m: \thidden_layers: 5\n",
            "\u001b[34m\u001b[1mwandb\u001b[0m: \tlearning_algorithm: nestrov_accelerated_gradient_descent\n",
            "\u001b[34m\u001b[1mwandb\u001b[0m: \tneurons: 64\n",
            "\u001b[34m\u001b[1mwandb\u001b[0m: \tweight_init: random\n",
            "Failed to detect the name of this notebook, you can set it manually with the WANDB_NOTEBOOK_NAME environment variable to enable code saving.\n"
          ]
        },
        {
          "data": {
            "text/html": [
              "wandb version 0.13.11 is available!  To upgrade, please run:\n",
              " $ pip install wandb --upgrade"
            ],
            "text/plain": [
              "<IPython.core.display.HTML object>"
            ]
          },
          "metadata": {},
          "output_type": "display_data"
        },
        {
          "data": {
            "text/html": [
              "Tracking run with wandb version 0.13.10"
            ],
            "text/plain": [
              "<IPython.core.display.HTML object>"
            ]
          },
          "metadata": {},
          "output_type": "display_data"
        },
        {
          "data": {
            "text/html": [
              "Run data is saved locally in <code>d:\\DL\\CS6910_CS22M078\\wandb\\run-20230311_120227-m3unt3m1</code>"
            ],
            "text/plain": [
              "<IPython.core.display.HTML object>"
            ]
          },
          "metadata": {},
          "output_type": "display_data"
        },
        {
          "data": {
            "text/html": [
              "Syncing run <strong><a href='https://wandb.ai/cs22m078/CS6910_Assignment-1/runs/m3unt3m1' target=\"_blank\">clean-sweep-7</a></strong> to <a href='https://wandb.ai/cs22m078/CS6910_Assignment-1' target=\"_blank\">Weights & Biases</a> (<a href='https://wandb.me/run' target=\"_blank\">docs</a>)<br/>Sweep page: <a href='https://wandb.ai/cs22m078/CS6910_Assignment-1/sweeps/g0hecef3' target=\"_blank\">https://wandb.ai/cs22m078/CS6910_Assignment-1/sweeps/g0hecef3</a>"
            ],
            "text/plain": [
              "<IPython.core.display.HTML object>"
            ]
          },
          "metadata": {},
          "output_type": "display_data"
        },
        {
          "data": {
            "text/html": [
              " View project at <a href='https://wandb.ai/cs22m078/CS6910_Assignment-1' target=\"_blank\">https://wandb.ai/cs22m078/CS6910_Assignment-1</a>"
            ],
            "text/plain": [
              "<IPython.core.display.HTML object>"
            ]
          },
          "metadata": {},
          "output_type": "display_data"
        },
        {
          "data": {
            "text/html": [
              " View sweep at <a href='https://wandb.ai/cs22m078/CS6910_Assignment-1/sweeps/g0hecef3' target=\"_blank\">https://wandb.ai/cs22m078/CS6910_Assignment-1/sweeps/g0hecef3</a>"
            ],
            "text/plain": [
              "<IPython.core.display.HTML object>"
            ]
          },
          "metadata": {},
          "output_type": "display_data"
        },
        {
          "data": {
            "text/html": [
              " View run at <a href='https://wandb.ai/cs22m078/CS6910_Assignment-1/runs/m3unt3m1' target=\"_blank\">https://wandb.ai/cs22m078/CS6910_Assignment-1/runs/m3unt3m1</a>"
            ],
            "text/plain": [
              "<IPython.core.display.HTML object>"
            ]
          },
          "metadata": {},
          "output_type": "display_data"
        },
        {
          "data": {
            "text/html": [
              "Finishing last run (ID:m3unt3m1) before initializing another..."
            ],
            "text/plain": [
              "<IPython.core.display.HTML object>"
            ]
          },
          "metadata": {},
          "output_type": "display_data"
        },
        {
          "data": {
            "text/html": [
              "Waiting for W&B process to finish... <strong style=\"color:green\">(success).</strong>"
            ],
            "text/plain": [
              "<IPython.core.display.HTML object>"
            ]
          },
          "metadata": {},
          "output_type": "display_data"
        },
        {
          "data": {
            "application/vnd.jupyter.widget-view+json": {
              "model_id": "102d2cbc6a1a456c91279b7ba25fb77c",
              "version_major": 2,
              "version_minor": 0
            },
            "text/plain": [
              "VBox(children=(Label(value='0.001 MB of 0.005 MB uploaded (0.000 MB deduped)\\r'), FloatProgress(value=0.242241…"
            ]
          },
          "metadata": {},
          "output_type": "display_data"
        },
        {
          "data": {
            "text/html": [
              " View run <strong style=\"color:#cdcd00\">clean-sweep-7</strong> at: <a href='https://wandb.ai/cs22m078/CS6910_Assignment-1/runs/m3unt3m1' target=\"_blank\">https://wandb.ai/cs22m078/CS6910_Assignment-1/runs/m3unt3m1</a><br/>Synced 4 W&B file(s), 0 media file(s), 0 artifact file(s) and 0 other file(s)"
            ],
            "text/plain": [
              "<IPython.core.display.HTML object>"
            ]
          },
          "metadata": {},
          "output_type": "display_data"
        },
        {
          "data": {
            "text/html": [
              "Find logs at: <code>.\\wandb\\run-20230311_120227-m3unt3m1\\logs</code>"
            ],
            "text/plain": [
              "<IPython.core.display.HTML object>"
            ]
          },
          "metadata": {},
          "output_type": "display_data"
        },
        {
          "data": {
            "text/html": [
              "Successfully finished last run (ID:m3unt3m1). Initializing new run:<br/>"
            ],
            "text/plain": [
              "<IPython.core.display.HTML object>"
            ]
          },
          "metadata": {},
          "output_type": "display_data"
        },
        {
          "data": {
            "application/vnd.jupyter.widget-view+json": {
              "model_id": "d93e879f95d94b1eb3192f2e2dc32b83",
              "version_major": 2,
              "version_minor": 0
            },
            "text/plain": [
              "VBox(children=(Label(value='Waiting for wandb.init()...\\r'), FloatProgress(value=0.01693333333338766, max=1.0)…"
            ]
          },
          "metadata": {},
          "output_type": "display_data"
        },
        {
          "data": {
            "text/html": [
              "wandb version 0.13.11 is available!  To upgrade, please run:\n",
              " $ pip install wandb --upgrade"
            ],
            "text/plain": [
              "<IPython.core.display.HTML object>"
            ]
          },
          "metadata": {},
          "output_type": "display_data"
        },
        {
          "data": {
            "text/html": [
              "Tracking run with wandb version 0.13.10"
            ],
            "text/plain": [
              "<IPython.core.display.HTML object>"
            ]
          },
          "metadata": {},
          "output_type": "display_data"
        },
        {
          "data": {
            "text/html": [
              "Run data is saved locally in <code>d:\\DL\\CS6910_CS22M078\\wandb\\run-20230311_120229-m3unt3m1</code>"
            ],
            "text/plain": [
              "<IPython.core.display.HTML object>"
            ]
          },
          "metadata": {},
          "output_type": "display_data"
        },
        {
          "data": {
            "text/html": [
              "Syncing run <strong><a href='https://wandb.ai/cs22m078/CS6910_Assignment-1/runs/m3unt3m1' target=\"_blank\">_h1_5_SL_64_BS_16_OPT_nestrov_accelerated_gradient_descent</a></strong> to <a href='https://wandb.ai/cs22m078/CS6910_Assignment-1' target=\"_blank\">Weights & Biases</a> (<a href='https://wandb.me/run' target=\"_blank\">docs</a>)<br/>Sweep page: <a href='https://wandb.ai/cs22m078/CS6910_Assignment-1/sweeps/g0hecef3' target=\"_blank\">https://wandb.ai/cs22m078/CS6910_Assignment-1/sweeps/g0hecef3</a>"
            ],
            "text/plain": [
              "<IPython.core.display.HTML object>"
            ]
          },
          "metadata": {},
          "output_type": "display_data"
        },
        {
          "data": {
            "text/html": [
              " View project at <a href='https://wandb.ai/cs22m078/CS6910_Assignment-1' target=\"_blank\">https://wandb.ai/cs22m078/CS6910_Assignment-1</a>"
            ],
            "text/plain": [
              "<IPython.core.display.HTML object>"
            ]
          },
          "metadata": {},
          "output_type": "display_data"
        },
        {
          "data": {
            "text/html": [
              " View sweep at <a href='https://wandb.ai/cs22m078/CS6910_Assignment-1/sweeps/g0hecef3' target=\"_blank\">https://wandb.ai/cs22m078/CS6910_Assignment-1/sweeps/g0hecef3</a>"
            ],
            "text/plain": [
              "<IPython.core.display.HTML object>"
            ]
          },
          "metadata": {},
          "output_type": "display_data"
        },
        {
          "data": {
            "text/html": [
              " View run at <a href='https://wandb.ai/cs22m078/CS6910_Assignment-1/runs/m3unt3m1' target=\"_blank\">https://wandb.ai/cs22m078/CS6910_Assignment-1/runs/m3unt3m1</a>"
            ],
            "text/plain": [
              "<IPython.core.display.HTML object>"
            ]
          },
          "metadata": {},
          "output_type": "display_data"
        },
        {
          "data": {
            "text/html": [
              "Waiting for W&B process to finish... <strong style=\"color:green\">(success).</strong>"
            ],
            "text/plain": [
              "<IPython.core.display.HTML object>"
            ]
          },
          "metadata": {},
          "output_type": "display_data"
        },
        {
          "data": {
            "application/vnd.jupyter.widget-view+json": {
              "model_id": "4c61d83aac634cfa9b9b92bf760367f6",
              "version_major": 2,
              "version_minor": 0
            },
            "text/plain": [
              "VBox(children=(Label(value='0.004 MB of 0.005 MB uploaded (0.000 MB deduped)\\r'), FloatProgress(value=0.775396…"
            ]
          },
          "metadata": {},
          "output_type": "display_data"
        },
        {
          "data": {
            "text/html": [
              "<style>\n",
              "    table.wandb td:nth-child(1) { padding: 0 10px; text-align: left ; width: auto;} td:nth-child(2) {text-align: left ; width: 100%}\n",
              "    .wandb-row { display: flex; flex-direction: row; flex-wrap: wrap; justify-content: flex-start; width: 100% }\n",
              "    .wandb-col { display: flex; flex-direction: column; flex-basis: 100%; flex: 1; padding: 10px; }\n",
              "    </style>\n",
              "<div class=\"wandb-row\"><div class=\"wandb-col\"><h3>Run history:</h3><br/><table class=\"wandb\"><tr><td>accuracy</td><td>█████▁</td></tr><tr><td>epoch</td><td>▁▃▅▆█▁▃▅▆█▁▃▅▆█▁▃▅▆█</td></tr><tr><td>loss</td><td>█▄▂▁▁</td></tr><tr><td>val_acc</td><td>▁▁▁▁▁</td></tr><tr><td>val_loss</td><td>█▄▂▁▁</td></tr></table><br/></div><div class=\"wandb-col\"><h3>Run summary:</h3><br/><table class=\"wandb\"><tr><td>accuracy</td><td>9.88667</td></tr><tr><td>epoch</td><td>5</td></tr><tr><td>loss</td><td>2.30718</td></tr><tr><td>val_acc</td><td>9.88667</td></tr><tr><td>val_loss</td><td>2.30661</td></tr></table><br/></div></div>"
            ],
            "text/plain": [
              "<IPython.core.display.HTML object>"
            ]
          },
          "metadata": {},
          "output_type": "display_data"
        },
        {
          "data": {
            "text/html": [
              " View run <strong style=\"color:#cdcd00\">_h1_5_SL_64_BS_16_OPT_nestrov_accelerated_gradient_descent</strong> at: <a href='https://wandb.ai/cs22m078/CS6910_Assignment-1/runs/m3unt3m1' target=\"_blank\">https://wandb.ai/cs22m078/CS6910_Assignment-1/runs/m3unt3m1</a><br/>Synced 4 W&B file(s), 0 media file(s), 0 artifact file(s) and 0 other file(s)"
            ],
            "text/plain": [
              "<IPython.core.display.HTML object>"
            ]
          },
          "metadata": {},
          "output_type": "display_data"
        },
        {
          "data": {
            "text/html": [
              "Find logs at: <code>.\\wandb\\run-20230311_120229-m3unt3m1\\logs</code>"
            ],
            "text/plain": [
              "<IPython.core.display.HTML object>"
            ]
          },
          "metadata": {},
          "output_type": "display_data"
        },
        {
          "name": "stderr",
          "output_type": "stream",
          "text": [
            "\u001b[34m\u001b[1mwandb\u001b[0m: Sweep Agent: Waiting for job.\n",
            "\u001b[34m\u001b[1mwandb\u001b[0m: Job received.\n",
            "\u001b[34m\u001b[1mwandb\u001b[0m: Agent Starting Run: 266qmb5y with config:\n",
            "\u001b[34m\u001b[1mwandb\u001b[0m: \tL2_lamb: 0.5\n",
            "\u001b[34m\u001b[1mwandb\u001b[0m: \tactivation: sigmoid\n",
            "\u001b[34m\u001b[1mwandb\u001b[0m: \tbatch_size: 64\n",
            "\u001b[34m\u001b[1mwandb\u001b[0m: \tepoch: 5\n",
            "\u001b[34m\u001b[1mwandb\u001b[0m: \teta: 0.001\n",
            "\u001b[34m\u001b[1mwandb\u001b[0m: \thidden_layers: 5\n",
            "\u001b[34m\u001b[1mwandb\u001b[0m: \tlearning_algorithm: adam\n",
            "\u001b[34m\u001b[1mwandb\u001b[0m: \tneurons: 64\n",
            "\u001b[34m\u001b[1mwandb\u001b[0m: \tweight_init: random\n",
            "Failed to detect the name of this notebook, you can set it manually with the WANDB_NOTEBOOK_NAME environment variable to enable code saving.\n"
          ]
        },
        {
          "data": {
            "text/html": [
              "wandb version 0.13.11 is available!  To upgrade, please run:\n",
              " $ pip install wandb --upgrade"
            ],
            "text/plain": [
              "<IPython.core.display.HTML object>"
            ]
          },
          "metadata": {},
          "output_type": "display_data"
        },
        {
          "data": {
            "text/html": [
              "Tracking run with wandb version 0.13.10"
            ],
            "text/plain": [
              "<IPython.core.display.HTML object>"
            ]
          },
          "metadata": {},
          "output_type": "display_data"
        },
        {
          "data": {
            "text/html": [
              "Run data is saved locally in <code>d:\\DL\\CS6910_CS22M078\\wandb\\run-20230311_120341-266qmb5y</code>"
            ],
            "text/plain": [
              "<IPython.core.display.HTML object>"
            ]
          },
          "metadata": {},
          "output_type": "display_data"
        },
        {
          "data": {
            "text/html": [
              "Syncing run <strong><a href='https://wandb.ai/cs22m078/CS6910_Assignment-1/runs/266qmb5y' target=\"_blank\">gallant-sweep-8</a></strong> to <a href='https://wandb.ai/cs22m078/CS6910_Assignment-1' target=\"_blank\">Weights & Biases</a> (<a href='https://wandb.me/run' target=\"_blank\">docs</a>)<br/>Sweep page: <a href='https://wandb.ai/cs22m078/CS6910_Assignment-1/sweeps/g0hecef3' target=\"_blank\">https://wandb.ai/cs22m078/CS6910_Assignment-1/sweeps/g0hecef3</a>"
            ],
            "text/plain": [
              "<IPython.core.display.HTML object>"
            ]
          },
          "metadata": {},
          "output_type": "display_data"
        },
        {
          "data": {
            "text/html": [
              " View project at <a href='https://wandb.ai/cs22m078/CS6910_Assignment-1' target=\"_blank\">https://wandb.ai/cs22m078/CS6910_Assignment-1</a>"
            ],
            "text/plain": [
              "<IPython.core.display.HTML object>"
            ]
          },
          "metadata": {},
          "output_type": "display_data"
        },
        {
          "data": {
            "text/html": [
              " View sweep at <a href='https://wandb.ai/cs22m078/CS6910_Assignment-1/sweeps/g0hecef3' target=\"_blank\">https://wandb.ai/cs22m078/CS6910_Assignment-1/sweeps/g0hecef3</a>"
            ],
            "text/plain": [
              "<IPython.core.display.HTML object>"
            ]
          },
          "metadata": {},
          "output_type": "display_data"
        },
        {
          "data": {
            "text/html": [
              " View run at <a href='https://wandb.ai/cs22m078/CS6910_Assignment-1/runs/266qmb5y' target=\"_blank\">https://wandb.ai/cs22m078/CS6910_Assignment-1/runs/266qmb5y</a>"
            ],
            "text/plain": [
              "<IPython.core.display.HTML object>"
            ]
          },
          "metadata": {},
          "output_type": "display_data"
        },
        {
          "data": {
            "text/html": [
              "Finishing last run (ID:266qmb5y) before initializing another..."
            ],
            "text/plain": [
              "<IPython.core.display.HTML object>"
            ]
          },
          "metadata": {},
          "output_type": "display_data"
        },
        {
          "data": {
            "text/html": [
              "Waiting for W&B process to finish... <strong style=\"color:green\">(success).</strong>"
            ],
            "text/plain": [
              "<IPython.core.display.HTML object>"
            ]
          },
          "metadata": {},
          "output_type": "display_data"
        },
        {
          "data": {
            "application/vnd.jupyter.widget-view+json": {
              "model_id": "8985a2b82fde453fa732fa1a2cb55b86",
              "version_major": 2,
              "version_minor": 0
            },
            "text/plain": [
              "VBox(children=(Label(value='0.000 MB of 0.001 MB uploaded (0.000 MB deduped)\\r'), FloatProgress(value=0.0, max…"
            ]
          },
          "metadata": {},
          "output_type": "display_data"
        },
        {
          "data": {
            "text/html": [
              " View run <strong style=\"color:#cdcd00\">gallant-sweep-8</strong> at: <a href='https://wandb.ai/cs22m078/CS6910_Assignment-1/runs/266qmb5y' target=\"_blank\">https://wandb.ai/cs22m078/CS6910_Assignment-1/runs/266qmb5y</a><br/>Synced 4 W&B file(s), 0 media file(s), 0 artifact file(s) and 0 other file(s)"
            ],
            "text/plain": [
              "<IPython.core.display.HTML object>"
            ]
          },
          "metadata": {},
          "output_type": "display_data"
        },
        {
          "data": {
            "text/html": [
              "Find logs at: <code>.\\wandb\\run-20230311_120341-266qmb5y\\logs</code>"
            ],
            "text/plain": [
              "<IPython.core.display.HTML object>"
            ]
          },
          "metadata": {},
          "output_type": "display_data"
        },
        {
          "data": {
            "text/html": [
              "Successfully finished last run (ID:266qmb5y). Initializing new run:<br/>"
            ],
            "text/plain": [
              "<IPython.core.display.HTML object>"
            ]
          },
          "metadata": {},
          "output_type": "display_data"
        },
        {
          "data": {
            "application/vnd.jupyter.widget-view+json": {
              "model_id": "cf4793b5f87446de9462bc4dec9a704f",
              "version_major": 2,
              "version_minor": 0
            },
            "text/plain": [
              "VBox(children=(Label(value='Waiting for wandb.init()...\\r'), FloatProgress(value=0.01693333333338766, max=1.0)…"
            ]
          },
          "metadata": {},
          "output_type": "display_data"
        },
        {
          "data": {
            "text/html": [
              "wandb version 0.13.11 is available!  To upgrade, please run:\n",
              " $ pip install wandb --upgrade"
            ],
            "text/plain": [
              "<IPython.core.display.HTML object>"
            ]
          },
          "metadata": {},
          "output_type": "display_data"
        },
        {
          "data": {
            "text/html": [
              "Tracking run with wandb version 0.13.10"
            ],
            "text/plain": [
              "<IPython.core.display.HTML object>"
            ]
          },
          "metadata": {},
          "output_type": "display_data"
        },
        {
          "data": {
            "text/html": [
              "Run data is saved locally in <code>d:\\DL\\CS6910_CS22M078\\wandb\\run-20230311_120344-266qmb5y</code>"
            ],
            "text/plain": [
              "<IPython.core.display.HTML object>"
            ]
          },
          "metadata": {},
          "output_type": "display_data"
        },
        {
          "data": {
            "text/html": [
              "Syncing run <strong><a href='https://wandb.ai/cs22m078/CS6910_Assignment-1/runs/266qmb5y' target=\"_blank\">_h1_5_SL_64_BS_64_OPT_adam</a></strong> to <a href='https://wandb.ai/cs22m078/CS6910_Assignment-1' target=\"_blank\">Weights & Biases</a> (<a href='https://wandb.me/run' target=\"_blank\">docs</a>)<br/>Sweep page: <a href='https://wandb.ai/cs22m078/CS6910_Assignment-1/sweeps/g0hecef3' target=\"_blank\">https://wandb.ai/cs22m078/CS6910_Assignment-1/sweeps/g0hecef3</a>"
            ],
            "text/plain": [
              "<IPython.core.display.HTML object>"
            ]
          },
          "metadata": {},
          "output_type": "display_data"
        },
        {
          "data": {
            "text/html": [
              " View project at <a href='https://wandb.ai/cs22m078/CS6910_Assignment-1' target=\"_blank\">https://wandb.ai/cs22m078/CS6910_Assignment-1</a>"
            ],
            "text/plain": [
              "<IPython.core.display.HTML object>"
            ]
          },
          "metadata": {},
          "output_type": "display_data"
        },
        {
          "data": {
            "text/html": [
              " View sweep at <a href='https://wandb.ai/cs22m078/CS6910_Assignment-1/sweeps/g0hecef3' target=\"_blank\">https://wandb.ai/cs22m078/CS6910_Assignment-1/sweeps/g0hecef3</a>"
            ],
            "text/plain": [
              "<IPython.core.display.HTML object>"
            ]
          },
          "metadata": {},
          "output_type": "display_data"
        },
        {
          "data": {
            "text/html": [
              " View run at <a href='https://wandb.ai/cs22m078/CS6910_Assignment-1/runs/266qmb5y' target=\"_blank\">https://wandb.ai/cs22m078/CS6910_Assignment-1/runs/266qmb5y</a>"
            ],
            "text/plain": [
              "<IPython.core.display.HTML object>"
            ]
          },
          "metadata": {},
          "output_type": "display_data"
        },
        {
          "data": {
            "text/html": [
              "Waiting for W&B process to finish... <strong style=\"color:green\">(success).</strong>"
            ],
            "text/plain": [
              "<IPython.core.display.HTML object>"
            ]
          },
          "metadata": {},
          "output_type": "display_data"
        },
        {
          "data": {
            "application/vnd.jupyter.widget-view+json": {
              "model_id": "7383130b3fe740349472dca1bfd4f200",
              "version_major": 2,
              "version_minor": 0
            },
            "text/plain": [
              "VBox(children=(Label(value='0.001 MB of 0.005 MB uploaded (0.000 MB deduped)\\r'), FloatProgress(value=0.232428…"
            ]
          },
          "metadata": {},
          "output_type": "display_data"
        },
        {
          "data": {
            "text/html": [
              "<style>\n",
              "    table.wandb td:nth-child(1) { padding: 0 10px; text-align: left ; width: auto;} td:nth-child(2) {text-align: left ; width: 100%}\n",
              "    .wandb-row { display: flex; flex-direction: row; flex-wrap: wrap; justify-content: flex-start; width: 100% }\n",
              "    .wandb-col { display: flex; flex-direction: column; flex-basis: 100%; flex: 1; padding: 10px; }\n",
              "    </style>\n",
              "<div class=\"wandb-row\"><div class=\"wandb-col\"><h3>Run history:</h3><br/><table class=\"wandb\"><tr><td>accuracy</td><td>▇▇▇██▁</td></tr><tr><td>epoch</td><td>▁▃▅▆█▁▃▅▆█▁▃▅▆█▁▃▅▆█</td></tr><tr><td>loss</td><td>█▆▅▂▁</td></tr><tr><td>val_acc</td><td>███▁▁</td></tr><tr><td>val_loss</td><td>█▇▆▃▁</td></tr></table><br/></div><div class=\"wandb-col\"><h3>Run summary:</h3><br/><table class=\"wandb\"><tr><td>accuracy</td><td>9.71333</td></tr><tr><td>epoch</td><td>5</td></tr><tr><td>loss</td><td>2.30309</td></tr><tr><td>val_acc</td><td>9.71333</td></tr><tr><td>val_loss</td><td>2.30374</td></tr></table><br/></div></div>"
            ],
            "text/plain": [
              "<IPython.core.display.HTML object>"
            ]
          },
          "metadata": {},
          "output_type": "display_data"
        },
        {
          "data": {
            "text/html": [
              " View run <strong style=\"color:#cdcd00\">_h1_5_SL_64_BS_64_OPT_adam</strong> at: <a href='https://wandb.ai/cs22m078/CS6910_Assignment-1/runs/266qmb5y' target=\"_blank\">https://wandb.ai/cs22m078/CS6910_Assignment-1/runs/266qmb5y</a><br/>Synced 4 W&B file(s), 0 media file(s), 0 artifact file(s) and 0 other file(s)"
            ],
            "text/plain": [
              "<IPython.core.display.HTML object>"
            ]
          },
          "metadata": {},
          "output_type": "display_data"
        },
        {
          "data": {
            "text/html": [
              "Find logs at: <code>.\\wandb\\run-20230311_120344-266qmb5y\\logs</code>"
            ],
            "text/plain": [
              "<IPython.core.display.HTML object>"
            ]
          },
          "metadata": {},
          "output_type": "display_data"
        },
        {
          "name": "stderr",
          "output_type": "stream",
          "text": [
            "\u001b[34m\u001b[1mwandb\u001b[0m: Agent Starting Run: sh5nv4gc with config:\n",
            "\u001b[34m\u001b[1mwandb\u001b[0m: \tL2_lamb: 0\n",
            "\u001b[34m\u001b[1mwandb\u001b[0m: \tactivation: relu\n",
            "\u001b[34m\u001b[1mwandb\u001b[0m: \tbatch_size: 64\n",
            "\u001b[34m\u001b[1mwandb\u001b[0m: \tepoch: 10\n",
            "\u001b[34m\u001b[1mwandb\u001b[0m: \teta: 0.0001\n",
            "\u001b[34m\u001b[1mwandb\u001b[0m: \thidden_layers: 6\n",
            "\u001b[34m\u001b[1mwandb\u001b[0m: \tlearning_algorithm: rmsprop\n",
            "\u001b[34m\u001b[1mwandb\u001b[0m: \tneurons: 32\n",
            "\u001b[34m\u001b[1mwandb\u001b[0m: \tweight_init: xavier\n",
            "Failed to detect the name of this notebook, you can set it manually with the WANDB_NOTEBOOK_NAME environment variable to enable code saving.\n"
          ]
        },
        {
          "data": {
            "text/html": [
              "wandb version 0.13.11 is available!  To upgrade, please run:\n",
              " $ pip install wandb --upgrade"
            ],
            "text/plain": [
              "<IPython.core.display.HTML object>"
            ]
          },
          "metadata": {},
          "output_type": "display_data"
        },
        {
          "data": {
            "text/html": [
              "Tracking run with wandb version 0.13.10"
            ],
            "text/plain": [
              "<IPython.core.display.HTML object>"
            ]
          },
          "metadata": {},
          "output_type": "display_data"
        },
        {
          "data": {
            "text/html": [
              "Run data is saved locally in <code>d:\\DL\\CS6910_CS22M078\\wandb\\run-20230311_120435-sh5nv4gc</code>"
            ],
            "text/plain": [
              "<IPython.core.display.HTML object>"
            ]
          },
          "metadata": {},
          "output_type": "display_data"
        },
        {
          "data": {
            "text/html": [
              "Syncing run <strong><a href='https://wandb.ai/cs22m078/CS6910_Assignment-1/runs/sh5nv4gc' target=\"_blank\">glowing-sweep-9</a></strong> to <a href='https://wandb.ai/cs22m078/CS6910_Assignment-1' target=\"_blank\">Weights & Biases</a> (<a href='https://wandb.me/run' target=\"_blank\">docs</a>)<br/>Sweep page: <a href='https://wandb.ai/cs22m078/CS6910_Assignment-1/sweeps/g0hecef3' target=\"_blank\">https://wandb.ai/cs22m078/CS6910_Assignment-1/sweeps/g0hecef3</a>"
            ],
            "text/plain": [
              "<IPython.core.display.HTML object>"
            ]
          },
          "metadata": {},
          "output_type": "display_data"
        },
        {
          "data": {
            "text/html": [
              " View project at <a href='https://wandb.ai/cs22m078/CS6910_Assignment-1' target=\"_blank\">https://wandb.ai/cs22m078/CS6910_Assignment-1</a>"
            ],
            "text/plain": [
              "<IPython.core.display.HTML object>"
            ]
          },
          "metadata": {},
          "output_type": "display_data"
        },
        {
          "data": {
            "text/html": [
              " View sweep at <a href='https://wandb.ai/cs22m078/CS6910_Assignment-1/sweeps/g0hecef3' target=\"_blank\">https://wandb.ai/cs22m078/CS6910_Assignment-1/sweeps/g0hecef3</a>"
            ],
            "text/plain": [
              "<IPython.core.display.HTML object>"
            ]
          },
          "metadata": {},
          "output_type": "display_data"
        },
        {
          "data": {
            "text/html": [
              " View run at <a href='https://wandb.ai/cs22m078/CS6910_Assignment-1/runs/sh5nv4gc' target=\"_blank\">https://wandb.ai/cs22m078/CS6910_Assignment-1/runs/sh5nv4gc</a>"
            ],
            "text/plain": [
              "<IPython.core.display.HTML object>"
            ]
          },
          "metadata": {},
          "output_type": "display_data"
        },
        {
          "data": {
            "text/html": [
              "Finishing last run (ID:sh5nv4gc) before initializing another..."
            ],
            "text/plain": [
              "<IPython.core.display.HTML object>"
            ]
          },
          "metadata": {},
          "output_type": "display_data"
        },
        {
          "data": {
            "text/html": [
              "Waiting for W&B process to finish... <strong style=\"color:green\">(success).</strong>"
            ],
            "text/plain": [
              "<IPython.core.display.HTML object>"
            ]
          },
          "metadata": {},
          "output_type": "display_data"
        },
        {
          "data": {
            "application/vnd.jupyter.widget-view+json": {
              "model_id": "3ceaeedd4ed14e1591a26faf00318eaf",
              "version_major": 2,
              "version_minor": 0
            },
            "text/plain": [
              "VBox(children=(Label(value='0.001 MB of 0.005 MB uploaded (0.000 MB deduped)\\r'), FloatProgress(value=0.243815…"
            ]
          },
          "metadata": {},
          "output_type": "display_data"
        },
        {
          "data": {
            "text/html": [
              " View run <strong style=\"color:#cdcd00\">glowing-sweep-9</strong> at: <a href='https://wandb.ai/cs22m078/CS6910_Assignment-1/runs/sh5nv4gc' target=\"_blank\">https://wandb.ai/cs22m078/CS6910_Assignment-1/runs/sh5nv4gc</a><br/>Synced 4 W&B file(s), 0 media file(s), 0 artifact file(s) and 0 other file(s)"
            ],
            "text/plain": [
              "<IPython.core.display.HTML object>"
            ]
          },
          "metadata": {},
          "output_type": "display_data"
        },
        {
          "data": {
            "text/html": [
              "Find logs at: <code>.\\wandb\\run-20230311_120435-sh5nv4gc\\logs</code>"
            ],
            "text/plain": [
              "<IPython.core.display.HTML object>"
            ]
          },
          "metadata": {},
          "output_type": "display_data"
        },
        {
          "data": {
            "text/html": [
              "Successfully finished last run (ID:sh5nv4gc). Initializing new run:<br/>"
            ],
            "text/plain": [
              "<IPython.core.display.HTML object>"
            ]
          },
          "metadata": {},
          "output_type": "display_data"
        },
        {
          "data": {
            "application/vnd.jupyter.widget-view+json": {
              "model_id": "c2091fc11a5b4a949314b4f0e5d8ee48",
              "version_major": 2,
              "version_minor": 0
            },
            "text/plain": [
              "VBox(children=(Label(value='Waiting for wandb.init()...\\r'), FloatProgress(value=0.016666666666666666, max=1.0…"
            ]
          },
          "metadata": {},
          "output_type": "display_data"
        },
        {
          "data": {
            "text/html": [
              "wandb version 0.13.11 is available!  To upgrade, please run:\n",
              " $ pip install wandb --upgrade"
            ],
            "text/plain": [
              "<IPython.core.display.HTML object>"
            ]
          },
          "metadata": {},
          "output_type": "display_data"
        },
        {
          "data": {
            "text/html": [
              "Tracking run with wandb version 0.13.10"
            ],
            "text/plain": [
              "<IPython.core.display.HTML object>"
            ]
          },
          "metadata": {},
          "output_type": "display_data"
        },
        {
          "data": {
            "text/html": [
              "Run data is saved locally in <code>d:\\DL\\CS6910_CS22M078\\wandb\\run-20230311_120436-sh5nv4gc</code>"
            ],
            "text/plain": [
              "<IPython.core.display.HTML object>"
            ]
          },
          "metadata": {},
          "output_type": "display_data"
        },
        {
          "data": {
            "text/html": [
              "Syncing run <strong><a href='https://wandb.ai/cs22m078/CS6910_Assignment-1/runs/sh5nv4gc' target=\"_blank\">_h1_6_SL_32_BS_64_OPT_rmsprop</a></strong> to <a href='https://wandb.ai/cs22m078/CS6910_Assignment-1' target=\"_blank\">Weights & Biases</a> (<a href='https://wandb.me/run' target=\"_blank\">docs</a>)<br/>Sweep page: <a href='https://wandb.ai/cs22m078/CS6910_Assignment-1/sweeps/g0hecef3' target=\"_blank\">https://wandb.ai/cs22m078/CS6910_Assignment-1/sweeps/g0hecef3</a>"
            ],
            "text/plain": [
              "<IPython.core.display.HTML object>"
            ]
          },
          "metadata": {},
          "output_type": "display_data"
        },
        {
          "data": {
            "text/html": [
              " View project at <a href='https://wandb.ai/cs22m078/CS6910_Assignment-1' target=\"_blank\">https://wandb.ai/cs22m078/CS6910_Assignment-1</a>"
            ],
            "text/plain": [
              "<IPython.core.display.HTML object>"
            ]
          },
          "metadata": {},
          "output_type": "display_data"
        },
        {
          "data": {
            "text/html": [
              " View sweep at <a href='https://wandb.ai/cs22m078/CS6910_Assignment-1/sweeps/g0hecef3' target=\"_blank\">https://wandb.ai/cs22m078/CS6910_Assignment-1/sweeps/g0hecef3</a>"
            ],
            "text/plain": [
              "<IPython.core.display.HTML object>"
            ]
          },
          "metadata": {},
          "output_type": "display_data"
        },
        {
          "data": {
            "text/html": [
              " View run at <a href='https://wandb.ai/cs22m078/CS6910_Assignment-1/runs/sh5nv4gc' target=\"_blank\">https://wandb.ai/cs22m078/CS6910_Assignment-1/runs/sh5nv4gc</a>"
            ],
            "text/plain": [
              "<IPython.core.display.HTML object>"
            ]
          },
          "metadata": {},
          "output_type": "display_data"
        },
        {
          "data": {
            "text/html": [
              "Waiting for W&B process to finish... <strong style=\"color:red\">(failed 1).</strong> Press Ctrl-C to abort syncing."
            ],
            "text/plain": [
              "<IPython.core.display.HTML object>"
            ]
          },
          "metadata": {},
          "output_type": "display_data"
        },
        {
          "data": {
            "application/vnd.jupyter.widget-view+json": {
              "model_id": "de177df4c830471694c480211f9b0efe",
              "version_major": 2,
              "version_minor": 0
            },
            "text/plain": [
              "VBox(children=(Label(value='0.001 MB of 0.005 MB uploaded (0.000 MB deduped)\\r'), FloatProgress(value=0.243815…"
            ]
          },
          "metadata": {},
          "output_type": "display_data"
        },
        {
          "data": {
            "text/html": [
              " View run <strong style=\"color:#cdcd00\">_h1_6_SL_32_BS_64_OPT_rmsprop</strong> at: <a href='https://wandb.ai/cs22m078/CS6910_Assignment-1/runs/sh5nv4gc' target=\"_blank\">https://wandb.ai/cs22m078/CS6910_Assignment-1/runs/sh5nv4gc</a><br/>Synced 4 W&B file(s), 0 media file(s), 0 artifact file(s) and 0 other file(s)"
            ],
            "text/plain": [
              "<IPython.core.display.HTML object>"
            ]
          },
          "metadata": {},
          "output_type": "display_data"
        },
        {
          "data": {
            "text/html": [
              "Find logs at: <code>.\\wandb\\run-20230311_120436-sh5nv4gc\\logs</code>"
            ],
            "text/plain": [
              "<IPython.core.display.HTML object>"
            ]
          },
          "metadata": {},
          "output_type": "display_data"
        },
        {
          "name": "stderr",
          "output_type": "stream",
          "text": [
            "Run sh5nv4gc errored: TypeError(\"rmsprop_params_update() missing 1 required positional argument: 'L2_lamb'\")\n",
            "\u001b[34m\u001b[1mwandb\u001b[0m: \u001b[32m\u001b[41mERROR\u001b[0m Run sh5nv4gc errored: TypeError(\"rmsprop_params_update() missing 1 required positional argument: 'L2_lamb'\")\n",
            "\u001b[34m\u001b[1mwandb\u001b[0m: Agent Starting Run: 46nir0tb with config:\n",
            "\u001b[34m\u001b[1mwandb\u001b[0m: \tL2_lamb: 0.0005\n",
            "\u001b[34m\u001b[1mwandb\u001b[0m: \tactivation: tanh\n",
            "\u001b[34m\u001b[1mwandb\u001b[0m: \tbatch_size: 16\n",
            "\u001b[34m\u001b[1mwandb\u001b[0m: \tepoch: 5\n",
            "\u001b[34m\u001b[1mwandb\u001b[0m: \teta: 0.0001\n",
            "\u001b[34m\u001b[1mwandb\u001b[0m: \thidden_layers: 4\n",
            "\u001b[34m\u001b[1mwandb\u001b[0m: \tlearning_algorithm: momemtum_gradient_descent\n",
            "\u001b[34m\u001b[1mwandb\u001b[0m: \tneurons: 128\n",
            "\u001b[34m\u001b[1mwandb\u001b[0m: \tweight_init: xavier\n",
            "Failed to detect the name of this notebook, you can set it manually with the WANDB_NOTEBOOK_NAME environment variable to enable code saving.\n"
          ]
        },
        {
          "data": {
            "text/html": [
              "wandb version 0.13.11 is available!  To upgrade, please run:\n",
              " $ pip install wandb --upgrade"
            ],
            "text/plain": [
              "<IPython.core.display.HTML object>"
            ]
          },
          "metadata": {},
          "output_type": "display_data"
        },
        {
          "data": {
            "text/html": [
              "Tracking run with wandb version 0.13.10"
            ],
            "text/plain": [
              "<IPython.core.display.HTML object>"
            ]
          },
          "metadata": {},
          "output_type": "display_data"
        },
        {
          "data": {
            "text/html": [
              "Run data is saved locally in <code>d:\\DL\\CS6910_CS22M078\\wandb\\run-20230311_120456-46nir0tb</code>"
            ],
            "text/plain": [
              "<IPython.core.display.HTML object>"
            ]
          },
          "metadata": {},
          "output_type": "display_data"
        },
        {
          "data": {
            "text/html": [
              "Syncing run <strong><a href='https://wandb.ai/cs22m078/CS6910_Assignment-1/runs/46nir0tb' target=\"_blank\">rosy-sweep-10</a></strong> to <a href='https://wandb.ai/cs22m078/CS6910_Assignment-1' target=\"_blank\">Weights & Biases</a> (<a href='https://wandb.me/run' target=\"_blank\">docs</a>)<br/>Sweep page: <a href='https://wandb.ai/cs22m078/CS6910_Assignment-1/sweeps/g0hecef3' target=\"_blank\">https://wandb.ai/cs22m078/CS6910_Assignment-1/sweeps/g0hecef3</a>"
            ],
            "text/plain": [
              "<IPython.core.display.HTML object>"
            ]
          },
          "metadata": {},
          "output_type": "display_data"
        },
        {
          "data": {
            "text/html": [
              " View project at <a href='https://wandb.ai/cs22m078/CS6910_Assignment-1' target=\"_blank\">https://wandb.ai/cs22m078/CS6910_Assignment-1</a>"
            ],
            "text/plain": [
              "<IPython.core.display.HTML object>"
            ]
          },
          "metadata": {},
          "output_type": "display_data"
        },
        {
          "data": {
            "text/html": [
              " View sweep at <a href='https://wandb.ai/cs22m078/CS6910_Assignment-1/sweeps/g0hecef3' target=\"_blank\">https://wandb.ai/cs22m078/CS6910_Assignment-1/sweeps/g0hecef3</a>"
            ],
            "text/plain": [
              "<IPython.core.display.HTML object>"
            ]
          },
          "metadata": {},
          "output_type": "display_data"
        },
        {
          "data": {
            "text/html": [
              " View run at <a href='https://wandb.ai/cs22m078/CS6910_Assignment-1/runs/46nir0tb' target=\"_blank\">https://wandb.ai/cs22m078/CS6910_Assignment-1/runs/46nir0tb</a>"
            ],
            "text/plain": [
              "<IPython.core.display.HTML object>"
            ]
          },
          "metadata": {},
          "output_type": "display_data"
        },
        {
          "data": {
            "text/html": [
              "Finishing last run (ID:46nir0tb) before initializing another..."
            ],
            "text/plain": [
              "<IPython.core.display.HTML object>"
            ]
          },
          "metadata": {},
          "output_type": "display_data"
        },
        {
          "data": {
            "text/html": [
              "Waiting for W&B process to finish... <strong style=\"color:green\">(success).</strong>"
            ],
            "text/plain": [
              "<IPython.core.display.HTML object>"
            ]
          },
          "metadata": {},
          "output_type": "display_data"
        },
        {
          "data": {
            "application/vnd.jupyter.widget-view+json": {
              "model_id": "c0bc9a048b3c43e8ba2d57e72beb840d",
              "version_major": 2,
              "version_minor": 0
            },
            "text/plain": [
              "VBox(children=(Label(value='0.001 MB of 0.005 MB uploaded (0.000 MB deduped)\\r'), FloatProgress(value=0.242904…"
            ]
          },
          "metadata": {},
          "output_type": "display_data"
        },
        {
          "data": {
            "text/html": [
              " View run <strong style=\"color:#cdcd00\">rosy-sweep-10</strong> at: <a href='https://wandb.ai/cs22m078/CS6910_Assignment-1/runs/46nir0tb' target=\"_blank\">https://wandb.ai/cs22m078/CS6910_Assignment-1/runs/46nir0tb</a><br/>Synced 4 W&B file(s), 0 media file(s), 0 artifact file(s) and 0 other file(s)"
            ],
            "text/plain": [
              "<IPython.core.display.HTML object>"
            ]
          },
          "metadata": {},
          "output_type": "display_data"
        },
        {
          "data": {
            "text/html": [
              "Find logs at: <code>.\\wandb\\run-20230311_120456-46nir0tb\\logs</code>"
            ],
            "text/plain": [
              "<IPython.core.display.HTML object>"
            ]
          },
          "metadata": {},
          "output_type": "display_data"
        },
        {
          "data": {
            "text/html": [
              "Successfully finished last run (ID:46nir0tb). Initializing new run:<br/>"
            ],
            "text/plain": [
              "<IPython.core.display.HTML object>"
            ]
          },
          "metadata": {},
          "output_type": "display_data"
        },
        {
          "data": {
            "application/vnd.jupyter.widget-view+json": {
              "model_id": "54e73cf0843f4882b1d2c609c8e93a25",
              "version_major": 2,
              "version_minor": 0
            },
            "text/plain": [
              "VBox(children=(Label(value='Waiting for wandb.init()...\\r'), FloatProgress(value=0.016666666666666666, max=1.0…"
            ]
          },
          "metadata": {},
          "output_type": "display_data"
        },
        {
          "data": {
            "text/html": [
              "wandb version 0.13.11 is available!  To upgrade, please run:\n",
              " $ pip install wandb --upgrade"
            ],
            "text/plain": [
              "<IPython.core.display.HTML object>"
            ]
          },
          "metadata": {},
          "output_type": "display_data"
        },
        {
          "data": {
            "text/html": [
              "Tracking run with wandb version 0.13.10"
            ],
            "text/plain": [
              "<IPython.core.display.HTML object>"
            ]
          },
          "metadata": {},
          "output_type": "display_data"
        },
        {
          "data": {
            "text/html": [
              "Run data is saved locally in <code>d:\\DL\\CS6910_CS22M078\\wandb\\run-20230311_120458-46nir0tb</code>"
            ],
            "text/plain": [
              "<IPython.core.display.HTML object>"
            ]
          },
          "metadata": {},
          "output_type": "display_data"
        },
        {
          "data": {
            "text/html": [
              "Syncing run <strong><a href='https://wandb.ai/cs22m078/CS6910_Assignment-1/runs/46nir0tb' target=\"_blank\">_h1_4_SL_128_BS_16_OPT_momemtum_gradient_descent</a></strong> to <a href='https://wandb.ai/cs22m078/CS6910_Assignment-1' target=\"_blank\">Weights & Biases</a> (<a href='https://wandb.me/run' target=\"_blank\">docs</a>)<br/>Sweep page: <a href='https://wandb.ai/cs22m078/CS6910_Assignment-1/sweeps/g0hecef3' target=\"_blank\">https://wandb.ai/cs22m078/CS6910_Assignment-1/sweeps/g0hecef3</a>"
            ],
            "text/plain": [
              "<IPython.core.display.HTML object>"
            ]
          },
          "metadata": {},
          "output_type": "display_data"
        },
        {
          "data": {
            "text/html": [
              " View project at <a href='https://wandb.ai/cs22m078/CS6910_Assignment-1' target=\"_blank\">https://wandb.ai/cs22m078/CS6910_Assignment-1</a>"
            ],
            "text/plain": [
              "<IPython.core.display.HTML object>"
            ]
          },
          "metadata": {},
          "output_type": "display_data"
        },
        {
          "data": {
            "text/html": [
              " View sweep at <a href='https://wandb.ai/cs22m078/CS6910_Assignment-1/sweeps/g0hecef3' target=\"_blank\">https://wandb.ai/cs22m078/CS6910_Assignment-1/sweeps/g0hecef3</a>"
            ],
            "text/plain": [
              "<IPython.core.display.HTML object>"
            ]
          },
          "metadata": {},
          "output_type": "display_data"
        },
        {
          "data": {
            "text/html": [
              " View run at <a href='https://wandb.ai/cs22m078/CS6910_Assignment-1/runs/46nir0tb' target=\"_blank\">https://wandb.ai/cs22m078/CS6910_Assignment-1/runs/46nir0tb</a>"
            ],
            "text/plain": [
              "<IPython.core.display.HTML object>"
            ]
          },
          "metadata": {},
          "output_type": "display_data"
        },
        {
          "data": {
            "text/html": [
              "Waiting for W&B process to finish... <strong style=\"color:green\">(success).</strong>"
            ],
            "text/plain": [
              "<IPython.core.display.HTML object>"
            ]
          },
          "metadata": {},
          "output_type": "display_data"
        },
        {
          "data": {
            "application/vnd.jupyter.widget-view+json": {
              "model_id": "44ca0abdae674ffa82c1c73c849cc1e9",
              "version_major": 2,
              "version_minor": 0
            },
            "text/plain": [
              "VBox(children=(Label(value='0.001 MB of 0.005 MB uploaded (0.000 MB deduped)\\r'), FloatProgress(value=0.231319…"
            ]
          },
          "metadata": {},
          "output_type": "display_data"
        },
        {
          "data": {
            "text/html": [
              "<style>\n",
              "    table.wandb td:nth-child(1) { padding: 0 10px; text-align: left ; width: auto;} td:nth-child(2) {text-align: left ; width: 100%}\n",
              "    .wandb-row { display: flex; flex-direction: row; flex-wrap: wrap; justify-content: flex-start; width: 100% }\n",
              "    .wandb-col { display: flex; flex-direction: column; flex-basis: 100%; flex: 1; padding: 10px; }\n",
              "    </style>\n",
              "<div class=\"wandb-row\"><div class=\"wandb-col\"><h3>Run history:</h3><br/><table class=\"wandb\"><tr><td>accuracy</td><td>▁▅▆▇██</td></tr><tr><td>epoch</td><td>▁▃▅▆█▁▃▅▆█▁▃▅▆█▁▃▅▆█</td></tr><tr><td>loss</td><td>█▄▂▂▁</td></tr><tr><td>val_acc</td><td>▁▅▇▇█</td></tr><tr><td>val_loss</td><td>█▄▂▂▁</td></tr></table><br/></div><div class=\"wandb-col\"><h3>Run summary:</h3><br/><table class=\"wandb\"><tr><td>accuracy</td><td>83.76667</td></tr><tr><td>epoch</td><td>5</td></tr><tr><td>loss</td><td>0.44618</td></tr><tr><td>val_acc</td><td>83.76667</td></tr><tr><td>val_loss</td><td>0.45345</td></tr></table><br/></div></div>"
            ],
            "text/plain": [
              "<IPython.core.display.HTML object>"
            ]
          },
          "metadata": {},
          "output_type": "display_data"
        },
        {
          "data": {
            "text/html": [
              " View run <strong style=\"color:#cdcd00\">_h1_4_SL_128_BS_16_OPT_momemtum_gradient_descent</strong> at: <a href='https://wandb.ai/cs22m078/CS6910_Assignment-1/runs/46nir0tb' target=\"_blank\">https://wandb.ai/cs22m078/CS6910_Assignment-1/runs/46nir0tb</a><br/>Synced 4 W&B file(s), 0 media file(s), 0 artifact file(s) and 0 other file(s)"
            ],
            "text/plain": [
              "<IPython.core.display.HTML object>"
            ]
          },
          "metadata": {},
          "output_type": "display_data"
        },
        {
          "data": {
            "text/html": [
              "Find logs at: <code>.\\wandb\\run-20230311_120458-46nir0tb\\logs</code>"
            ],
            "text/plain": [
              "<IPython.core.display.HTML object>"
            ]
          },
          "metadata": {},
          "output_type": "display_data"
        }
      ],
      "source": [
        "def trainn():\n",
        "    wandb.init()\n",
        "    name='_h1_'+str(wandb.config.hidden_layers)+\"_SL_\"+str(wandb.config.neurons)+\"_BS_\"+str(wandb.config.batch_size)+\"_OPT_\"+str(wandb.config.learning_algorithm)\n",
        "    wandb.init(name=name)\n",
        "    weights,biases,epoch_train_loss,epoch_val_loss,acc_train,acc_val=learning_params(wandb.config.hidden_layers,wandb.config.neurons,train_x,train_y,val_x,val_y,wandb.config.learning_algorithm,wandb.config.eta,wandb.config.epoch,wandb.config.batch_size,wandb.config.activation,wandb.config.weight_init,wandb.config.L2_lamb)\n",
        "    for i in range(len(epoch_train_loss)):\n",
        "        wandb.log({\"loss\":epoch_train_loss[i],\"epoch\":(i+1)})\n",
        "    for i in range(len(epoch_val_loss)):\n",
        "        wandb.log({\"val_loss\":epoch_val_loss[i],\"epoch\":(i+1)})\n",
        "    for i in range(len(acc_train)):\n",
        "        wandb.log({\"accuracy\":acc_train[i],\"epoch\":(i+1)})\n",
        "    for i in range(len(acc_val)):\n",
        "        wandb.log({\"val_acc\":acc_val[i],\"epoch\":(i+1)})\n",
        "    wandb.log({\"accuracy\":acc_val[-1]})\n",
        "    \n",
        "\n",
        "    \n",
        "config = {\n",
        "    \"method\": 'random',\n",
        "    \"metric\": {\n",
        "    'name': 'accuracy',\n",
        "    'goal': 'maximize'\n",
        "    },\n",
        "    'parameters' :{\n",
        "    \"hidden_layers\": {\"values\":[3,4,5,6]},\n",
        "    \"neurons\": {\"values\": [32,64,128]},\n",
        "    \"learning_algorithm\": {\"values\":[\"momemtum_gradient_descent\",\"stochastic_gradient_descent\",\"nestrov_accelerated_gradient_descent\",\"rmsprop\",\"nadam\",\"adam\"]},\n",
        "    \"eta\": {\"values\":[1e-3,1e-4]},\n",
        "    \"epoch\": {\"values\":[5,10]},\n",
        "    \"batch_size\": {\"values\":[16,32,64]},\n",
        "    \"activation\": {\"values\":[\"tanh\",\"relu\",\"sigmoid\"]},\n",
        "    \"weight_init\":{\"values\":[\"random\",\"xavier\"]},\n",
        "    \"L2_lamb\":{\"values\":[0,0.0005,0.5]}\n",
        "    }\n",
        "}\n",
        "\n",
        "\n",
        "sweep_id=wandb.sweep(config,project=\"CS6910_Assignment-1\")\n",
        "wandb.agent(sweep_id,function=trainn,count=10)"
      ]
    },
    {
      "cell_type": "code",
      "execution_count": null,
      "metadata": {},
      "outputs": [],
      "source": []
    }
  ],
  "metadata": {
    "colab": {
      "provenance": []
    },
    "kernelspec": {
      "display_name": "Python 3",
      "language": "python",
      "name": "python3"
    },
    "language_info": {
      "codemirror_mode": {
        "name": "ipython",
        "version": 3
      },
      "file_extension": ".py",
      "mimetype": "text/x-python",
      "name": "python",
      "nbconvert_exporter": "python",
      "pygments_lexer": "ipython3",
      "version": "3.10.6"
    },
    "orig_nbformat": 4,
    "vscode": {
      "interpreter": {
        "hash": "f029a96fcde925865f209d04c046aca0c9550919b0e4a2b27b2863cc9a9c3f3e"
      }
    }
  },
  "nbformat": 4,
  "nbformat_minor": 0
}
